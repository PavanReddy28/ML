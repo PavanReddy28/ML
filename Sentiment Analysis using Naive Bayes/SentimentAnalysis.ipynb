{
  "nbformat": 4,
  "nbformat_minor": 0,
  "metadata": {
    "colab": {
      "name": "SentimentAnalysis.ipynb",
      "provenance": [],
      "collapsed_sections": [
        "0ShputfAB2Pq",
        "xA-HZD_cX1HT",
        "PsBYzs-0PAMz",
        "2Kg6X_YO08cr",
        "fulEUnGS0_Bh"
      ],
      "authorship_tag": "ABX9TyMANljWS03FdzO7StkMyymE",
      "include_colab_link": true
    },
    "kernelspec": {
      "name": "python3",
      "display_name": "Python 3"
    },
    "widgets": {
      "application/vnd.jupyter.widget-state+json": {
        "adbc82c52318418896d4064499a3b14d": {
          "model_module": "@jupyter-widgets/controls",
          "model_name": "HBoxModel",
          "state": {
            "_view_name": "HBoxView",
            "_dom_classes": [],
            "_model_name": "HBoxModel",
            "_view_module": "@jupyter-widgets/controls",
            "_model_module_version": "1.5.0",
            "_view_count": null,
            "_view_module_version": "1.5.0",
            "box_style": "",
            "layout": "IPY_MODEL_2f42cae4464e4c9fa7e10dcbf888a906",
            "_model_module": "@jupyter-widgets/controls",
            "children": [
              "IPY_MODEL_4bd45bc038fe487ab55b45a70eae82c3",
              "IPY_MODEL_0046e0e7cff045b5bbdd391ec0e52127"
            ]
          }
        },
        "2f42cae4464e4c9fa7e10dcbf888a906": {
          "model_module": "@jupyter-widgets/base",
          "model_name": "LayoutModel",
          "state": {
            "_view_name": "LayoutView",
            "grid_template_rows": null,
            "right": null,
            "justify_content": null,
            "_view_module": "@jupyter-widgets/base",
            "overflow": null,
            "_model_module_version": "1.2.0",
            "_view_count": null,
            "flex_flow": null,
            "width": null,
            "min_width": null,
            "border": null,
            "align_items": null,
            "bottom": null,
            "_model_module": "@jupyter-widgets/base",
            "top": null,
            "grid_column": null,
            "overflow_y": null,
            "overflow_x": null,
            "grid_auto_flow": null,
            "grid_area": null,
            "grid_template_columns": null,
            "flex": null,
            "_model_name": "LayoutModel",
            "justify_items": null,
            "grid_row": null,
            "max_height": null,
            "align_content": null,
            "visibility": null,
            "align_self": null,
            "height": null,
            "min_height": null,
            "padding": null,
            "grid_auto_rows": null,
            "grid_gap": null,
            "max_width": null,
            "order": null,
            "_view_module_version": "1.2.0",
            "grid_template_areas": null,
            "object_position": null,
            "object_fit": null,
            "grid_auto_columns": null,
            "margin": null,
            "display": null,
            "left": null
          }
        },
        "4bd45bc038fe487ab55b45a70eae82c3": {
          "model_module": "@jupyter-widgets/controls",
          "model_name": "FloatProgressModel",
          "state": {
            "_view_name": "ProgressView",
            "style": "IPY_MODEL_d3c903c1dea649469af0772032c27e9b",
            "_dom_classes": [],
            "description": "100%",
            "_model_name": "FloatProgressModel",
            "bar_style": "success",
            "max": 1600,
            "_view_module": "@jupyter-widgets/controls",
            "_model_module_version": "1.5.0",
            "value": 1600,
            "_view_count": null,
            "_view_module_version": "1.5.0",
            "orientation": "horizontal",
            "min": 0,
            "description_tooltip": null,
            "_model_module": "@jupyter-widgets/controls",
            "layout": "IPY_MODEL_75337f2c80f44807bc06cf30cd55d794"
          }
        },
        "0046e0e7cff045b5bbdd391ec0e52127": {
          "model_module": "@jupyter-widgets/controls",
          "model_name": "HTMLModel",
          "state": {
            "_view_name": "HTMLView",
            "style": "IPY_MODEL_f48d0431a5a64df7abd786c0bb65d5dd",
            "_dom_classes": [],
            "description": "",
            "_model_name": "HTMLModel",
            "placeholder": "​",
            "_view_module": "@jupyter-widgets/controls",
            "_model_module_version": "1.5.0",
            "value": " 1600/1600 [03:40&lt;00:00,  7.24it/s]",
            "_view_count": null,
            "_view_module_version": "1.5.0",
            "description_tooltip": null,
            "_model_module": "@jupyter-widgets/controls",
            "layout": "IPY_MODEL_8731048b27ac4570b6e582ccb1f2f2d6"
          }
        },
        "d3c903c1dea649469af0772032c27e9b": {
          "model_module": "@jupyter-widgets/controls",
          "model_name": "ProgressStyleModel",
          "state": {
            "_view_name": "StyleView",
            "_model_name": "ProgressStyleModel",
            "description_width": "initial",
            "_view_module": "@jupyter-widgets/base",
            "_model_module_version": "1.5.0",
            "_view_count": null,
            "_view_module_version": "1.2.0",
            "bar_color": null,
            "_model_module": "@jupyter-widgets/controls"
          }
        },
        "75337f2c80f44807bc06cf30cd55d794": {
          "model_module": "@jupyter-widgets/base",
          "model_name": "LayoutModel",
          "state": {
            "_view_name": "LayoutView",
            "grid_template_rows": null,
            "right": null,
            "justify_content": null,
            "_view_module": "@jupyter-widgets/base",
            "overflow": null,
            "_model_module_version": "1.2.0",
            "_view_count": null,
            "flex_flow": null,
            "width": null,
            "min_width": null,
            "border": null,
            "align_items": null,
            "bottom": null,
            "_model_module": "@jupyter-widgets/base",
            "top": null,
            "grid_column": null,
            "overflow_y": null,
            "overflow_x": null,
            "grid_auto_flow": null,
            "grid_area": null,
            "grid_template_columns": null,
            "flex": null,
            "_model_name": "LayoutModel",
            "justify_items": null,
            "grid_row": null,
            "max_height": null,
            "align_content": null,
            "visibility": null,
            "align_self": null,
            "height": null,
            "min_height": null,
            "padding": null,
            "grid_auto_rows": null,
            "grid_gap": null,
            "max_width": null,
            "order": null,
            "_view_module_version": "1.2.0",
            "grid_template_areas": null,
            "object_position": null,
            "object_fit": null,
            "grid_auto_columns": null,
            "margin": null,
            "display": null,
            "left": null
          }
        },
        "f48d0431a5a64df7abd786c0bb65d5dd": {
          "model_module": "@jupyter-widgets/controls",
          "model_name": "DescriptionStyleModel",
          "state": {
            "_view_name": "StyleView",
            "_model_name": "DescriptionStyleModel",
            "description_width": "",
            "_view_module": "@jupyter-widgets/base",
            "_model_module_version": "1.5.0",
            "_view_count": null,
            "_view_module_version": "1.2.0",
            "_model_module": "@jupyter-widgets/controls"
          }
        },
        "8731048b27ac4570b6e582ccb1f2f2d6": {
          "model_module": "@jupyter-widgets/base",
          "model_name": "LayoutModel",
          "state": {
            "_view_name": "LayoutView",
            "grid_template_rows": null,
            "right": null,
            "justify_content": null,
            "_view_module": "@jupyter-widgets/base",
            "overflow": null,
            "_model_module_version": "1.2.0",
            "_view_count": null,
            "flex_flow": null,
            "width": null,
            "min_width": null,
            "border": null,
            "align_items": null,
            "bottom": null,
            "_model_module": "@jupyter-widgets/base",
            "top": null,
            "grid_column": null,
            "overflow_y": null,
            "overflow_x": null,
            "grid_auto_flow": null,
            "grid_area": null,
            "grid_template_columns": null,
            "flex": null,
            "_model_name": "LayoutModel",
            "justify_items": null,
            "grid_row": null,
            "max_height": null,
            "align_content": null,
            "visibility": null,
            "align_self": null,
            "height": null,
            "min_height": null,
            "padding": null,
            "grid_auto_rows": null,
            "grid_gap": null,
            "max_width": null,
            "order": null,
            "_view_module_version": "1.2.0",
            "grid_template_areas": null,
            "object_position": null,
            "object_fit": null,
            "grid_auto_columns": null,
            "margin": null,
            "display": null,
            "left": null
          }
        },
        "d1d35ffcdfc045448146829d5706001a": {
          "model_module": "@jupyter-widgets/controls",
          "model_name": "HBoxModel",
          "state": {
            "_view_name": "HBoxView",
            "_dom_classes": [],
            "_model_name": "HBoxModel",
            "_view_module": "@jupyter-widgets/controls",
            "_model_module_version": "1.5.0",
            "_view_count": null,
            "_view_module_version": "1.5.0",
            "box_style": "",
            "layout": "IPY_MODEL_b424a1f247a4449daeddc0bf1c13186b",
            "_model_module": "@jupyter-widgets/controls",
            "children": [
              "IPY_MODEL_a54066f5aa6a41e0a875260128a29b8a",
              "IPY_MODEL_68306e9cd11240299ba57ce50812e75e"
            ]
          }
        },
        "b424a1f247a4449daeddc0bf1c13186b": {
          "model_module": "@jupyter-widgets/base",
          "model_name": "LayoutModel",
          "state": {
            "_view_name": "LayoutView",
            "grid_template_rows": null,
            "right": null,
            "justify_content": null,
            "_view_module": "@jupyter-widgets/base",
            "overflow": null,
            "_model_module_version": "1.2.0",
            "_view_count": null,
            "flex_flow": null,
            "width": null,
            "min_width": null,
            "border": null,
            "align_items": null,
            "bottom": null,
            "_model_module": "@jupyter-widgets/base",
            "top": null,
            "grid_column": null,
            "overflow_y": null,
            "overflow_x": null,
            "grid_auto_flow": null,
            "grid_area": null,
            "grid_template_columns": null,
            "flex": null,
            "_model_name": "LayoutModel",
            "justify_items": null,
            "grid_row": null,
            "max_height": null,
            "align_content": null,
            "visibility": null,
            "align_self": null,
            "height": null,
            "min_height": null,
            "padding": null,
            "grid_auto_rows": null,
            "grid_gap": null,
            "max_width": null,
            "order": null,
            "_view_module_version": "1.2.0",
            "grid_template_areas": null,
            "object_position": null,
            "object_fit": null,
            "grid_auto_columns": null,
            "margin": null,
            "display": null,
            "left": null
          }
        },
        "a54066f5aa6a41e0a875260128a29b8a": {
          "model_module": "@jupyter-widgets/controls",
          "model_name": "FloatProgressModel",
          "state": {
            "_view_name": "ProgressView",
            "style": "IPY_MODEL_09bb39b46f0f4d61a41581145c1e9d41",
            "_dom_classes": [],
            "description": "100%",
            "_model_name": "FloatProgressModel",
            "bar_style": "success",
            "max": 1000,
            "_view_module": "@jupyter-widgets/controls",
            "_model_module_version": "1.5.0",
            "value": 1000,
            "_view_count": null,
            "_view_module_version": "1.5.0",
            "orientation": "horizontal",
            "min": 0,
            "description_tooltip": null,
            "_model_module": "@jupyter-widgets/controls",
            "layout": "IPY_MODEL_ae5a7bc515f143d0b43989f023341d84"
          }
        },
        "68306e9cd11240299ba57ce50812e75e": {
          "model_module": "@jupyter-widgets/controls",
          "model_name": "HTMLModel",
          "state": {
            "_view_name": "HTMLView",
            "style": "IPY_MODEL_f15412980d2945c1a1b060ac829de61d",
            "_dom_classes": [],
            "description": "",
            "_model_name": "HTMLModel",
            "placeholder": "​",
            "_view_module": "@jupyter-widgets/controls",
            "_model_module_version": "1.5.0",
            "value": " 1000/1000 [00:38&lt;00:00, 25.90it/s]",
            "_view_count": null,
            "_view_module_version": "1.5.0",
            "description_tooltip": null,
            "_model_module": "@jupyter-widgets/controls",
            "layout": "IPY_MODEL_46d5460f34a049ea937823cb224c0e61"
          }
        },
        "09bb39b46f0f4d61a41581145c1e9d41": {
          "model_module": "@jupyter-widgets/controls",
          "model_name": "ProgressStyleModel",
          "state": {
            "_view_name": "StyleView",
            "_model_name": "ProgressStyleModel",
            "description_width": "initial",
            "_view_module": "@jupyter-widgets/base",
            "_model_module_version": "1.5.0",
            "_view_count": null,
            "_view_module_version": "1.2.0",
            "bar_color": null,
            "_model_module": "@jupyter-widgets/controls"
          }
        },
        "ae5a7bc515f143d0b43989f023341d84": {
          "model_module": "@jupyter-widgets/base",
          "model_name": "LayoutModel",
          "state": {
            "_view_name": "LayoutView",
            "grid_template_rows": null,
            "right": null,
            "justify_content": null,
            "_view_module": "@jupyter-widgets/base",
            "overflow": null,
            "_model_module_version": "1.2.0",
            "_view_count": null,
            "flex_flow": null,
            "width": null,
            "min_width": null,
            "border": null,
            "align_items": null,
            "bottom": null,
            "_model_module": "@jupyter-widgets/base",
            "top": null,
            "grid_column": null,
            "overflow_y": null,
            "overflow_x": null,
            "grid_auto_flow": null,
            "grid_area": null,
            "grid_template_columns": null,
            "flex": null,
            "_model_name": "LayoutModel",
            "justify_items": null,
            "grid_row": null,
            "max_height": null,
            "align_content": null,
            "visibility": null,
            "align_self": null,
            "height": null,
            "min_height": null,
            "padding": null,
            "grid_auto_rows": null,
            "grid_gap": null,
            "max_width": null,
            "order": null,
            "_view_module_version": "1.2.0",
            "grid_template_areas": null,
            "object_position": null,
            "object_fit": null,
            "grid_auto_columns": null,
            "margin": null,
            "display": null,
            "left": null
          }
        },
        "f15412980d2945c1a1b060ac829de61d": {
          "model_module": "@jupyter-widgets/controls",
          "model_name": "DescriptionStyleModel",
          "state": {
            "_view_name": "StyleView",
            "_model_name": "DescriptionStyleModel",
            "description_width": "",
            "_view_module": "@jupyter-widgets/base",
            "_model_module_version": "1.5.0",
            "_view_count": null,
            "_view_module_version": "1.2.0",
            "_model_module": "@jupyter-widgets/controls"
          }
        },
        "46d5460f34a049ea937823cb224c0e61": {
          "model_module": "@jupyter-widgets/base",
          "model_name": "LayoutModel",
          "state": {
            "_view_name": "LayoutView",
            "grid_template_rows": null,
            "right": null,
            "justify_content": null,
            "_view_module": "@jupyter-widgets/base",
            "overflow": null,
            "_model_module_version": "1.2.0",
            "_view_count": null,
            "flex_flow": null,
            "width": null,
            "min_width": null,
            "border": null,
            "align_items": null,
            "bottom": null,
            "_model_module": "@jupyter-widgets/base",
            "top": null,
            "grid_column": null,
            "overflow_y": null,
            "overflow_x": null,
            "grid_auto_flow": null,
            "grid_area": null,
            "grid_template_columns": null,
            "flex": null,
            "_model_name": "LayoutModel",
            "justify_items": null,
            "grid_row": null,
            "max_height": null,
            "align_content": null,
            "visibility": null,
            "align_self": null,
            "height": null,
            "min_height": null,
            "padding": null,
            "grid_auto_rows": null,
            "grid_gap": null,
            "max_width": null,
            "order": null,
            "_view_module_version": "1.2.0",
            "grid_template_areas": null,
            "object_position": null,
            "object_fit": null,
            "grid_auto_columns": null,
            "margin": null,
            "display": null,
            "left": null
          }
        }
      }
    }
  },
  "cells": [
    {
      "cell_type": "markdown",
      "metadata": {
        "id": "view-in-github",
        "colab_type": "text"
      },
      "source": [
        "<a href=\"https://colab.research.google.com/github/PavanReddy28/CRuX/blob/main/SentimentAnalysis.ipynb\" target=\"_parent\"><img src=\"https://colab.research.google.com/assets/colab-badge.svg\" alt=\"Open In Colab\"/></a>"
      ]
    },
    {
      "cell_type": "markdown",
      "metadata": {
        "id": "gAu1LDIvuoRL"
      },
      "source": [
        "# Sentiment Analysis"
      ]
    },
    {
      "cell_type": "markdown",
      "metadata": {
        "id": "wKaDf_4TxO96"
      },
      "source": [
        "Naive Bayes algorithms are a set of supervised statistical classification machine learning algorithms based on the Bayes probability theorem.\r\n",
        "\r\n",
        "Bayes theorem states that:\r\n",
        "\r\n",
        "P(A|B) = P(B|A) * P(A)/P(B)\r\n",
        "\r\n",
        "An important assumption made by Bayes theorem is that the value of a particular feature is independent from the value of any other feature for a given the class.\r\n",
        "\r\n",
        "**Dataset** used is 'Sentiment140' (https://www.kaggle.com/kazanova/sentiment140) which contains 1,600,000 tweets extracted using the twitter api.\r\n",
        "\r\n",
        "\r\n",
        "## Workflow of the model:\r\n",
        "\r\n",
        "(From each tweet, build a vocabulary that consists of words, it's sentiment and it's TF-IDF score. For any given string, it's sentiment is decided by multiplying the probability of each word occuring, using Bayes theorem.)\r\n",
        "\r\n",
        "Step 1: Calculate the prior probability for each class labels\r\n",
        "\r\n",
        "Step 2: Find likelihood probability with each attribute for each class\r\n",
        "\r\n",
        "Step 3: Put these value in Bayes Formula and calculate posterior probability\r\n",
        "\r\n",
        "Step 4: See which class has a higher probability, given the input belongs to the higher probability class."
      ]
    },
    {
      "cell_type": "markdown",
      "metadata": {
        "id": "8zOhpSkBB28-"
      },
      "source": [
        "## Packages"
      ]
    },
    {
      "cell_type": "code",
      "metadata": {
        "id": "lxg7HM77hna1"
      },
      "source": [
        "import nltk"
      ],
      "execution_count": 1,
      "outputs": []
    },
    {
      "cell_type": "code",
      "metadata": {
        "colab": {
          "base_uri": "https://localhost:8080/"
        },
        "id": "JGsj9S8whpfR",
        "outputId": "2ead40d2-3f23-4a04-fd29-500ec1ac3ad9"
      },
      "source": [
        "nltk.download('wordnet')\r\n",
        "nltk.download('stopwords')"
      ],
      "execution_count": 2,
      "outputs": [
        {
          "output_type": "stream",
          "text": [
            "[nltk_data] Downloading package wordnet to /root/nltk_data...\n",
            "[nltk_data]   Unzipping corpora/wordnet.zip.\n",
            "[nltk_data] Downloading package stopwords to /root/nltk_data...\n",
            "[nltk_data]   Unzipping corpora/stopwords.zip.\n"
          ],
          "name": "stdout"
        },
        {
          "output_type": "execute_result",
          "data": {
            "text/plain": [
              "True"
            ]
          },
          "metadata": {
            "tags": []
          },
          "execution_count": 2
        }
      ]
    },
    {
      "cell_type": "code",
      "metadata": {
        "id": "3tRdJPRHSSpq"
      },
      "source": [
        "import pandas as pd\r\n",
        "import numpy as np\r\n",
        "from matplotlib import pyplot as plt\r\n",
        "import time\r\n",
        "import torch\r\n",
        "from scipy.sparse import csr_matrix\r\n",
        "from sklearn.utils.extmath import safe_sparse_dot\r\n",
        "from tqdm.notebook import tqdm\r\n",
        "\r\n",
        "\r\n",
        "import re\r\n",
        "from nltk import WordNetLemmatizer\r\n",
        "from sklearn.feature_extraction.text import TfidfVectorizer\r\n",
        "from nltk.corpus import stopwords\r\n",
        "\r\n",
        "import seaborn as sns\r\n",
        "\r\n",
        "from sklearn.model_selection import train_test_split\r\n",
        "from sklearn.metrics import classification_report, confusion_matrix, accuracy_score\r\n",
        "import pickle"
      ],
      "execution_count": 3,
      "outputs": []
    },
    {
      "cell_type": "markdown",
      "metadata": {
        "id": "0ShputfAB2Pq"
      },
      "source": [
        "## Importing data"
      ]
    },
    {
      "cell_type": "code",
      "metadata": {
        "id": "7xWI8OYUZNUc",
        "colab": {
          "base_uri": "https://localhost:8080/"
        },
        "outputId": "fdc6c26a-50fb-4084-c3c7-c1572cc558b9"
      },
      "source": [
        "from google.colab import drive\r\n",
        "drive.mount('/gdrive')"
      ],
      "execution_count": 4,
      "outputs": [
        {
          "output_type": "stream",
          "text": [
            "Mounted at /gdrive\n"
          ],
          "name": "stdout"
        }
      ]
    },
    {
      "cell_type": "markdown",
      "metadata": {
        "id": "_7b37UP2SKW4"
      },
      "source": [
        "### Sentiment140 Dataset"
      ]
    },
    {
      "cell_type": "markdown",
      "metadata": {
        "id": "Ll0HW-mjND4F"
      },
      "source": [
        "Using the dataset **Sentiment140** contatining **1,600,000** tweets extracted using twitter api. (https://www.kaggle.com/kazanova/sentiment140)\r\n",
        "<br>The tweets are annoted as '0 : Negative', '2 : Neutral' and '4 : Positive'.\r\n",
        "<br>I have only used the positive and negative tweets to train my model."
      ]
    },
    {
      "cell_type": "code",
      "metadata": {
        "id": "v1NTvgd-Mgsm"
      },
      "source": [
        "twitter_dataset = pd.read_csv('/gdrive/My Drive/Inductions/training.1600000.processed.noemoticon.csv', encoding=\"ISO-8859-1\", names=[\"sentiment\", \"ids\", \"date\", \"flag\", \"user\", \"text\"])"
      ],
      "execution_count": 5,
      "outputs": []
    },
    {
      "cell_type": "code",
      "metadata": {
        "colab": {
          "base_uri": "https://localhost:8080/",
          "height": 204
        },
        "id": "Ortz5Y-cPt2L",
        "outputId": "52d12c8a-ed7f-41dd-cba9-c5f2b021fb32"
      },
      "source": [
        "twitter_dataset.head()"
      ],
      "execution_count": 6,
      "outputs": [
        {
          "output_type": "execute_result",
          "data": {
            "text/html": [
              "<div>\n",
              "<style scoped>\n",
              "    .dataframe tbody tr th:only-of-type {\n",
              "        vertical-align: middle;\n",
              "    }\n",
              "\n",
              "    .dataframe tbody tr th {\n",
              "        vertical-align: top;\n",
              "    }\n",
              "\n",
              "    .dataframe thead th {\n",
              "        text-align: right;\n",
              "    }\n",
              "</style>\n",
              "<table border=\"1\" class=\"dataframe\">\n",
              "  <thead>\n",
              "    <tr style=\"text-align: right;\">\n",
              "      <th></th>\n",
              "      <th>sentiment</th>\n",
              "      <th>ids</th>\n",
              "      <th>date</th>\n",
              "      <th>flag</th>\n",
              "      <th>user</th>\n",
              "      <th>text</th>\n",
              "    </tr>\n",
              "  </thead>\n",
              "  <tbody>\n",
              "    <tr>\n",
              "      <th>0</th>\n",
              "      <td>0</td>\n",
              "      <td>1467810369</td>\n",
              "      <td>Mon Apr 06 22:19:45 PDT 2009</td>\n",
              "      <td>NO_QUERY</td>\n",
              "      <td>_TheSpecialOne_</td>\n",
              "      <td>@switchfoot http://twitpic.com/2y1zl - Awww, t...</td>\n",
              "    </tr>\n",
              "    <tr>\n",
              "      <th>1</th>\n",
              "      <td>0</td>\n",
              "      <td>1467810672</td>\n",
              "      <td>Mon Apr 06 22:19:49 PDT 2009</td>\n",
              "      <td>NO_QUERY</td>\n",
              "      <td>scotthamilton</td>\n",
              "      <td>is upset that he can't update his Facebook by ...</td>\n",
              "    </tr>\n",
              "    <tr>\n",
              "      <th>2</th>\n",
              "      <td>0</td>\n",
              "      <td>1467810917</td>\n",
              "      <td>Mon Apr 06 22:19:53 PDT 2009</td>\n",
              "      <td>NO_QUERY</td>\n",
              "      <td>mattycus</td>\n",
              "      <td>@Kenichan I dived many times for the ball. Man...</td>\n",
              "    </tr>\n",
              "    <tr>\n",
              "      <th>3</th>\n",
              "      <td>0</td>\n",
              "      <td>1467811184</td>\n",
              "      <td>Mon Apr 06 22:19:57 PDT 2009</td>\n",
              "      <td>NO_QUERY</td>\n",
              "      <td>ElleCTF</td>\n",
              "      <td>my whole body feels itchy and like its on fire</td>\n",
              "    </tr>\n",
              "    <tr>\n",
              "      <th>4</th>\n",
              "      <td>0</td>\n",
              "      <td>1467811193</td>\n",
              "      <td>Mon Apr 06 22:19:57 PDT 2009</td>\n",
              "      <td>NO_QUERY</td>\n",
              "      <td>Karoli</td>\n",
              "      <td>@nationwideclass no, it's not behaving at all....</td>\n",
              "    </tr>\n",
              "  </tbody>\n",
              "</table>\n",
              "</div>"
            ],
            "text/plain": [
              "   sentiment  ...                                               text\n",
              "0          0  ...  @switchfoot http://twitpic.com/2y1zl - Awww, t...\n",
              "1          0  ...  is upset that he can't update his Facebook by ...\n",
              "2          0  ...  @Kenichan I dived many times for the ball. Man...\n",
              "3          0  ...    my whole body feels itchy and like its on fire \n",
              "4          0  ...  @nationwideclass no, it's not behaving at all....\n",
              "\n",
              "[5 rows x 6 columns]"
            ]
          },
          "metadata": {
            "tags": []
          },
          "execution_count": 6
        }
      ]
    },
    {
      "cell_type": "code",
      "metadata": {
        "colab": {
          "base_uri": "https://localhost:8080/"
        },
        "id": "6EPILBeXA1ga",
        "outputId": "4a237b7a-f38e-45e7-a311-0779951e1578"
      },
      "source": [
        "twitter_dataset['sentiment'].value_counts()"
      ],
      "execution_count": 7,
      "outputs": [
        {
          "output_type": "execute_result",
          "data": {
            "text/plain": [
              "4    800000\n",
              "0    800000\n",
              "Name: sentiment, dtype: int64"
            ]
          },
          "metadata": {
            "tags": []
          },
          "execution_count": 7
        }
      ]
    },
    {
      "cell_type": "markdown",
      "metadata": {
        "id": "J442IpvYXwVf"
      },
      "source": [
        "## Data Preprocessing"
      ]
    },
    {
      "cell_type": "code",
      "metadata": {
        "id": "OroosyT-PzsA"
      },
      "source": [
        "sentiment, text = twitter_dataset['sentiment'], twitter_dataset['text']"
      ],
      "execution_count": 8,
      "outputs": []
    },
    {
      "cell_type": "markdown",
      "metadata": {
        "id": "xA-HZD_cX1HT"
      },
      "source": [
        "### **Sentiment**\r\n",
        "\r\n",
        "Replacing 4's to 1's (Representation of Positive Data)."
      ]
    },
    {
      "cell_type": "code",
      "metadata": {
        "colab": {
          "base_uri": "https://localhost:8080/"
        },
        "id": "cxf6J3rTPzl-",
        "outputId": "165681d8-7cd4-4814-fc0c-fe96f30a92b5"
      },
      "source": [
        "sentiment.value_counts()"
      ],
      "execution_count": 9,
      "outputs": [
        {
          "output_type": "execute_result",
          "data": {
            "text/plain": [
              "4    800000\n",
              "0    800000\n",
              "Name: sentiment, dtype: int64"
            ]
          },
          "metadata": {
            "tags": []
          },
          "execution_count": 9
        }
      ]
    },
    {
      "cell_type": "code",
      "metadata": {
        "id": "GLkfUuUWV8V2"
      },
      "source": [
        "sentiment = sentiment.replace(4,1)"
      ],
      "execution_count": 10,
      "outputs": []
    },
    {
      "cell_type": "code",
      "metadata": {
        "colab": {
          "base_uri": "https://localhost:8080/"
        },
        "id": "WR69l6HjW0FK",
        "outputId": "28f39244-4f49-4fd2-9533-81c0378e3bba"
      },
      "source": [
        "sentiment.value_counts()"
      ],
      "execution_count": 11,
      "outputs": [
        {
          "output_type": "execute_result",
          "data": {
            "text/plain": [
              "1    800000\n",
              "0    800000\n",
              "Name: sentiment, dtype: int64"
            ]
          },
          "metadata": {
            "tags": []
          },
          "execution_count": 11
        }
      ]
    },
    {
      "cell_type": "code",
      "metadata": {
        "id": "f1RRs00rW86V"
      },
      "source": [
        ""
      ],
      "execution_count": 11,
      "outputs": []
    },
    {
      "cell_type": "markdown",
      "metadata": {
        "id": "ZwcAJypvYI5v"
      },
      "source": [
        "### **Text**"
      ]
    },
    {
      "cell_type": "markdown",
      "metadata": {
        "id": "k5GwHuEuoLvs"
      },
      "source": [
        "Preprocessing of text data include:\r\n",
        "<ol type = \"1\">\r\n",
        "<li>Converting all the data to **Lower Case**</li>\r\n",
        "         <li>Replaceing **User ID's** (\"@colab\", etc.) with \"USER\"</li>\r\n",
        "         <li>Replacing **Emojis** to text representation (According to Emoji Dictionary).</li>\r\n",
        "         <li>Replacing **URLs** (starting with \"http\", \"www\", etc.) with \"URL\"</li>\r\n",
        "         <li>Removing **Non-Alphabets**</li>\r\n",
        "         <li>**Tokenization** : Splitting of the tweets to, list of words.</li>\r\n",
        "         <li>**Lemmetization** : Grouping together the different forms of a work so that they can be analyzed as a single word. Done using NLTK Library.\r\n",
        "</li>\r\n",
        "<li>Removing letters repeated more than 3 times.</li>"
      ]
    },
    {
      "cell_type": "code",
      "metadata": {
        "id": "sWsftnx-c4Gp"
      },
      "source": [
        "#Emojis taken from the internet.\r\n",
        "\r\n",
        "emojis = {':)': 'smile', ':-)': 'smile', ';d': 'wink', ':-E': 'vampire', ':(': 'sad', \r\n",
        "          ':-(': 'sad', ':-<': 'sad', ':P': 'raspberry', ':O': 'surprised',\r\n",
        "          ':-@': 'shocked', ':@': 'shocked',':-$': 'confused', ':\\\\': 'annoyed', \r\n",
        "          ':#': 'mute', ':X': 'mute', ':^)': 'smile', ':-&': 'confused', '$_$': 'greedy',\r\n",
        "          '@@': 'eyeroll', ':-!': 'confused', ':-D': 'smile', ':-0': 'yell', 'O.o': 'confused',\r\n",
        "          '<(-_-)>': 'robot', 'd[-_-]b': 'dj', \":'-)\": 'sadsmile', ';)': 'wink', \r\n",
        "          ';-)': 'wink', 'O:-)': 'angel','O*-)': 'angel','(:-D': 'gossip', '=^.^=': 'cat'}"
      ],
      "execution_count": 12,
      "outputs": []
    },
    {
      "cell_type": "code",
      "metadata": {
        "id": "CH85JF7IbsNB"
      },
      "source": [
        "def data_preprocess(textdata):\r\n",
        "\r\n",
        "  lemmatizer = WordNetLemmatizer()\r\n",
        "\r\n",
        "  Processed =[]\r\n",
        "\r\n",
        "  urlPattern = r\"((http://)[^ ]*|(https://)[^ ]*|( www\\.)[^ ]*)\"\r\n",
        "  userPattern = '@[^\\s]+'\r\n",
        "  alphaPattern = r\"[^\\w]\"\r\n",
        "  sequenceFind = r\"(.)\\1\\1+\"\r\n",
        "  sequenceReplace = r\"\\1\\1\"\r\n",
        "\r\n",
        "  for tweet in textdata:\r\n",
        "\r\n",
        "    tweet = tweet.lower()\r\n",
        "\r\n",
        "    tweet = re.sub(urlPattern, 'URL ', tweet)\r\n",
        "    tweet = re.sub(userPattern, 'USER ', tweet)\r\n",
        "    tweet = re.sub(alphaPattern, ' ', tweet)\r\n",
        "    tweet = re.sub(sequenceFind, sequenceReplace, tweet)\r\n",
        "\r\n",
        "    for emoji in emojis.keys():\r\n",
        "      tweet = tweet.replace(emoji, \"EMOJI\"+emojis[emoji])\r\n",
        "\r\n",
        "    tweetWords = ''\r\n",
        "    for text in tweet.split():\r\n",
        "      if len(text)>1:\r\n",
        "        text = lemmatizer.lemmatize(text)\r\n",
        "        tweetWords += (text +' ')\r\n",
        "    \r\n",
        "    Processed.append(tweetWords)\r\n",
        "\r\n",
        "  return Processed\r\n"
      ],
      "execution_count": 13,
      "outputs": []
    },
    {
      "cell_type": "code",
      "metadata": {
        "colab": {
          "base_uri": "https://localhost:8080/"
        },
        "id": "eDlk6dcNg0S9",
        "outputId": "9f0ee478-ecda-4372-d68b-36936843a3ee"
      },
      "source": [
        "%%time\r\n",
        "text = data_preprocess(text)\r\n",
        "print('Data Processed.')"
      ],
      "execution_count": 14,
      "outputs": [
        {
          "output_type": "stream",
          "text": [
            "Data Processed.\n",
            "CPU times: user 2min 4s, sys: 793 ms, total: 2min 5s\n",
            "Wall time: 2min 7s\n"
          ],
          "name": "stdout"
        }
      ]
    },
    {
      "cell_type": "markdown",
      "metadata": {
        "id": "PsBYzs-0PAMz"
      },
      "source": [
        "### Train Test Split"
      ]
    },
    {
      "cell_type": "code",
      "metadata": {
        "id": "buX2UqZ3hEXb"
      },
      "source": [
        "X_train, X_test, Y_train, Y_test = train_test_split(text, sentiment, train_size = 0.001,test_size=0.0001, random_state=0)"
      ],
      "execution_count": 15,
      "outputs": []
    },
    {
      "cell_type": "code",
      "metadata": {
        "colab": {
          "base_uri": "https://localhost:8080/"
        },
        "id": "0dNImZjQPEX4",
        "outputId": "ef790a08-ed4d-4d52-a80d-32c2cd30a1e7"
      },
      "source": [
        "X_test[:10]"
      ],
      "execution_count": 16,
      "outputs": [
        {
          "output_type": "execute_result",
          "data": {
            "text/plain": [
              "['want to compete want hard competition want to rally want to feel the power coming out of the engine want to compete ',\n",
              " 'it seems we are stuck on the ground in amarillo they have put ground stop for all flight leaving for denver said update in an hour ',\n",
              " 'where the are my pinking shear rarararrarararr babyproofing while cutting stuff make me stick shear random place amp forget them ',\n",
              " '0ff t0 the meetin hate when ppl v0lunteer my free time grr ',\n",
              " 'reply me pls ',\n",
              " 'USER jazz in india is just honda strategy to prove they can make affordable car for the working class it still doesn fit me ',\n",
              " 'aah met boy he seems nice im happy now ',\n",
              " 'USER URL sport center you guy are too legit to quit wooww ',\n",
              " 'USER not bad bit grumpy cause of exam but generally ok ta ',\n",
              " 'USER can watch it what is it ']"
            ]
          },
          "metadata": {
            "tags": []
          },
          "execution_count": 16
        }
      ]
    },
    {
      "cell_type": "markdown",
      "metadata": {
        "id": "V-I6K2S2kLmi"
      },
      "source": [
        "### **TF-IDF Vectorizer**"
      ]
    },
    {
      "cell_type": "markdown",
      "metadata": {
        "id": "N6H7Fm7-oSgl"
      },
      "source": [
        "The <b>'tfidfVectorizer()'</b> method from the sklearn.feature_extraction package, helps convert a collection of raw documents to a matrix of TF-IDF features.\r\n",
        "\r\n",
        "It returns a list of features (here, words are the features) and their respective TF-IDF (Text Frequency - Inverse Document Frequency) scores.\r\n",
        "<br>\r\n",
        "\r\n",
        "--------------------------------\r\n",
        "\r\n",
        "**Example**:\r\n",
        "<br>\r\n",
        "INPUT: corpus = ['This is the first document.','This document is the second document.','And this is the third one.','Is this the first document?',]\r\n",
        "<br><br>When the above list is passed through the vectorizer the below list is returned.\r\n",
        "<br><br>OUTPUT: ['and', 'document', 'first', 'is', 'one', 'second', 'the', 'third', 'this']\r\n",
        "\r\n",
        "-------------------------------------\r\n",
        "Setting the Parameters in TF-IDF Vectorizer:\r\n",
        "<ol>\r\n",
        "<li>Here, I have set <b>n-gram range</b> to (1,2), so that a max of two words can be taken as key words at once (for example: \"Very Delicious\" will give three features \"Very\", \"Delicious\" and \"Very Delicious\").</li>\r\n",
        "<li>Also I set the number of <b>max_features</b> to 100000, so that only the words with hgher scores  are included in the future analysis.</li>\r\n",
        "</ol>"
      ]
    },
    {
      "cell_type": "code",
      "metadata": {
        "id": "PJx_zd_Fj9Ww"
      },
      "source": [
        "Vectorizer = TfidfVectorizer(ngram_range=(1,2), lowercase=True, max_features=1000, stop_words=list(stopwords.words('english')))"
      ],
      "execution_count": 17,
      "outputs": []
    },
    {
      "cell_type": "code",
      "metadata": {
        "colab": {
          "base_uri": "https://localhost:8080/"
        },
        "id": "Ud-hVNQSoupE",
        "outputId": "8d26defa-c4a5-4eb2-8db3-3da82bb03c44"
      },
      "source": [
        "Vectorizer.fit(X_train)"
      ],
      "execution_count": 18,
      "outputs": [
        {
          "output_type": "execute_result",
          "data": {
            "text/plain": [
              "TfidfVectorizer(analyzer='word', binary=False, decode_error='strict',\n",
              "                dtype=<class 'numpy.float64'>, encoding='utf-8',\n",
              "                input='content', lowercase=True, max_df=1.0, max_features=1000,\n",
              "                min_df=1, ngram_range=(1, 2), norm='l2', preprocessor=None,\n",
              "                smooth_idf=True,\n",
              "                stop_words=['i', 'me', 'my', 'myself', 'we', 'our', 'ours',\n",
              "                            'ourselves', 'you', \"you're\", \"you've\", \"you'll\",\n",
              "                            \"you'd\", 'your', 'yours', 'yourself', 'yourselves',\n",
              "                            'he', 'him', 'his', 'himself', 'she', \"she's\",\n",
              "                            'her', 'hers', 'herself', 'it', \"it's\", 'its',\n",
              "                            'itself', ...],\n",
              "                strip_accents=None, sublinear_tf=False,\n",
              "                token_pattern='(?u)\\\\b\\\\w\\\\w+\\\\b', tokenizer=None, use_idf=True,\n",
              "                vocabulary=None)"
            ]
          },
          "metadata": {
            "tags": []
          },
          "execution_count": 18
        }
      ]
    },
    {
      "cell_type": "code",
      "metadata": {
        "id": "fFLBXQMHpN0O"
      },
      "source": [
        "X_train = Vectorizer.transform(X_train)\r\n",
        "#X_test = Vectorizer.transform(X_test)"
      ],
      "execution_count": 19,
      "outputs": []
    },
    {
      "cell_type": "code",
      "metadata": {
        "colab": {
          "base_uri": "https://localhost:8080/"
        },
        "id": "6eO74JgZ7SQ9",
        "outputId": "683a20e3-31e8-402a-884f-79f7e72838c7"
      },
      "source": [
        "X_train[:10]"
      ],
      "execution_count": 20,
      "outputs": [
        {
          "output_type": "execute_result",
          "data": {
            "text/plain": [
              "<10x1000 sparse matrix of type '<class 'numpy.float64'>'\n",
              "\twith 50 stored elements in Compressed Sparse Row format>"
            ]
          },
          "metadata": {
            "tags": []
          },
          "execution_count": 20
        }
      ]
    },
    {
      "cell_type": "code",
      "metadata": {
        "colab": {
          "base_uri": "https://localhost:8080/"
        },
        "id": "z37EpbTViasV",
        "outputId": "80f39746-d0ca-4dc2-c6dc-f303caef28b9"
      },
      "source": [
        "#Example using the 1st tweet\r\n",
        "df = pd.DataFrame(X_train[0].T.todense(), index=Vectorizer.get_feature_names(), columns=[\"TF-IDF\"])\r\n",
        "df = df.sort_values('TF-IDF', ascending=False)\r\n",
        "print (df.head(50))"
      ],
      "execution_count": 21,
      "outputs": [
        {
          "output_type": "stream",
          "text": [
            "               TF-IDF\n",
            "busy         0.656481\n",
            "busy busy    0.393284\n",
            "mm           0.355838\n",
            "study        0.355838\n",
            "home         0.263740\n",
            "work         0.221592\n",
            "good         0.206051\n",
            "saw          0.000000\n",
            "say          0.000000\n",
            "second       0.000000\n",
            "save         0.000000\n",
            "sat          0.000000\n",
            "school       0.000000\n",
            "said         0.000000\n",
            "sad          0.000000\n",
            "season       0.000000\n",
            "running      0.000000\n",
            "saying       0.000000\n",
            "see user     0.000000\n",
            "see          0.000000\n",
            "seeing       0.000000\n",
            "seem         0.000000\n",
            "seems        0.000000\n",
            "seen         0.000000\n",
            "send         0.000000\n",
            "serious      0.000000\n",
            "seriously    0.000000\n",
            "server       0.000000\n",
            "service      0.000000\n",
            "set          0.000000\n",
            "share        0.000000\n",
            "shirt        0.000000\n",
            "shit         0.000000\n",
            "shopping     0.000000\n",
            "run          0.000000\n",
            "10           0.000000\n",
            "round        0.000000\n",
            "really want  0.000000\n",
            "quite        0.000000\n",
            "quot         0.000000\n",
            "quot quot    0.000000\n",
            "radio        0.000000\n",
            "rain         0.000000\n",
            "raining      0.000000\n",
            "random       0.000000\n",
            "read         0.000000\n",
            "reading      0.000000\n",
            "ready        0.000000\n",
            "real         0.000000\n",
            "really       0.000000\n"
          ],
          "name": "stdout"
        }
      ]
    },
    {
      "cell_type": "markdown",
      "metadata": {
        "id": "dv7uwfgLSlFY"
      },
      "source": [
        "## Model"
      ]
    },
    {
      "cell_type": "markdown",
      "metadata": {
        "id": "mKHOox-eSnnL"
      },
      "source": [
        "### Naive Bayes"
      ]
    },
    {
      "cell_type": "markdown",
      "metadata": {
        "id": "-k9EDeZcNkgo"
      },
      "source": [
        "<b>Fit Method</b>\r\n",
        "<br>\r\n",
        "Here TFIDF represents the Text Frequency Inverse Document Frequency Score.\r\n",
        "<br>\r\n",
        "<br>\r\n",
        "$$parameters(pos) =P(W|pos) = \\frac{TFIDF(W)_{pos} + \\alpha}{\\sum{TFIDF_{pos}} + \\alpha*V }\\tag{2} $$\r\n",
        "<br>\r\n",
        "$$parameters(neg)=P(W|neg) = \\frac{TFIDF(W)_{neg} + \\alpha}{\\sum{TFIDF_{neg}} + \\alpha*V} $$\r\n",
        "\r\n",
        "<br><br>\r\n",
        "\r\n",
        "<b>Predict Method</b>:\r\n",
        "$$P(pos|(w1,w2....wn)) = P(pos)*\\prod_{i=1}^{n}P(w_{i}|pos)\\tag{1} $$\r\n",
        "<br>\r\n",
        "$$P(neg|(w1,w2....wn)) = P(neg)*\\prod_{i=1}^{n}P(w_{i}|neg) \r\n",
        "$$\r\n"
      ]
    },
    {
      "cell_type": "code",
      "metadata": {
        "id": "QO1_pYmnSm51"
      },
      "source": [
        "class NaiveBayesAlgo:\r\n",
        "\r\n",
        "  def __init__(self, alpha=1):\r\n",
        "    self.vocab={}\r\n",
        "    self.prob_pos_words = {}\r\n",
        "    self.prob_neg_words = {}  \r\n",
        "    self.pos_score = 0\r\n",
        "    self.neg_score = 0\r\n",
        "    self.pos_prior = 0\r\n",
        "    self.neg_prior = 0\r\n",
        "    self.alpha = alpha\r\n",
        "\r\n",
        "        \r\n",
        "\r\n",
        "  def fit(self, X, Y, Vectorizer, initialize=False):\r\n",
        "\r\n",
        "    if initialize:\r\n",
        "      self.vocab = {}\r\n",
        "      self.prob_pos_words = {}\r\n",
        "      self.prob_neg_words = {}\r\n",
        "      self.pos_score = 0\r\n",
        "      self.neg_score = 0\r\n",
        "      self.pos_prior = 0\r\n",
        "      self.neg_prior = 0\r\n",
        "\r\n",
        "    for i in tqdm(range(X.shape[0])):\r\n",
        "      df = pd.DataFrame(X[i].T.todense(), index = Vectorizer.get_feature_names(), columns=['TF-IDF'])\r\n",
        "      df = df.sort_values('TF-IDF', ascending=False)\r\n",
        "      #self.vocab_create(df, Y[i], list(Vectorizer.get_feature_names()))  \r\n",
        "      li = Vectorizer.get_feature_names()\r\n",
        "      boolVal = Y[i]\r\n",
        "      for word in li:\r\n",
        "        #print(df.loc[word][0])\r\n",
        "        if df.loc[word][0]>0:\r\n",
        "          if word in list(self.vocab.keys()):\r\n",
        "            if boolVal in list(self.vocab[word].keys()):\r\n",
        "              self.vocab[word][boolVal] += df.loc[word][0]\r\n",
        "            else:\r\n",
        "              self.vocab[word][boolVal] = df.loc[word][0]\r\n",
        "          if word not in list(self.vocab.keys()):\r\n",
        "            self.vocab[word] = {boolVal : df.loc[word][0]}\r\n",
        "          \r\n",
        "          if boolVal==1 :\r\n",
        "            self.pos_score += self.vocab[word][boolVal]\r\n",
        "          else:\r\n",
        "            self.neg_score += self.vocab[word][boolVal]\r\n",
        "\r\n",
        "    #print(list(self.vocab.keys()))\r\n",
        "    \r\n",
        "    for word in tqdm(list(self.vocab.keys())):\r\n",
        "        \r\n",
        "      if 1 in list(self.vocab[word].keys()):\r\n",
        "        self.prob_pos_words[word] = (self.vocab[word][1] + self.alpha) / (self.pos_score + (self.alpha * len(Vectorizer.get_feature_names())))\r\n",
        "\r\n",
        "      if 0 in list(self.vocab[word].keys()):\r\n",
        "        self.prob_neg_words[word] = (self.vocab[word][0] + self.alpha) / (self.neg_score + (self.alpha * len(Vectorizer.get_feature_names())))\r\n",
        "        \r\n",
        "\r\n",
        "    self.pos_prior = self.pos_score/(self.pos_score + self.neg_score)\r\n",
        "    self.neg_prior = self.neg_score/(self.pos_score + self.neg_score)\r\n",
        "\r\n",
        "\r\n",
        "  def predict(self, X):\r\n",
        "    '''\r\n",
        "    Input a list containing preprocessed tweets.\r\n",
        "    '''\r\n",
        "    pos_prob = self.pos_prior\r\n",
        "    neg_prob = self.neg_prior\r\n",
        "    y_true=[]\r\n",
        "    for i in range(len(X)):\r\n",
        "      for word in X[i].split():\r\n",
        "        #print(word, i)\r\n",
        "        if word in list(self.prob_pos_words.keys()):\r\n",
        "          if self.prob_pos_words[word]>0:\r\n",
        "            pos_prob *= self.prob_pos_words[word]\r\n",
        "        \r\n",
        "        if word in list(self.prob_neg_words.keys()):\r\n",
        "          if self.prob_neg_words[word]>0:\r\n",
        "            neg_prob *= self.prob_neg_words[word]\r\n",
        "        \r\n",
        "        ##print(X[i], ' pos = ', pos_prob, 'neg= ',neg_prob)\r\n",
        "\r\n",
        "      if pos_prob >= neg_prob:\r\n",
        "        y_true.append(1)\r\n",
        "      else:\r\n",
        "        y_true.append(0)\r\n",
        "      #print(pos_prob, neg_prob)\r\n",
        "      pos_prob = self.pos_prior\r\n",
        "      neg_prob = self.neg_prior\r\n",
        "\r\n",
        "    return y_true\r\n",
        "\r\n",
        "  \r\n",
        "  def evaluate(self, x_test, y_test):\r\n",
        "    \r\n",
        "    y_pred = self.predict(x_test)\r\n",
        "    print(classification_report(y_test, y_pred))\r\n",
        "\r\n",
        "    cf_matrix = confusion_matrix(y_test, y_pred)\r\n",
        "\r\n",
        "    categories  = ['Negative','Positive']\r\n",
        "    group_names = ['True Neg','False Pos', 'False Neg','True Pos']\r\n",
        "    group_percentages = ['{0:.2%}'.format(value) for value in cf_matrix.flatten() / np.sum(cf_matrix)]\r\n",
        "\r\n",
        "    labels = [f'{v1}\\n{v2}' for v1, v2 in zip(group_names,group_percentages)]\r\n",
        "    labels = np.asarray(labels).reshape(2,2)\r\n",
        "\r\n",
        "    sns.heatmap(cf_matrix, annot = labels, cmap = 'Blues',fmt = '',\r\n",
        "                xticklabels = categories, yticklabels = categories)\r\n",
        "\r\n",
        "    plt.xlabel(\"Predicted values\", fontdict = {'size':14}, labelpad = 10)\r\n",
        "    plt.ylabel(\"Actual values\"   , fontdict = {'size':14}, labelpad = 10)\r\n",
        "    plt.title (\"Confusion Matrix\", fontdict = {'size':18}, pad = 20)"
      ],
      "execution_count": 22,
      "outputs": []
    },
    {
      "cell_type": "markdown",
      "metadata": {
        "id": "2Kg6X_YO08cr"
      },
      "source": [
        "### Training"
      ]
    },
    {
      "cell_type": "code",
      "metadata": {
        "id": "v9Tw6QCV0-dD"
      },
      "source": [
        "NB = NaiveBayesAlgo()"
      ],
      "execution_count": 23,
      "outputs": []
    },
    {
      "cell_type": "code",
      "metadata": {
        "id": "0rei3TtPtFDk",
        "colab": {
          "base_uri": "https://localhost:8080/",
          "height": 149,
          "referenced_widgets": [
            "adbc82c52318418896d4064499a3b14d",
            "2f42cae4464e4c9fa7e10dcbf888a906",
            "4bd45bc038fe487ab55b45a70eae82c3",
            "0046e0e7cff045b5bbdd391ec0e52127",
            "d3c903c1dea649469af0772032c27e9b",
            "75337f2c80f44807bc06cf30cd55d794",
            "f48d0431a5a64df7abd786c0bb65d5dd",
            "8731048b27ac4570b6e582ccb1f2f2d6",
            "d1d35ffcdfc045448146829d5706001a",
            "b424a1f247a4449daeddc0bf1c13186b",
            "a54066f5aa6a41e0a875260128a29b8a",
            "68306e9cd11240299ba57ce50812e75e",
            "09bb39b46f0f4d61a41581145c1e9d41",
            "ae5a7bc515f143d0b43989f023341d84",
            "f15412980d2945c1a1b060ac829de61d",
            "46d5460f34a049ea937823cb224c0e61"
          ]
        },
        "outputId": "8207327b-db36-4f90-8997-7ea2562bf041"
      },
      "source": [
        "%%time\r\n",
        "NB.fit(X_train, list(Y_train), Vectorizer, initialize=True)"
      ],
      "execution_count": 24,
      "outputs": [
        {
          "output_type": "display_data",
          "data": {
            "application/vnd.jupyter.widget-view+json": {
              "model_id": "adbc82c52318418896d4064499a3b14d",
              "version_minor": 0,
              "version_major": 2
            },
            "text/plain": [
              "HBox(children=(FloatProgress(value=0.0, max=1600.0), HTML(value='')))"
            ]
          },
          "metadata": {
            "tags": []
          }
        },
        {
          "output_type": "stream",
          "text": [
            "\n"
          ],
          "name": "stdout"
        },
        {
          "output_type": "display_data",
          "data": {
            "application/vnd.jupyter.widget-view+json": {
              "model_id": "d1d35ffcdfc045448146829d5706001a",
              "version_minor": 0,
              "version_major": 2
            },
            "text/plain": [
              "HBox(children=(FloatProgress(value=0.0, max=1000.0), HTML(value='')))"
            ]
          },
          "metadata": {
            "tags": []
          }
        },
        {
          "output_type": "stream",
          "text": [
            "\n",
            "CPU times: user 2min 58s, sys: 1.23 s, total: 2min 59s\n",
            "Wall time: 3min 3s\n"
          ],
          "name": "stdout"
        }
      ]
    },
    {
      "cell_type": "markdown",
      "metadata": {
        "id": "fulEUnGS0_Bh"
      },
      "source": [
        "### Saving Models"
      ]
    },
    {
      "cell_type": "code",
      "metadata": {
        "id": "xlL76_GM1Ak1"
      },
      "source": [
        "file = open('/gdrive/My Drive/Inductions/vectorizer-ngram_1-2.pickle','wb')\r\n",
        "pickle.dump(Vectorizer, file)\r\n",
        "file.close()\r\n",
        "\r\n",
        "file = open('/gdrive/My Drive/Inductions/Sentiment-BNB.pickle','wb')\r\n",
        "pickle.dump(NB, file)\r\n",
        "file.close()"
      ],
      "execution_count": 31,
      "outputs": []
    },
    {
      "cell_type": "markdown",
      "metadata": {
        "id": "mRGH1s4R0Wea"
      },
      "source": [
        "## Evaluation"
      ]
    },
    {
      "cell_type": "code",
      "metadata": {
        "colab": {
          "base_uri": "https://localhost:8080/",
          "height": 476
        },
        "id": "4K59ro7ktP1S",
        "outputId": "5f5547cd-b89d-4229-dce9-a717df4aceba"
      },
      "source": [
        "NB.evaluate(X_test, list(Y_test))"
      ],
      "execution_count": 25,
      "outputs": [
        {
          "output_type": "stream",
          "text": [
            "              precision    recall  f1-score   support\n",
            "\n",
            "           0       0.52      0.71      0.60        76\n",
            "           1       0.61      0.40      0.49        84\n",
            "\n",
            "    accuracy                           0.55       160\n",
            "   macro avg       0.56      0.56      0.54       160\n",
            "weighted avg       0.57      0.55      0.54       160\n",
            "\n"
          ],
          "name": "stdout"
        },
        {
          "output_type": "display_data",
          "data": {
            "image/png": "[encoded data removed]",
            "text/plain": [
              "<Figure size 432x288 with 2 Axes>"
            ]
          },
          "metadata": {
            "tags": [],
            "needs_background": "light"
          }
        }
      ]
    },
    {
      "cell_type": "code",
      "metadata": {
        "colab": {
          "base_uri": "https://localhost:8080/"
        },
        "id": "36HL_JMxuy3B",
        "outputId": "c5e77c41-d58f-4ef3-ea2d-ac86bdb6c0b9"
      },
      "source": [
        "Y_pred = NB.predict(X_test)\r\n",
        "print('Naive Bayes Accuracy =', accuracy_score(y_pred=Y_pred, y_true=Y_test))"
      ],
      "execution_count": 27,
      "outputs": [
        {
          "output_type": "stream",
          "text": [
            "Naive Bayes Accuracy = 0.55\n"
          ],
          "name": "stdout"
        }
      ]
    },
    {
      "cell_type": "markdown",
      "metadata": {
        "id": "WGz9g8SDwdGG"
      },
      "source": [
        "The accuracy that we get is around 55%, which is good, since it's a basic model and also, we are not considering the semantic relation between the words."
      ]
    },
    {
      "cell_type": "markdown",
      "metadata": {
        "id": "k6eBKX0r05ou"
      },
      "source": [
        "## Prediction"
      ]
    },
    {
      "cell_type": "markdown",
      "metadata": {
        "id": "ZRuUCYsP1g8n"
      },
      "source": [
        "### Load Models"
      ]
    },
    {
      "cell_type": "code",
      "metadata": {
        "id": "mdilzY1z1iHR"
      },
      "source": [
        "file = open('/gdrive/My Drive/Inductions/vectorizer-ngram_1-2.pickle', 'rb')\r\n",
        "Vectorizer = pickle.load(file)\r\n",
        "file.close()\r\n",
        "\r\n",
        "file = open('/gdrive/My Drive/Inductions/Sentiment-BNB.pickle', 'rb')\r\n",
        "NaiveBayes = pickle.load(file)\r\n",
        "file.close()"
      ],
      "execution_count": 32,
      "outputs": []
    },
    {
      "cell_type": "markdown",
      "metadata": {
        "id": "XUG-ZN5F1jAV"
      },
      "source": [
        "### Predict"
      ]
    },
    {
      "cell_type": "code",
      "metadata": {
        "id": "_aqoBEdGK27V"
      },
      "source": [
        "text = ['want to compete want hard competition want to rally want to feel the power coming out of the engine want to compete ',\r\n",
        " 'it seems we are stuck on the ground in amarillo they have put ground stop for all flight leaving for denver said update in an hour ',\r\n",
        " 'where the are my pinking shear rarararrarararr babyproofing while cutting stuff make me stick shear random place amp forget them ',\r\n",
        " '0ff t0 the meetin hate when ppl v0lunteer my free time grr ',\r\n",
        " 'reply me pls ',\r\n",
        " 'USER jazz in india is just honda strategy to prove they can make affordable car for the working class it still doesn fit me ',\r\n",
        " 'aah met boy he seems nice im happy now ',\r\n",
        " 'USER URL sport center you guy are too legit to quit wooww ',\r\n",
        " 'USER not bad bit grumpy cause of exam but generally ok ta ',\r\n",
        " 'USER can watch it what is it '\r\n",
        " ,'Good Boy']"
      ],
      "execution_count": 36,
      "outputs": []
    },
    {
      "cell_type": "code",
      "metadata": {
        "colab": {
          "base_uri": "https://localhost:8080/",
          "height": 390
        },
        "id": "lm0V6u361kFL",
        "outputId": "24e235de-b7fd-4bc2-eb23-6651956b50c3"
      },
      "source": [
        "sentiment = NaiveBayes.predict(text)\r\n",
        "\r\n",
        "\r\n",
        "data = []\r\n",
        "for text, pred in zip(text, sentiment):\r\n",
        "    data.append((text,pred))\r\n",
        "    \r\n",
        "df = pd.DataFrame(data, columns = ['text','sentiment'])\r\n",
        "df = df.replace([0,1], [\"Negative\",\"Positive\"])\r\n",
        "df"
      ],
      "execution_count": 37,
      "outputs": [
        {
          "output_type": "execute_result",
          "data": {
            "text/html": [
              "<div>\n",
              "<style scoped>\n",
              "    .dataframe tbody tr th:only-of-type {\n",
              "        vertical-align: middle;\n",
              "    }\n",
              "\n",
              "    .dataframe tbody tr th {\n",
              "        vertical-align: top;\n",
              "    }\n",
              "\n",
              "    .dataframe thead th {\n",
              "        text-align: right;\n",
              "    }\n",
              "</style>\n",
              "<table border=\"1\" class=\"dataframe\">\n",
              "  <thead>\n",
              "    <tr style=\"text-align: right;\">\n",
              "      <th></th>\n",
              "      <th>text</th>\n",
              "      <th>sentiment</th>\n",
              "    </tr>\n",
              "  </thead>\n",
              "  <tbody>\n",
              "    <tr>\n",
              "      <th>0</th>\n",
              "      <td>want to compete want hard competition want to ...</td>\n",
              "      <td>Negative</td>\n",
              "    </tr>\n",
              "    <tr>\n",
              "      <th>1</th>\n",
              "      <td>it seems we are stuck on the ground in amarill...</td>\n",
              "      <td>Positive</td>\n",
              "    </tr>\n",
              "    <tr>\n",
              "      <th>2</th>\n",
              "      <td>where the are my pinking shear rarararrarararr...</td>\n",
              "      <td>Negative</td>\n",
              "    </tr>\n",
              "    <tr>\n",
              "      <th>3</th>\n",
              "      <td>0ff t0 the meetin hate when ppl v0lunteer my f...</td>\n",
              "      <td>Negative</td>\n",
              "    </tr>\n",
              "    <tr>\n",
              "      <th>4</th>\n",
              "      <td>reply me pls</td>\n",
              "      <td>Positive</td>\n",
              "    </tr>\n",
              "    <tr>\n",
              "      <th>5</th>\n",
              "      <td>USER jazz in india is just honda strategy to p...</td>\n",
              "      <td>Negative</td>\n",
              "    </tr>\n",
              "    <tr>\n",
              "      <th>6</th>\n",
              "      <td>aah met boy he seems nice im happy now</td>\n",
              "      <td>Negative</td>\n",
              "    </tr>\n",
              "    <tr>\n",
              "      <th>7</th>\n",
              "      <td>USER URL sport center you guy are too legit to...</td>\n",
              "      <td>Positive</td>\n",
              "    </tr>\n",
              "    <tr>\n",
              "      <th>8</th>\n",
              "      <td>USER not bad bit grumpy cause of exam but gene...</td>\n",
              "      <td>Negative</td>\n",
              "    </tr>\n",
              "    <tr>\n",
              "      <th>9</th>\n",
              "      <td>USER can watch it what is it</td>\n",
              "      <td>Positive</td>\n",
              "    </tr>\n",
              "    <tr>\n",
              "      <th>10</th>\n",
              "      <td>Good Boy</td>\n",
              "      <td>Positive</td>\n",
              "    </tr>\n",
              "  </tbody>\n",
              "</table>\n",
              "</div>"
            ],
            "text/plain": [
              "                                                 text sentiment\n",
              "0   want to compete want hard competition want to ...  Negative\n",
              "1   it seems we are stuck on the ground in amarill...  Positive\n",
              "2   where the are my pinking shear rarararrarararr...  Negative\n",
              "3   0ff t0 the meetin hate when ppl v0lunteer my f...  Negative\n",
              "4                                       reply me pls   Positive\n",
              "5   USER jazz in india is just honda strategy to p...  Negative\n",
              "6             aah met boy he seems nice im happy now   Negative\n",
              "7   USER URL sport center you guy are too legit to...  Positive\n",
              "8   USER not bad bit grumpy cause of exam but gene...  Negative\n",
              "9                       USER can watch it what is it   Positive\n",
              "10                                           Good Boy  Positive"
            ]
          },
          "metadata": {
            "tags": []
          },
          "execution_count": 37
        }
      ]
    },
    {
      "cell_type": "code",
      "metadata": {
        "id": "_PZtVsvGK-hz"
      },
      "source": [
        ""
      ],
      "execution_count": null,
      "outputs": []
    },
    {
      "cell_type": "markdown",
      "metadata": {
        "id": "Q5DZUhoVwpmH"
      },
      "source": [
        "## Future Scopes and Resources Used"
      ]
    },
    {
      "cell_type": "markdown",
      "metadata": {
        "id": "FMJ3F3j1yzlG"
      },
      "source": [
        "1. Try out different n-gram ranges in the TF-IDF vectorizer.\r\n",
        "2. Compute mean, variation of tf-idf values for each class. Compute the prior using a gaussian distribution generated by the above mean and variation. Then, use these values to predict values.\r\n",
        "3. Algorithm:\r\n",
        "Naive bayes is fast, but inherently performs worse than other algorithms. It may be better to perform feature reduction, and then switch to a discriminative model such as SVM or Logistic Regression\r\n",
        "4. Integrate GPU functionality, so that we can train using a larger portion of the dataset, thus helping in incresing the accuracy to some extent.\r\n",
        "\r\n",
        "**Resources Used**\r\n",
        "\r\n",
        "<li><a href=\"https://www.kaggle.com/kazanova/sentiment140\">Dataset</a></li>\r\n",
        "<li><a href=\"https://towardsdatascience.com/naive-bayes-classifier-81d512f50a7c\">Theory</a></li>\r\n",
        "<li><a href=\"https://github.com/scikit-learn/scikit-learn/blob/main/sklearn/naive_bayes.py\">Naive Bayes Model code from the official source code of SKLearn package.</a></li>\r\n",
        "<li><a href=\"https://towardsdatascience.com/naïve-bayes-from-scratch-using-python-only-no-fancy-frameworks-a1904b37222d\">Example Naive Bayes Model</a></li>\r\n"
      ]
    },
    {
      "cell_type": "code",
      "metadata": {
        "id": "X3hOiwvLbh-h"
      },
      "source": [
        ""
      ],
      "execution_count": null,
      "outputs": []
    }
  ]
}