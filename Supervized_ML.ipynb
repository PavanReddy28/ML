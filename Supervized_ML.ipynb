{
  "nbformat": 4,
  "nbformat_minor": 0,
  "metadata": {
    "colab": {
      "name": "Supervized_ML.ipynb",
      "provenance": [],
      "authorship_tag": "ABX9TyMmbj5SOBg0AcGjoUofcPlY",
      "include_colab_link": true
    },
    "kernelspec": {
      "name": "python3",
      "display_name": "Python 3"
    }
  },
  "cells": [
    {
      "cell_type": "markdown",
      "metadata": {
        "id": "view-in-github",
        "colab_type": "text"
      },
      "source": [
        "<a href=\"https://colab.research.google.com/github/PavanReddy28/Supervised-ML/blob/main/Supervized_ML.ipynb\" target=\"_parent\"><img src=\"https://colab.research.google.com/assets/colab-badge.svg\" alt=\"Open In Colab\"/></a>"
      ]
    },
    {
      "cell_type": "markdown",
      "metadata": {
        "id": "kdivX-TXO9l1"
      },
      "source": [
        "# Supervised ML"
      ]
    },
    {
      "cell_type": "markdown",
      "metadata": {
        "id": "M5oQpugMEIrD"
      },
      "source": [
        "## Data Preprocessing"
      ]
    },
    {
      "cell_type": "markdown",
      "metadata": {
        "id": "FQEBVPNfQiQu"
      },
      "source": [
        "### Import Statements"
      ]
    },
    {
      "cell_type": "code",
      "metadata": {
        "id": "oWd9t281OhJ_"
      },
      "source": [
        "#importing basic packages\n",
        "import numpy as np\n",
        "import pandas as pd\n",
        "import matplotlib.pyplot as plt \n",
        "from sklearn.model_selection import train_test_split\n",
        "from sklearn.linear_model import LinearRegression\n",
        "from sklearn.metrics import accuracy_score, mean_squared_error, mean_absolute_error\n",
        "from sklearn.ensemble import RandomForestRegressor"
      ],
      "execution_count": null,
      "outputs": []
    },
    {
      "cell_type": "markdown",
      "metadata": {
        "id": "WIfwdG0OQmTe"
      },
      "source": [
        "### Retrieve and Read Data"
      ]
    },
    {
      "cell_type": "code",
      "metadata": {
        "id": "0Vq35TXNPTcb",
        "colab": {
          "base_uri": "https://localhost:8080/"
        },
        "outputId": "b1434d7e-432a-4ee5-d49c-10f049ffbecc"
      },
      "source": [
        "data_sc = pd.read_csv(\"http://bit.ly/w-data\")\n",
        "print('Data retrieved.')"
      ],
      "execution_count": null,
      "outputs": [
        {
          "output_type": "stream",
          "text": [
            "Data retrieved.\n"
          ],
          "name": "stdout"
        }
      ]
    },
    {
      "cell_type": "code",
      "metadata": {
        "id": "aFn3J7c8QNMn",
        "colab": {
          "base_uri": "https://localhost:8080/"
        },
        "outputId": "3ef38287-5a33-4297-b988-252b9419c942"
      },
      "source": [
        "type(data_sc)"
      ],
      "execution_count": null,
      "outputs": [
        {
          "output_type": "execute_result",
          "data": {
            "text/plain": [
              "pandas.core.frame.DataFrame"
            ]
          },
          "metadata": {
            "tags": []
          },
          "execution_count": 4
        }
      ]
    },
    {
      "cell_type": "code",
      "metadata": {
        "id": "0HPk472NQSG7",
        "colab": {
          "base_uri": "https://localhost:8080/",
          "height": 204
        },
        "outputId": "575fd5bc-83c2-4951-feed-8faf702719f5"
      },
      "source": [
        "data_sc.head()"
      ],
      "execution_count": null,
      "outputs": [
        {
          "output_type": "execute_result",
          "data": {
            "text/html": [
              "<div>\n",
              "<style scoped>\n",
              "    .dataframe tbody tr th:only-of-type {\n",
              "        vertical-align: middle;\n",
              "    }\n",
              "\n",
              "    .dataframe tbody tr th {\n",
              "        vertical-align: top;\n",
              "    }\n",
              "\n",
              "    .dataframe thead th {\n",
              "        text-align: right;\n",
              "    }\n",
              "</style>\n",
              "<table border=\"1\" class=\"dataframe\">\n",
              "  <thead>\n",
              "    <tr style=\"text-align: right;\">\n",
              "      <th></th>\n",
              "      <th>Hours</th>\n",
              "      <th>Scores</th>\n",
              "    </tr>\n",
              "  </thead>\n",
              "  <tbody>\n",
              "    <tr>\n",
              "      <th>0</th>\n",
              "      <td>2.5</td>\n",
              "      <td>21</td>\n",
              "    </tr>\n",
              "    <tr>\n",
              "      <th>1</th>\n",
              "      <td>5.1</td>\n",
              "      <td>47</td>\n",
              "    </tr>\n",
              "    <tr>\n",
              "      <th>2</th>\n",
              "      <td>3.2</td>\n",
              "      <td>27</td>\n",
              "    </tr>\n",
              "    <tr>\n",
              "      <th>3</th>\n",
              "      <td>8.5</td>\n",
              "      <td>75</td>\n",
              "    </tr>\n",
              "    <tr>\n",
              "      <th>4</th>\n",
              "      <td>3.5</td>\n",
              "      <td>30</td>\n",
              "    </tr>\n",
              "  </tbody>\n",
              "</table>\n",
              "</div>"
            ],
            "text/plain": [
              "   Hours  Scores\n",
              "0    2.5      21\n",
              "1    5.1      47\n",
              "2    3.2      27\n",
              "3    8.5      75\n",
              "4    3.5      30"
            ]
          },
          "metadata": {
            "tags": []
          },
          "execution_count": 5
        }
      ]
    },
    {
      "cell_type": "code",
      "metadata": {
        "id": "N8c64UkuQWeL",
        "colab": {
          "base_uri": "https://localhost:8080/"
        },
        "outputId": "14b2d5ff-77a5-46a8-9098-a46988e6a144"
      },
      "source": [
        "data_sc.shape"
      ],
      "execution_count": null,
      "outputs": [
        {
          "output_type": "execute_result",
          "data": {
            "text/plain": [
              "(25, 2)"
            ]
          },
          "metadata": {
            "tags": []
          },
          "execution_count": 6
        }
      ]
    },
    {
      "cell_type": "code",
      "metadata": {
        "id": "VhKNivotRqWY"
      },
      "source": [
        "help(plt.plot)"
      ],
      "execution_count": null,
      "outputs": []
    },
    {
      "cell_type": "code",
      "metadata": {
        "id": "t3d0gugcRNvt",
        "colab": {
          "base_uri": "https://localhost:8080/",
          "height": 295
        },
        "outputId": "703ee013-b05a-40f8-e0b9-73af09e29335"
      },
      "source": [
        "data_sc.plot(x='Hours', y='Scores', style='o')\n",
        "plt.title('Summary')\n",
        "plt.xlabel('Hours')\n",
        "plt.ylabel('Percentage Score')\n",
        "plt.show()"
      ],
      "execution_count": null,
      "outputs": [
        {
          "output_type": "display_data",
          "data": {
            "image/png": "[encoded data removed]",
            "text/plain": [
              "<Figure size 432x288 with 1 Axes>"
            ]
          },
          "metadata": {
            "tags": [],
            "needs_background": "light"
          }
        }
      ]
    },
    {
      "cell_type": "markdown",
      "metadata": {
        "id": "lWCKwutjRJTM"
      },
      "source": [
        "### Preparing Data"
      ]
    },
    {
      "cell_type": "code",
      "metadata": {
        "id": "WEoMy0XmTZTv"
      },
      "source": [
        "X = data_sc.iloc[:,:-1].values\n",
        "y = data_sc['Scores'].values"
      ],
      "execution_count": null,
      "outputs": []
    },
    {
      "cell_type": "code",
      "metadata": {
        "id": "akf9ZG9hV2w1"
      },
      "source": [
        "X_train, X_test, Y_train, Y_test = train_test_split(X, y, test_size = 0.2,random_state=0)"
      ],
      "execution_count": null,
      "outputs": []
    },
    {
      "cell_type": "code",
      "metadata": {
        "id": "ukc7XIemWHB5",
        "colab": {
          "base_uri": "https://localhost:8080/"
        },
        "outputId": "d17dcd03-18d9-4745-acf0-92f2d8a9dce1"
      },
      "source": [
        "print(X_train)\n",
        "print(X_train.shape)"
      ],
      "execution_count": null,
      "outputs": [
        {
          "output_type": "stream",
          "text": [
            "[[3.8]\n",
            " [1.9]\n",
            " [7.8]\n",
            " [6.9]\n",
            " [1.1]\n",
            " [5.1]\n",
            " [7.7]\n",
            " [3.3]\n",
            " [8.3]\n",
            " [9.2]\n",
            " [6.1]\n",
            " [3.5]\n",
            " [2.7]\n",
            " [5.5]\n",
            " [2.7]\n",
            " [8.5]\n",
            " [2.5]\n",
            " [4.8]\n",
            " [8.9]\n",
            " [4.5]]\n",
            "(20, 1)\n"
          ],
          "name": "stdout"
        }
      ]
    },
    {
      "cell_type": "markdown",
      "metadata": {
        "id": "QLPG7cAzECBr"
      },
      "source": [
        "## Linear Regression"
      ]
    },
    {
      "cell_type": "markdown",
      "metadata": {
        "id": "Du1yyC5jWWWu"
      },
      "source": [
        "### Training the Algorithm"
      ]
    },
    {
      "cell_type": "markdown",
      "metadata": {
        "id": "D2H1tkJuWe_s"
      },
      "source": [
        "As there is a positive linear relation between the fields of data, we can use linear regression to predict the output.\n",
        "\n",
        "We will use the inbuilt linear regression model from Scikit Learn Package."
      ]
    },
    {
      "cell_type": "code",
      "metadata": {
        "id": "feweNxWzWZ_o"
      },
      "source": [
        "regressor = LinearRegression()"
      ],
      "execution_count": null,
      "outputs": []
    },
    {
      "cell_type": "code",
      "metadata": {
        "id": "d3e0JbmVX0gh",
        "colab": {
          "base_uri": "https://localhost:8080/"
        },
        "outputId": "c2e0e070-9675-4b3d-cc6c-eeb88f04a50a"
      },
      "source": [
        "Y_train.shape"
      ],
      "execution_count": null,
      "outputs": [
        {
          "output_type": "execute_result",
          "data": {
            "text/plain": [
              "(20,)"
            ]
          },
          "metadata": {
            "tags": []
          },
          "execution_count": 39
        }
      ]
    },
    {
      "cell_type": "code",
      "metadata": {
        "id": "j7fyhAEuXCcF",
        "colab": {
          "base_uri": "https://localhost:8080/"
        },
        "outputId": "5638a41f-ca01-4187-abe5-1c40f68d95bf"
      },
      "source": [
        "regressor.fit(X_train, Y_train)\n",
        "\n",
        "print(\"Algortihm trained\")"
      ],
      "execution_count": null,
      "outputs": [
        {
          "output_type": "stream",
          "text": [
            "Algortihm trained\n"
          ],
          "name": "stdout"
        }
      ]
    },
    {
      "cell_type": "code",
      "metadata": {
        "id": "OFVbx1Z5XTE6"
      },
      "source": [
        "line = regressor.coef_*X + regressor.intercept_"
      ],
      "execution_count": null,
      "outputs": []
    },
    {
      "cell_type": "code",
      "metadata": {
        "id": "YoG3YAirZknd",
        "colab": {
          "base_uri": "https://localhost:8080/",
          "height": 265
        },
        "outputId": "4a405272-09c0-4ecb-caaa-ccef323bd523"
      },
      "source": [
        "plt.plot(X, line)\n",
        "plt.scatter(X,y)\n",
        "plt.show()"
      ],
      "execution_count": null,
      "outputs": [
        {
          "output_type": "display_data",
          "data": {
            "image/png": "[encoded data removed]",
            "text/plain": [
              "<Figure size 432x288 with 1 Axes>"
            ]
          },
          "metadata": {
            "tags": [],
            "needs_background": "light"
          }
        }
      ]
    },
    {
      "cell_type": "code",
      "metadata": {
        "id": "gtQmxkzRc6aq",
        "colab": {
          "base_uri": "https://localhost:8080/"
        },
        "outputId": "3a240579-2b97-4701-da51-d07385be79c6"
      },
      "source": [
        "y_pred_train = regressor.predict(X_train)\n",
        "df_train = pd.DataFrame({'Ground_Truth' : Y_train, 'Predictions' : y_pred_train})\n",
        "print(regressor.score(X_train, Y_train))"
      ],
      "execution_count": null,
      "outputs": [
        {
          "output_type": "stream",
          "text": [
            "0.9515510725211553\n"
          ],
          "name": "stdout"
        }
      ]
    },
    {
      "cell_type": "markdown",
      "metadata": {
        "id": "w2MK8uc0aQri"
      },
      "source": [
        "### Making Predictions"
      ]
    },
    {
      "cell_type": "code",
      "metadata": {
        "id": "VOVwWyymbdPN"
      },
      "source": [
        "y_pred_test = regressor.predict(X_test)"
      ],
      "execution_count": null,
      "outputs": []
    },
    {
      "cell_type": "code",
      "metadata": {
        "id": "DQcoQW3bcNGi",
        "colab": {
          "base_uri": "https://localhost:8080/",
          "height": 204
        },
        "outputId": "c4a19c78-677e-4153-93bf-57fb95487491"
      },
      "source": [
        "df_test = pd.DataFrame({'Ground_Truth' : Y_test, 'Prediction' : y_pred_test})\n",
        "df_test"
      ],
      "execution_count": null,
      "outputs": [
        {
          "output_type": "execute_result",
          "data": {
            "text/html": [
              "<div>\n",
              "<style scoped>\n",
              "    .dataframe tbody tr th:only-of-type {\n",
              "        vertical-align: middle;\n",
              "    }\n",
              "\n",
              "    .dataframe tbody tr th {\n",
              "        vertical-align: top;\n",
              "    }\n",
              "\n",
              "    .dataframe thead th {\n",
              "        text-align: right;\n",
              "    }\n",
              "</style>\n",
              "<table border=\"1\" class=\"dataframe\">\n",
              "  <thead>\n",
              "    <tr style=\"text-align: right;\">\n",
              "      <th></th>\n",
              "      <th>Ground_Truth</th>\n",
              "      <th>Prediction</th>\n",
              "    </tr>\n",
              "  </thead>\n",
              "  <tbody>\n",
              "    <tr>\n",
              "      <th>0</th>\n",
              "      <td>20</td>\n",
              "      <td>16.884145</td>\n",
              "    </tr>\n",
              "    <tr>\n",
              "      <th>1</th>\n",
              "      <td>27</td>\n",
              "      <td>33.732261</td>\n",
              "    </tr>\n",
              "    <tr>\n",
              "      <th>2</th>\n",
              "      <td>69</td>\n",
              "      <td>75.357018</td>\n",
              "    </tr>\n",
              "    <tr>\n",
              "      <th>3</th>\n",
              "      <td>30</td>\n",
              "      <td>26.794801</td>\n",
              "    </tr>\n",
              "    <tr>\n",
              "      <th>4</th>\n",
              "      <td>62</td>\n",
              "      <td>60.491033</td>\n",
              "    </tr>\n",
              "  </tbody>\n",
              "</table>\n",
              "</div>"
            ],
            "text/plain": [
              "   Ground_Truth  Prediction\n",
              "0            20   16.884145\n",
              "1            27   33.732261\n",
              "2            69   75.357018\n",
              "3            30   26.794801\n",
              "4            62   60.491033"
            ]
          },
          "metadata": {
            "tags": []
          },
          "execution_count": 45
        }
      ]
    },
    {
      "cell_type": "code",
      "metadata": {
        "id": "d836qnvzcnYp",
        "colab": {
          "base_uri": "https://localhost:8080/"
        },
        "outputId": "b02b9f8f-252b-4a22-d0a7-8fedbf52a644"
      },
      "source": [
        "print(regressor.score(X_test, Y_test))"
      ],
      "execution_count": null,
      "outputs": [
        {
          "output_type": "stream",
          "text": [
            "0.9454906892105354\n"
          ],
          "name": "stdout"
        }
      ]
    },
    {
      "cell_type": "code",
      "metadata": {
        "id": "FrEGgj_wfP9u",
        "colab": {
          "base_uri": "https://localhost:8080/"
        },
        "outputId": "d9480e1d-c47f-4f07-de6c-9458a0308440"
      },
      "source": [
        "hours = [[9.25]]\n",
        "own_pred = regressor.predict(hours)\n",
        "print('No. of hours =', hours[0][0])\n",
        "print('Predicted % score =', own_pred[0])"
      ],
      "execution_count": null,
      "outputs": [
        {
          "output_type": "stream",
          "text": [
            "No. of hours = 9.25\n",
            "Predicted % score = 93.69173248737539\n"
          ],
          "name": "stdout"
        }
      ]
    },
    {
      "cell_type": "code",
      "metadata": {
        "id": "CjP_cWQxgjXg"
      },
      "source": [
        ""
      ],
      "execution_count": null,
      "outputs": []
    },
    {
      "cell_type": "markdown",
      "metadata": {
        "id": "lAZbGsrWhGSQ"
      },
      "source": [
        "### Evaluating the model"
      ]
    },
    {
      "cell_type": "markdown",
      "metadata": {
        "id": "A0lzg2YwhJ8w"
      },
      "source": [
        "We will use Scikit metric package's mean squared error."
      ]
    },
    {
      "cell_type": "code",
      "metadata": {
        "id": "r7qkRP4EhIv6",
        "colab": {
          "base_uri": "https://localhost:8080/"
        },
        "outputId": "d31c0b26-bee1-4f5a-b719-9b2c9787e355"
      },
      "source": [
        "error = mean_absolute_error(Y_test, y_pred_test)\n",
        "print(error)"
      ],
      "execution_count": null,
      "outputs": [
        {
          "output_type": "stream",
          "text": [
            "4.419727808027651\n"
          ],
          "name": "stdout"
        }
      ]
    },
    {
      "cell_type": "code",
      "metadata": {
        "id": "bz2CqGf4iD7O"
      },
      "source": [
        ""
      ],
      "execution_count": null,
      "outputs": []
    }
  ]
}