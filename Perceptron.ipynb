{
  "nbformat": 4,
  "nbformat_minor": 0,
  "metadata": {
    "colab": {
      "name": "Perceptron.ipynb",
      "provenance": [],
      "collapsed_sections": [
        "9imcZT_h5f4z",
        "FOFRKodRHsxk",
        "jNpWZYQ-5oO4",
        "kjAkuB1j5sqU",
        "upfaZWMv1EiI"
      ],
      "authorship_tag": "ABX9TyP2fPlv9Q3P8wKZeXkbp7Hw",
      "include_colab_link": true
    },
    "kernelspec": {
      "name": "python3",
      "display_name": "Python 3"
    }
  },
  "cells": [
    {
      "cell_type": "markdown",
      "metadata": {
        "id": "view-in-github",
        "colab_type": "text"
      },
      "source": [
        "<a href=\"https://colab.research.google.com/github/PavanReddy28/Supervised-ML/blob/main/Perceptron.ipynb\" target=\"_parent\"><img src=\"https://colab.research.google.com/assets/colab-badge.svg\" alt=\"Open In Colab\"/></a>"
      ]
    },
    {
      "cell_type": "markdown",
      "metadata": {
        "id": "9imcZT_h5f4z"
      },
      "source": [
        "# Data Preprocessing"
      ]
    },
    {
      "cell_type": "markdown",
      "metadata": {
        "id": "aR2KJY_QHkXH"
      },
      "source": [
        "## Load Dataset"
      ]
    },
    {
      "cell_type": "code",
      "metadata": {
        "id": "CAH0OnjP734u"
      },
      "source": [
        "import sklearn.datasets\n",
        "import numpy as np"
      ],
      "execution_count": null,
      "outputs": []
    },
    {
      "cell_type": "code",
      "metadata": {
        "id": "akJslooI8K9y"
      },
      "source": [
        "breast_cancer = sklearn.datasets.load_breast_cancer()"
      ],
      "execution_count": null,
      "outputs": []
    },
    {
      "cell_type": "code",
      "metadata": {
        "id": "dIv062RQ_yUC"
      },
      "source": [
        "X = breast_cancer.data\n",
        "Y = breast_cancer.target"
      ],
      "execution_count": null,
      "outputs": []
    },
    {
      "cell_type": "code",
      "metadata": {
        "colab": {
          "base_uri": "https://localhost:8080/"
        },
        "id": "LxjN6eNjIS1L",
        "outputId": "5cd9ab37-2a0c-4288-f923-36da75a9a756"
      },
      "source": [
        "type(X)"
      ],
      "execution_count": null,
      "outputs": [
        {
          "output_type": "execute_result",
          "data": {
            "text/plain": [
              "numpy.ndarray"
            ]
          },
          "metadata": {
            "tags": []
          },
          "execution_count": 24
        }
      ]
    },
    {
      "cell_type": "code",
      "metadata": {
        "colab": {
          "base_uri": "https://localhost:8080/"
        },
        "id": "OXJ6QmKIADod",
        "outputId": "79e32e90-9ce5-44c4-8ad2-fa2a9210b9a0"
      },
      "source": [
        "print(X)"
      ],
      "execution_count": null,
      "outputs": [
        {
          "output_type": "stream",
          "text": [
            "[[1.799e+01 1.038e+01 1.228e+02 ... 2.654e-01 4.601e-01 1.189e-01]\n",
            " [2.057e+01 1.777e+01 1.329e+02 ... 1.860e-01 2.750e-01 8.902e-02]\n",
            " [1.969e+01 2.125e+01 1.300e+02 ... 2.430e-01 3.613e-01 8.758e-02]\n",
            " ...\n",
            " [1.660e+01 2.808e+01 1.083e+02 ... 1.418e-01 2.218e-01 7.820e-02]\n",
            " [2.060e+01 2.933e+01 1.401e+02 ... 2.650e-01 4.087e-01 1.240e-01]\n",
            " [7.760e+00 2.454e+01 4.792e+01 ... 0.000e+00 2.871e-01 7.039e-02]]\n"
          ],
          "name": "stdout"
        }
      ]
    },
    {
      "cell_type": "code",
      "metadata": {
        "colab": {
          "base_uri": "https://localhost:8080/"
        },
        "id": "GH7nBoMkAOGG",
        "outputId": "4ac4a383-0520-492f-9c37-8482fafe91c4"
      },
      "source": [
        "print(Y)"
      ],
      "execution_count": null,
      "outputs": [
        {
          "output_type": "stream",
          "text": [
            "[0 0 0 0 0 0 0 0 0 0 0 0 0 0 0 0 0 0 0 1 1 1 0 0 0 0 0 0 0 0 0 0 0 0 0 0 0\n",
            " 1 0 0 0 0 0 0 0 0 1 0 1 1 1 1 1 0 0 1 0 0 1 1 1 1 0 1 0 0 1 1 1 1 0 1 0 0\n",
            " 1 0 1 0 0 1 1 1 0 0 1 0 0 0 1 1 1 0 1 1 0 0 1 1 1 0 0 1 1 1 1 0 1 1 0 1 1\n",
            " 1 1 1 1 1 1 0 0 0 1 0 0 1 1 1 0 0 1 0 1 0 0 1 0 0 1 1 0 1 1 0 1 1 1 1 0 1\n",
            " 1 1 1 1 1 1 1 1 0 1 1 1 1 0 0 1 0 1 1 0 0 1 1 0 0 1 1 1 1 0 1 1 0 0 0 1 0\n",
            " 1 0 1 1 1 0 1 1 0 0 1 0 0 0 0 1 0 0 0 1 0 1 0 1 1 0 1 0 0 0 0 1 1 0 0 1 1\n",
            " 1 0 1 1 1 1 1 0 0 1 1 0 1 1 0 0 1 0 1 1 1 1 0 1 1 1 1 1 0 1 0 0 0 0 0 0 0\n",
            " 0 0 0 0 0 0 0 1 1 1 1 1 1 0 1 0 1 1 0 1 1 0 1 0 0 1 1 1 1 1 1 1 1 1 1 1 1\n",
            " 1 0 1 1 0 1 0 1 1 1 1 1 1 1 1 1 1 1 1 1 1 0 1 1 1 0 1 0 1 1 1 1 0 0 0 1 1\n",
            " 1 1 0 1 0 1 0 1 1 1 0 1 1 1 1 1 1 1 0 0 0 1 1 1 1 1 1 1 1 1 1 1 0 0 1 0 0\n",
            " 0 1 0 0 1 1 1 1 1 0 1 1 1 1 1 0 1 1 1 0 1 1 0 0 1 1 1 1 1 1 0 1 1 1 1 1 1\n",
            " 1 0 1 1 1 1 1 0 1 1 0 1 1 1 1 1 1 1 1 1 1 1 1 0 1 0 0 1 0 1 1 1 1 1 0 1 1\n",
            " 0 1 0 1 1 0 1 0 1 1 1 1 1 1 1 1 0 0 1 1 1 1 1 1 0 1 1 1 1 1 1 1 1 1 1 0 1\n",
            " 1 1 1 1 1 1 0 1 0 1 1 0 1 1 1 1 1 0 0 1 0 1 0 1 1 1 1 1 0 1 1 0 1 0 1 0 0\n",
            " 1 1 1 0 1 1 1 1 1 1 1 1 1 1 1 0 1 0 0 1 1 1 1 1 1 1 1 1 1 1 1 1 1 1 1 1 1\n",
            " 1 1 1 1 1 1 1 0 0 0 0 0 0 1]\n"
          ],
          "name": "stdout"
        }
      ]
    },
    {
      "cell_type": "code",
      "metadata": {
        "colab": {
          "base_uri": "https://localhost:8080/"
        },
        "id": "l_A_6psZFKL0",
        "outputId": "54d22267-9cdd-42df-f752-f6e708f7c4e5"
      },
      "source": [
        "print(X.shape, Y.shape)"
      ],
      "execution_count": null,
      "outputs": [
        {
          "output_type": "stream",
          "text": [
            "(569, 30) (569,)\n"
          ],
          "name": "stdout"
        }
      ]
    },
    {
      "cell_type": "code",
      "metadata": {
        "id": "VLF_lBTlFP_m"
      },
      "source": [
        "import pandas as pd"
      ],
      "execution_count": null,
      "outputs": []
    },
    {
      "cell_type": "code",
      "metadata": {
        "id": "sC6SfjqTFVSA"
      },
      "source": [
        "data = pd.DataFrame(breast_cancer.data, columns=breast_cancer.feature_names)"
      ],
      "execution_count": null,
      "outputs": []
    },
    {
      "cell_type": "code",
      "metadata": {
        "id": "rIzunCQGF4Pc"
      },
      "source": [
        "data['class']=breast_cancer.target"
      ],
      "execution_count": null,
      "outputs": []
    },
    {
      "cell_type": "code",
      "metadata": {
        "colab": {
          "base_uri": "https://localhost:8080/",
          "height": 258
        },
        "id": "l9tRsxfcF_x2",
        "outputId": "53186535-58a1-4e60-9c51-e944ea550212"
      },
      "source": [
        "data.head()"
      ],
      "execution_count": null,
      "outputs": [
        {
          "output_type": "execute_result",
          "data": {
            "text/html": [
              "<div>\n",
              "<style scoped>\n",
              "    .dataframe tbody tr th:only-of-type {\n",
              "        vertical-align: middle;\n",
              "    }\n",
              "\n",
              "    .dataframe tbody tr th {\n",
              "        vertical-align: top;\n",
              "    }\n",
              "\n",
              "    .dataframe thead th {\n",
              "        text-align: right;\n",
              "    }\n",
              "</style>\n",
              "<table border=\"1\" class=\"dataframe\">\n",
              "  <thead>\n",
              "    <tr style=\"text-align: right;\">\n",
              "      <th></th>\n",
              "      <th>mean radius</th>\n",
              "      <th>mean texture</th>\n",
              "      <th>mean perimeter</th>\n",
              "      <th>mean area</th>\n",
              "      <th>mean smoothness</th>\n",
              "      <th>mean compactness</th>\n",
              "      <th>mean concavity</th>\n",
              "      <th>mean concave points</th>\n",
              "      <th>mean symmetry</th>\n",
              "      <th>mean fractal dimension</th>\n",
              "      <th>radius error</th>\n",
              "      <th>texture error</th>\n",
              "      <th>perimeter error</th>\n",
              "      <th>area error</th>\n",
              "      <th>smoothness error</th>\n",
              "      <th>compactness error</th>\n",
              "      <th>concavity error</th>\n",
              "      <th>concave points error</th>\n",
              "      <th>symmetry error</th>\n",
              "      <th>fractal dimension error</th>\n",
              "      <th>worst radius</th>\n",
              "      <th>worst texture</th>\n",
              "      <th>worst perimeter</th>\n",
              "      <th>worst area</th>\n",
              "      <th>worst smoothness</th>\n",
              "      <th>worst compactness</th>\n",
              "      <th>worst concavity</th>\n",
              "      <th>worst concave points</th>\n",
              "      <th>worst symmetry</th>\n",
              "      <th>worst fractal dimension</th>\n",
              "      <th>class</th>\n",
              "    </tr>\n",
              "  </thead>\n",
              "  <tbody>\n",
              "    <tr>\n",
              "      <th>0</th>\n",
              "      <td>17.99</td>\n",
              "      <td>10.38</td>\n",
              "      <td>122.80</td>\n",
              "      <td>1001.0</td>\n",
              "      <td>0.11840</td>\n",
              "      <td>0.27760</td>\n",
              "      <td>0.3001</td>\n",
              "      <td>0.14710</td>\n",
              "      <td>0.2419</td>\n",
              "      <td>0.07871</td>\n",
              "      <td>1.0950</td>\n",
              "      <td>0.9053</td>\n",
              "      <td>8.589</td>\n",
              "      <td>153.40</td>\n",
              "      <td>0.006399</td>\n",
              "      <td>0.04904</td>\n",
              "      <td>0.05373</td>\n",
              "      <td>0.01587</td>\n",
              "      <td>0.03003</td>\n",
              "      <td>0.006193</td>\n",
              "      <td>25.38</td>\n",
              "      <td>17.33</td>\n",
              "      <td>184.60</td>\n",
              "      <td>2019.0</td>\n",
              "      <td>0.1622</td>\n",
              "      <td>0.6656</td>\n",
              "      <td>0.7119</td>\n",
              "      <td>0.2654</td>\n",
              "      <td>0.4601</td>\n",
              "      <td>0.11890</td>\n",
              "      <td>0</td>\n",
              "    </tr>\n",
              "    <tr>\n",
              "      <th>1</th>\n",
              "      <td>20.57</td>\n",
              "      <td>17.77</td>\n",
              "      <td>132.90</td>\n",
              "      <td>1326.0</td>\n",
              "      <td>0.08474</td>\n",
              "      <td>0.07864</td>\n",
              "      <td>0.0869</td>\n",
              "      <td>0.07017</td>\n",
              "      <td>0.1812</td>\n",
              "      <td>0.05667</td>\n",
              "      <td>0.5435</td>\n",
              "      <td>0.7339</td>\n",
              "      <td>3.398</td>\n",
              "      <td>74.08</td>\n",
              "      <td>0.005225</td>\n",
              "      <td>0.01308</td>\n",
              "      <td>0.01860</td>\n",
              "      <td>0.01340</td>\n",
              "      <td>0.01389</td>\n",
              "      <td>0.003532</td>\n",
              "      <td>24.99</td>\n",
              "      <td>23.41</td>\n",
              "      <td>158.80</td>\n",
              "      <td>1956.0</td>\n",
              "      <td>0.1238</td>\n",
              "      <td>0.1866</td>\n",
              "      <td>0.2416</td>\n",
              "      <td>0.1860</td>\n",
              "      <td>0.2750</td>\n",
              "      <td>0.08902</td>\n",
              "      <td>0</td>\n",
              "    </tr>\n",
              "    <tr>\n",
              "      <th>2</th>\n",
              "      <td>19.69</td>\n",
              "      <td>21.25</td>\n",
              "      <td>130.00</td>\n",
              "      <td>1203.0</td>\n",
              "      <td>0.10960</td>\n",
              "      <td>0.15990</td>\n",
              "      <td>0.1974</td>\n",
              "      <td>0.12790</td>\n",
              "      <td>0.2069</td>\n",
              "      <td>0.05999</td>\n",
              "      <td>0.7456</td>\n",
              "      <td>0.7869</td>\n",
              "      <td>4.585</td>\n",
              "      <td>94.03</td>\n",
              "      <td>0.006150</td>\n",
              "      <td>0.04006</td>\n",
              "      <td>0.03832</td>\n",
              "      <td>0.02058</td>\n",
              "      <td>0.02250</td>\n",
              "      <td>0.004571</td>\n",
              "      <td>23.57</td>\n",
              "      <td>25.53</td>\n",
              "      <td>152.50</td>\n",
              "      <td>1709.0</td>\n",
              "      <td>0.1444</td>\n",
              "      <td>0.4245</td>\n",
              "      <td>0.4504</td>\n",
              "      <td>0.2430</td>\n",
              "      <td>0.3613</td>\n",
              "      <td>0.08758</td>\n",
              "      <td>0</td>\n",
              "    </tr>\n",
              "    <tr>\n",
              "      <th>3</th>\n",
              "      <td>11.42</td>\n",
              "      <td>20.38</td>\n",
              "      <td>77.58</td>\n",
              "      <td>386.1</td>\n",
              "      <td>0.14250</td>\n",
              "      <td>0.28390</td>\n",
              "      <td>0.2414</td>\n",
              "      <td>0.10520</td>\n",
              "      <td>0.2597</td>\n",
              "      <td>0.09744</td>\n",
              "      <td>0.4956</td>\n",
              "      <td>1.1560</td>\n",
              "      <td>3.445</td>\n",
              "      <td>27.23</td>\n",
              "      <td>0.009110</td>\n",
              "      <td>0.07458</td>\n",
              "      <td>0.05661</td>\n",
              "      <td>0.01867</td>\n",
              "      <td>0.05963</td>\n",
              "      <td>0.009208</td>\n",
              "      <td>14.91</td>\n",
              "      <td>26.50</td>\n",
              "      <td>98.87</td>\n",
              "      <td>567.7</td>\n",
              "      <td>0.2098</td>\n",
              "      <td>0.8663</td>\n",
              "      <td>0.6869</td>\n",
              "      <td>0.2575</td>\n",
              "      <td>0.6638</td>\n",
              "      <td>0.17300</td>\n",
              "      <td>0</td>\n",
              "    </tr>\n",
              "    <tr>\n",
              "      <th>4</th>\n",
              "      <td>20.29</td>\n",
              "      <td>14.34</td>\n",
              "      <td>135.10</td>\n",
              "      <td>1297.0</td>\n",
              "      <td>0.10030</td>\n",
              "      <td>0.13280</td>\n",
              "      <td>0.1980</td>\n",
              "      <td>0.10430</td>\n",
              "      <td>0.1809</td>\n",
              "      <td>0.05883</td>\n",
              "      <td>0.7572</td>\n",
              "      <td>0.7813</td>\n",
              "      <td>5.438</td>\n",
              "      <td>94.44</td>\n",
              "      <td>0.011490</td>\n",
              "      <td>0.02461</td>\n",
              "      <td>0.05688</td>\n",
              "      <td>0.01885</td>\n",
              "      <td>0.01756</td>\n",
              "      <td>0.005115</td>\n",
              "      <td>22.54</td>\n",
              "      <td>16.67</td>\n",
              "      <td>152.20</td>\n",
              "      <td>1575.0</td>\n",
              "      <td>0.1374</td>\n",
              "      <td>0.2050</td>\n",
              "      <td>0.4000</td>\n",
              "      <td>0.1625</td>\n",
              "      <td>0.2364</td>\n",
              "      <td>0.07678</td>\n",
              "      <td>0</td>\n",
              "    </tr>\n",
              "  </tbody>\n",
              "</table>\n",
              "</div>"
            ],
            "text/plain": [
              "   mean radius  mean texture  ...  worst fractal dimension  class\n",
              "0        17.99         10.38  ...                  0.11890      0\n",
              "1        20.57         17.77  ...                  0.08902      0\n",
              "2        19.69         21.25  ...                  0.08758      0\n",
              "3        11.42         20.38  ...                  0.17300      0\n",
              "4        20.29         14.34  ...                  0.07678      0\n",
              "\n",
              "[5 rows x 31 columns]"
            ]
          },
          "metadata": {
            "tags": []
          },
          "execution_count": 12
        }
      ]
    },
    {
      "cell_type": "code",
      "metadata": {
        "colab": {
          "base_uri": "https://localhost:8080/",
          "height": 351
        },
        "id": "eTVPpBD_GB0C",
        "outputId": "1e7440ed-96ff-46f9-ecf9-07475582e019"
      },
      "source": [
        "data.describe()"
      ],
      "execution_count": null,
      "outputs": [
        {
          "output_type": "execute_result",
          "data": {
            "text/html": [
              "<div>\n",
              "<style scoped>\n",
              "    .dataframe tbody tr th:only-of-type {\n",
              "        vertical-align: middle;\n",
              "    }\n",
              "\n",
              "    .dataframe tbody tr th {\n",
              "        vertical-align: top;\n",
              "    }\n",
              "\n",
              "    .dataframe thead th {\n",
              "        text-align: right;\n",
              "    }\n",
              "</style>\n",
              "<table border=\"1\" class=\"dataframe\">\n",
              "  <thead>\n",
              "    <tr style=\"text-align: right;\">\n",
              "      <th></th>\n",
              "      <th>mean radius</th>\n",
              "      <th>mean texture</th>\n",
              "      <th>mean perimeter</th>\n",
              "      <th>mean area</th>\n",
              "      <th>mean smoothness</th>\n",
              "      <th>mean compactness</th>\n",
              "      <th>mean concavity</th>\n",
              "      <th>mean concave points</th>\n",
              "      <th>mean symmetry</th>\n",
              "      <th>mean fractal dimension</th>\n",
              "      <th>radius error</th>\n",
              "      <th>texture error</th>\n",
              "      <th>perimeter error</th>\n",
              "      <th>area error</th>\n",
              "      <th>smoothness error</th>\n",
              "      <th>compactness error</th>\n",
              "      <th>concavity error</th>\n",
              "      <th>concave points error</th>\n",
              "      <th>symmetry error</th>\n",
              "      <th>fractal dimension error</th>\n",
              "      <th>worst radius</th>\n",
              "      <th>worst texture</th>\n",
              "      <th>worst perimeter</th>\n",
              "      <th>worst area</th>\n",
              "      <th>worst smoothness</th>\n",
              "      <th>worst compactness</th>\n",
              "      <th>worst concavity</th>\n",
              "      <th>worst concave points</th>\n",
              "      <th>worst symmetry</th>\n",
              "      <th>worst fractal dimension</th>\n",
              "      <th>class</th>\n",
              "    </tr>\n",
              "  </thead>\n",
              "  <tbody>\n",
              "    <tr>\n",
              "      <th>count</th>\n",
              "      <td>569.000000</td>\n",
              "      <td>569.000000</td>\n",
              "      <td>569.000000</td>\n",
              "      <td>569.000000</td>\n",
              "      <td>569.000000</td>\n",
              "      <td>569.000000</td>\n",
              "      <td>569.000000</td>\n",
              "      <td>569.000000</td>\n",
              "      <td>569.000000</td>\n",
              "      <td>569.000000</td>\n",
              "      <td>569.000000</td>\n",
              "      <td>569.000000</td>\n",
              "      <td>569.000000</td>\n",
              "      <td>569.000000</td>\n",
              "      <td>569.000000</td>\n",
              "      <td>569.000000</td>\n",
              "      <td>569.000000</td>\n",
              "      <td>569.000000</td>\n",
              "      <td>569.000000</td>\n",
              "      <td>569.000000</td>\n",
              "      <td>569.000000</td>\n",
              "      <td>569.000000</td>\n",
              "      <td>569.000000</td>\n",
              "      <td>569.000000</td>\n",
              "      <td>569.000000</td>\n",
              "      <td>569.000000</td>\n",
              "      <td>569.000000</td>\n",
              "      <td>569.000000</td>\n",
              "      <td>569.000000</td>\n",
              "      <td>569.000000</td>\n",
              "      <td>569.000000</td>\n",
              "    </tr>\n",
              "    <tr>\n",
              "      <th>mean</th>\n",
              "      <td>14.127292</td>\n",
              "      <td>19.289649</td>\n",
              "      <td>91.969033</td>\n",
              "      <td>654.889104</td>\n",
              "      <td>0.096360</td>\n",
              "      <td>0.104341</td>\n",
              "      <td>0.088799</td>\n",
              "      <td>0.048919</td>\n",
              "      <td>0.181162</td>\n",
              "      <td>0.062798</td>\n",
              "      <td>0.405172</td>\n",
              "      <td>1.216853</td>\n",
              "      <td>2.866059</td>\n",
              "      <td>40.337079</td>\n",
              "      <td>0.007041</td>\n",
              "      <td>0.025478</td>\n",
              "      <td>0.031894</td>\n",
              "      <td>0.011796</td>\n",
              "      <td>0.020542</td>\n",
              "      <td>0.003795</td>\n",
              "      <td>16.269190</td>\n",
              "      <td>25.677223</td>\n",
              "      <td>107.261213</td>\n",
              "      <td>880.583128</td>\n",
              "      <td>0.132369</td>\n",
              "      <td>0.254265</td>\n",
              "      <td>0.272188</td>\n",
              "      <td>0.114606</td>\n",
              "      <td>0.290076</td>\n",
              "      <td>0.083946</td>\n",
              "      <td>0.627417</td>\n",
              "    </tr>\n",
              "    <tr>\n",
              "      <th>std</th>\n",
              "      <td>3.524049</td>\n",
              "      <td>4.301036</td>\n",
              "      <td>24.298981</td>\n",
              "      <td>351.914129</td>\n",
              "      <td>0.014064</td>\n",
              "      <td>0.052813</td>\n",
              "      <td>0.079720</td>\n",
              "      <td>0.038803</td>\n",
              "      <td>0.027414</td>\n",
              "      <td>0.007060</td>\n",
              "      <td>0.277313</td>\n",
              "      <td>0.551648</td>\n",
              "      <td>2.021855</td>\n",
              "      <td>45.491006</td>\n",
              "      <td>0.003003</td>\n",
              "      <td>0.017908</td>\n",
              "      <td>0.030186</td>\n",
              "      <td>0.006170</td>\n",
              "      <td>0.008266</td>\n",
              "      <td>0.002646</td>\n",
              "      <td>4.833242</td>\n",
              "      <td>6.146258</td>\n",
              "      <td>33.602542</td>\n",
              "      <td>569.356993</td>\n",
              "      <td>0.022832</td>\n",
              "      <td>0.157336</td>\n",
              "      <td>0.208624</td>\n",
              "      <td>0.065732</td>\n",
              "      <td>0.061867</td>\n",
              "      <td>0.018061</td>\n",
              "      <td>0.483918</td>\n",
              "    </tr>\n",
              "    <tr>\n",
              "      <th>min</th>\n",
              "      <td>6.981000</td>\n",
              "      <td>9.710000</td>\n",
              "      <td>43.790000</td>\n",
              "      <td>143.500000</td>\n",
              "      <td>0.052630</td>\n",
              "      <td>0.019380</td>\n",
              "      <td>0.000000</td>\n",
              "      <td>0.000000</td>\n",
              "      <td>0.106000</td>\n",
              "      <td>0.049960</td>\n",
              "      <td>0.111500</td>\n",
              "      <td>0.360200</td>\n",
              "      <td>0.757000</td>\n",
              "      <td>6.802000</td>\n",
              "      <td>0.001713</td>\n",
              "      <td>0.002252</td>\n",
              "      <td>0.000000</td>\n",
              "      <td>0.000000</td>\n",
              "      <td>0.007882</td>\n",
              "      <td>0.000895</td>\n",
              "      <td>7.930000</td>\n",
              "      <td>12.020000</td>\n",
              "      <td>50.410000</td>\n",
              "      <td>185.200000</td>\n",
              "      <td>0.071170</td>\n",
              "      <td>0.027290</td>\n",
              "      <td>0.000000</td>\n",
              "      <td>0.000000</td>\n",
              "      <td>0.156500</td>\n",
              "      <td>0.055040</td>\n",
              "      <td>0.000000</td>\n",
              "    </tr>\n",
              "    <tr>\n",
              "      <th>25%</th>\n",
              "      <td>11.700000</td>\n",
              "      <td>16.170000</td>\n",
              "      <td>75.170000</td>\n",
              "      <td>420.300000</td>\n",
              "      <td>0.086370</td>\n",
              "      <td>0.064920</td>\n",
              "      <td>0.029560</td>\n",
              "      <td>0.020310</td>\n",
              "      <td>0.161900</td>\n",
              "      <td>0.057700</td>\n",
              "      <td>0.232400</td>\n",
              "      <td>0.833900</td>\n",
              "      <td>1.606000</td>\n",
              "      <td>17.850000</td>\n",
              "      <td>0.005169</td>\n",
              "      <td>0.013080</td>\n",
              "      <td>0.015090</td>\n",
              "      <td>0.007638</td>\n",
              "      <td>0.015160</td>\n",
              "      <td>0.002248</td>\n",
              "      <td>13.010000</td>\n",
              "      <td>21.080000</td>\n",
              "      <td>84.110000</td>\n",
              "      <td>515.300000</td>\n",
              "      <td>0.116600</td>\n",
              "      <td>0.147200</td>\n",
              "      <td>0.114500</td>\n",
              "      <td>0.064930</td>\n",
              "      <td>0.250400</td>\n",
              "      <td>0.071460</td>\n",
              "      <td>0.000000</td>\n",
              "    </tr>\n",
              "    <tr>\n",
              "      <th>50%</th>\n",
              "      <td>13.370000</td>\n",
              "      <td>18.840000</td>\n",
              "      <td>86.240000</td>\n",
              "      <td>551.100000</td>\n",
              "      <td>0.095870</td>\n",
              "      <td>0.092630</td>\n",
              "      <td>0.061540</td>\n",
              "      <td>0.033500</td>\n",
              "      <td>0.179200</td>\n",
              "      <td>0.061540</td>\n",
              "      <td>0.324200</td>\n",
              "      <td>1.108000</td>\n",
              "      <td>2.287000</td>\n",
              "      <td>24.530000</td>\n",
              "      <td>0.006380</td>\n",
              "      <td>0.020450</td>\n",
              "      <td>0.025890</td>\n",
              "      <td>0.010930</td>\n",
              "      <td>0.018730</td>\n",
              "      <td>0.003187</td>\n",
              "      <td>14.970000</td>\n",
              "      <td>25.410000</td>\n",
              "      <td>97.660000</td>\n",
              "      <td>686.500000</td>\n",
              "      <td>0.131300</td>\n",
              "      <td>0.211900</td>\n",
              "      <td>0.226700</td>\n",
              "      <td>0.099930</td>\n",
              "      <td>0.282200</td>\n",
              "      <td>0.080040</td>\n",
              "      <td>1.000000</td>\n",
              "    </tr>\n",
              "    <tr>\n",
              "      <th>75%</th>\n",
              "      <td>15.780000</td>\n",
              "      <td>21.800000</td>\n",
              "      <td>104.100000</td>\n",
              "      <td>782.700000</td>\n",
              "      <td>0.105300</td>\n",
              "      <td>0.130400</td>\n",
              "      <td>0.130700</td>\n",
              "      <td>0.074000</td>\n",
              "      <td>0.195700</td>\n",
              "      <td>0.066120</td>\n",
              "      <td>0.478900</td>\n",
              "      <td>1.474000</td>\n",
              "      <td>3.357000</td>\n",
              "      <td>45.190000</td>\n",
              "      <td>0.008146</td>\n",
              "      <td>0.032450</td>\n",
              "      <td>0.042050</td>\n",
              "      <td>0.014710</td>\n",
              "      <td>0.023480</td>\n",
              "      <td>0.004558</td>\n",
              "      <td>18.790000</td>\n",
              "      <td>29.720000</td>\n",
              "      <td>125.400000</td>\n",
              "      <td>1084.000000</td>\n",
              "      <td>0.146000</td>\n",
              "      <td>0.339100</td>\n",
              "      <td>0.382900</td>\n",
              "      <td>0.161400</td>\n",
              "      <td>0.317900</td>\n",
              "      <td>0.092080</td>\n",
              "      <td>1.000000</td>\n",
              "    </tr>\n",
              "    <tr>\n",
              "      <th>max</th>\n",
              "      <td>28.110000</td>\n",
              "      <td>39.280000</td>\n",
              "      <td>188.500000</td>\n",
              "      <td>2501.000000</td>\n",
              "      <td>0.163400</td>\n",
              "      <td>0.345400</td>\n",
              "      <td>0.426800</td>\n",
              "      <td>0.201200</td>\n",
              "      <td>0.304000</td>\n",
              "      <td>0.097440</td>\n",
              "      <td>2.873000</td>\n",
              "      <td>4.885000</td>\n",
              "      <td>21.980000</td>\n",
              "      <td>542.200000</td>\n",
              "      <td>0.031130</td>\n",
              "      <td>0.135400</td>\n",
              "      <td>0.396000</td>\n",
              "      <td>0.052790</td>\n",
              "      <td>0.078950</td>\n",
              "      <td>0.029840</td>\n",
              "      <td>36.040000</td>\n",
              "      <td>49.540000</td>\n",
              "      <td>251.200000</td>\n",
              "      <td>4254.000000</td>\n",
              "      <td>0.222600</td>\n",
              "      <td>1.058000</td>\n",
              "      <td>1.252000</td>\n",
              "      <td>0.291000</td>\n",
              "      <td>0.663800</td>\n",
              "      <td>0.207500</td>\n",
              "      <td>1.000000</td>\n",
              "    </tr>\n",
              "  </tbody>\n",
              "</table>\n",
              "</div>"
            ],
            "text/plain": [
              "       mean radius  mean texture  ...  worst fractal dimension       class\n",
              "count   569.000000    569.000000  ...               569.000000  569.000000\n",
              "mean     14.127292     19.289649  ...                 0.083946    0.627417\n",
              "std       3.524049      4.301036  ...                 0.018061    0.483918\n",
              "min       6.981000      9.710000  ...                 0.055040    0.000000\n",
              "25%      11.700000     16.170000  ...                 0.071460    0.000000\n",
              "50%      13.370000     18.840000  ...                 0.080040    1.000000\n",
              "75%      15.780000     21.800000  ...                 0.092080    1.000000\n",
              "max      28.110000     39.280000  ...                 0.207500    1.000000\n",
              "\n",
              "[8 rows x 31 columns]"
            ]
          },
          "metadata": {
            "tags": []
          },
          "execution_count": 13
        }
      ]
    },
    {
      "cell_type": "code",
      "metadata": {
        "colab": {
          "base_uri": "https://localhost:8080/"
        },
        "id": "WdOwKx1YGL9r",
        "outputId": "6ecc607d-3c1e-4eca-ff84-0f4ffe9dee4d"
      },
      "source": [
        "print(data['class'].value_counts())"
      ],
      "execution_count": null,
      "outputs": [
        {
          "output_type": "stream",
          "text": [
            "1    357\n",
            "0    212\n",
            "Name: class, dtype: int64\n"
          ],
          "name": "stdout"
        }
      ]
    },
    {
      "cell_type": "code",
      "metadata": {
        "colab": {
          "base_uri": "https://localhost:8080/",
          "height": 196
        },
        "id": "Zax1GWttG_J6",
        "outputId": "135520f7-40dc-4afe-bd00-36e3b34ff2eb"
      },
      "source": [
        "data.groupby('class').mean()"
      ],
      "execution_count": null,
      "outputs": [
        {
          "output_type": "execute_result",
          "data": {
            "text/html": [
              "<div>\n",
              "<style scoped>\n",
              "    .dataframe tbody tr th:only-of-type {\n",
              "        vertical-align: middle;\n",
              "    }\n",
              "\n",
              "    .dataframe tbody tr th {\n",
              "        vertical-align: top;\n",
              "    }\n",
              "\n",
              "    .dataframe thead th {\n",
              "        text-align: right;\n",
              "    }\n",
              "</style>\n",
              "<table border=\"1\" class=\"dataframe\">\n",
              "  <thead>\n",
              "    <tr style=\"text-align: right;\">\n",
              "      <th></th>\n",
              "      <th>mean radius</th>\n",
              "      <th>mean texture</th>\n",
              "      <th>mean perimeter</th>\n",
              "      <th>mean area</th>\n",
              "      <th>mean smoothness</th>\n",
              "      <th>mean compactness</th>\n",
              "      <th>mean concavity</th>\n",
              "      <th>mean concave points</th>\n",
              "      <th>mean symmetry</th>\n",
              "      <th>mean fractal dimension</th>\n",
              "      <th>radius error</th>\n",
              "      <th>texture error</th>\n",
              "      <th>perimeter error</th>\n",
              "      <th>area error</th>\n",
              "      <th>smoothness error</th>\n",
              "      <th>compactness error</th>\n",
              "      <th>concavity error</th>\n",
              "      <th>concave points error</th>\n",
              "      <th>symmetry error</th>\n",
              "      <th>fractal dimension error</th>\n",
              "      <th>worst radius</th>\n",
              "      <th>worst texture</th>\n",
              "      <th>worst perimeter</th>\n",
              "      <th>worst area</th>\n",
              "      <th>worst smoothness</th>\n",
              "      <th>worst compactness</th>\n",
              "      <th>worst concavity</th>\n",
              "      <th>worst concave points</th>\n",
              "      <th>worst symmetry</th>\n",
              "      <th>worst fractal dimension</th>\n",
              "    </tr>\n",
              "    <tr>\n",
              "      <th>class</th>\n",
              "      <th></th>\n",
              "      <th></th>\n",
              "      <th></th>\n",
              "      <th></th>\n",
              "      <th></th>\n",
              "      <th></th>\n",
              "      <th></th>\n",
              "      <th></th>\n",
              "      <th></th>\n",
              "      <th></th>\n",
              "      <th></th>\n",
              "      <th></th>\n",
              "      <th></th>\n",
              "      <th></th>\n",
              "      <th></th>\n",
              "      <th></th>\n",
              "      <th></th>\n",
              "      <th></th>\n",
              "      <th></th>\n",
              "      <th></th>\n",
              "      <th></th>\n",
              "      <th></th>\n",
              "      <th></th>\n",
              "      <th></th>\n",
              "      <th></th>\n",
              "      <th></th>\n",
              "      <th></th>\n",
              "      <th></th>\n",
              "      <th></th>\n",
              "      <th></th>\n",
              "    </tr>\n",
              "  </thead>\n",
              "  <tbody>\n",
              "    <tr>\n",
              "      <th>0</th>\n",
              "      <td>17.462830</td>\n",
              "      <td>21.604906</td>\n",
              "      <td>115.365377</td>\n",
              "      <td>978.376415</td>\n",
              "      <td>0.102898</td>\n",
              "      <td>0.145188</td>\n",
              "      <td>0.160775</td>\n",
              "      <td>0.087990</td>\n",
              "      <td>0.192909</td>\n",
              "      <td>0.062680</td>\n",
              "      <td>0.609083</td>\n",
              "      <td>1.210915</td>\n",
              "      <td>4.323929</td>\n",
              "      <td>72.672406</td>\n",
              "      <td>0.006780</td>\n",
              "      <td>0.032281</td>\n",
              "      <td>0.041824</td>\n",
              "      <td>0.015060</td>\n",
              "      <td>0.020472</td>\n",
              "      <td>0.004062</td>\n",
              "      <td>21.134811</td>\n",
              "      <td>29.318208</td>\n",
              "      <td>141.370330</td>\n",
              "      <td>1422.286321</td>\n",
              "      <td>0.144845</td>\n",
              "      <td>0.374824</td>\n",
              "      <td>0.450606</td>\n",
              "      <td>0.182237</td>\n",
              "      <td>0.323468</td>\n",
              "      <td>0.091530</td>\n",
              "    </tr>\n",
              "    <tr>\n",
              "      <th>1</th>\n",
              "      <td>12.146524</td>\n",
              "      <td>17.914762</td>\n",
              "      <td>78.075406</td>\n",
              "      <td>462.790196</td>\n",
              "      <td>0.092478</td>\n",
              "      <td>0.080085</td>\n",
              "      <td>0.046058</td>\n",
              "      <td>0.025717</td>\n",
              "      <td>0.174186</td>\n",
              "      <td>0.062867</td>\n",
              "      <td>0.284082</td>\n",
              "      <td>1.220380</td>\n",
              "      <td>2.000321</td>\n",
              "      <td>21.135148</td>\n",
              "      <td>0.007196</td>\n",
              "      <td>0.021438</td>\n",
              "      <td>0.025997</td>\n",
              "      <td>0.009858</td>\n",
              "      <td>0.020584</td>\n",
              "      <td>0.003636</td>\n",
              "      <td>13.379801</td>\n",
              "      <td>23.515070</td>\n",
              "      <td>87.005938</td>\n",
              "      <td>558.899440</td>\n",
              "      <td>0.124959</td>\n",
              "      <td>0.182673</td>\n",
              "      <td>0.166238</td>\n",
              "      <td>0.074444</td>\n",
              "      <td>0.270246</td>\n",
              "      <td>0.079442</td>\n",
              "    </tr>\n",
              "  </tbody>\n",
              "</table>\n",
              "</div>"
            ],
            "text/plain": [
              "       mean radius  mean texture  ...  worst symmetry  worst fractal dimension\n",
              "class                             ...                                         \n",
              "0        17.462830     21.604906  ...        0.323468                 0.091530\n",
              "1        12.146524     17.914762  ...        0.270246                 0.079442\n",
              "\n",
              "[2 rows x 30 columns]"
            ]
          },
          "metadata": {
            "tags": []
          },
          "execution_count": 16
        }
      ]
    },
    {
      "cell_type": "code",
      "metadata": {
        "colab": {
          "base_uri": "https://localhost:8080/"
        },
        "id": "JwTWwmwsHNqd",
        "outputId": "028fbd47-5fb9-4fcc-b4fd-135f79c36605"
      },
      "source": [
        "print(breast_cancer.target_names)"
      ],
      "execution_count": null,
      "outputs": [
        {
          "output_type": "stream",
          "text": [
            "['malignant' 'benign']\n"
          ],
          "name": "stdout"
        }
      ]
    },
    {
      "cell_type": "code",
      "metadata": {
        "id": "mOk3qTusHWtX"
      },
      "source": [
        ""
      ],
      "execution_count": null,
      "outputs": []
    },
    {
      "cell_type": "markdown",
      "metadata": {
        "id": "FOFRKodRHsxk"
      },
      "source": [
        "## Test train split"
      ]
    },
    {
      "cell_type": "code",
      "metadata": {
        "id": "KO26NPv8Hwvs"
      },
      "source": [
        "from sklearn.model_selection import train_test_split"
      ],
      "execution_count": null,
      "outputs": []
    },
    {
      "cell_type": "code",
      "metadata": {
        "id": "dfhDp1x7H4B9"
      },
      "source": [
        "X = data.drop('class', axis=1)\n",
        "Y = data['class']"
      ],
      "execution_count": null,
      "outputs": []
    },
    {
      "cell_type": "code",
      "metadata": {
        "colab": {
          "base_uri": "https://localhost:8080/"
        },
        "id": "RB0WLJ9yIBCY",
        "outputId": "e43bed9b-663c-46b6-df22-4bdc4bcb1e52"
      },
      "source": [
        "type(X)"
      ],
      "execution_count": null,
      "outputs": [
        {
          "output_type": "execute_result",
          "data": {
            "text/plain": [
              "pandas.core.frame.DataFrame"
            ]
          },
          "metadata": {
            "tags": []
          },
          "execution_count": 52
        }
      ]
    },
    {
      "cell_type": "code",
      "metadata": {
        "colab": {
          "base_uri": "https://localhost:8080/",
          "height": 258
        },
        "id": "cgpZHlDkK9NE",
        "outputId": "02cd92a0-87ea-4ce1-b74b-28009037ecad"
      },
      "source": [
        "X.head()"
      ],
      "execution_count": null,
      "outputs": [
        {
          "output_type": "execute_result",
          "data": {
            "text/html": [
              "<div>\n",
              "<style scoped>\n",
              "    .dataframe tbody tr th:only-of-type {\n",
              "        vertical-align: middle;\n",
              "    }\n",
              "\n",
              "    .dataframe tbody tr th {\n",
              "        vertical-align: top;\n",
              "    }\n",
              "\n",
              "    .dataframe thead th {\n",
              "        text-align: right;\n",
              "    }\n",
              "</style>\n",
              "<table border=\"1\" class=\"dataframe\">\n",
              "  <thead>\n",
              "    <tr style=\"text-align: right;\">\n",
              "      <th></th>\n",
              "      <th>mean radius</th>\n",
              "      <th>mean texture</th>\n",
              "      <th>mean perimeter</th>\n",
              "      <th>mean area</th>\n",
              "      <th>mean smoothness</th>\n",
              "      <th>mean compactness</th>\n",
              "      <th>mean concavity</th>\n",
              "      <th>mean concave points</th>\n",
              "      <th>mean symmetry</th>\n",
              "      <th>mean fractal dimension</th>\n",
              "      <th>radius error</th>\n",
              "      <th>texture error</th>\n",
              "      <th>perimeter error</th>\n",
              "      <th>area error</th>\n",
              "      <th>smoothness error</th>\n",
              "      <th>compactness error</th>\n",
              "      <th>concavity error</th>\n",
              "      <th>concave points error</th>\n",
              "      <th>symmetry error</th>\n",
              "      <th>fractal dimension error</th>\n",
              "      <th>worst radius</th>\n",
              "      <th>worst texture</th>\n",
              "      <th>worst perimeter</th>\n",
              "      <th>worst area</th>\n",
              "      <th>worst smoothness</th>\n",
              "      <th>worst compactness</th>\n",
              "      <th>worst concavity</th>\n",
              "      <th>worst concave points</th>\n",
              "      <th>worst symmetry</th>\n",
              "      <th>worst fractal dimension</th>\n",
              "    </tr>\n",
              "  </thead>\n",
              "  <tbody>\n",
              "    <tr>\n",
              "      <th>0</th>\n",
              "      <td>17.99</td>\n",
              "      <td>10.38</td>\n",
              "      <td>122.80</td>\n",
              "      <td>1001.0</td>\n",
              "      <td>0.11840</td>\n",
              "      <td>0.27760</td>\n",
              "      <td>0.3001</td>\n",
              "      <td>0.14710</td>\n",
              "      <td>0.2419</td>\n",
              "      <td>0.07871</td>\n",
              "      <td>1.0950</td>\n",
              "      <td>0.9053</td>\n",
              "      <td>8.589</td>\n",
              "      <td>153.40</td>\n",
              "      <td>0.006399</td>\n",
              "      <td>0.04904</td>\n",
              "      <td>0.05373</td>\n",
              "      <td>0.01587</td>\n",
              "      <td>0.03003</td>\n",
              "      <td>0.006193</td>\n",
              "      <td>25.38</td>\n",
              "      <td>17.33</td>\n",
              "      <td>184.60</td>\n",
              "      <td>2019.0</td>\n",
              "      <td>0.1622</td>\n",
              "      <td>0.6656</td>\n",
              "      <td>0.7119</td>\n",
              "      <td>0.2654</td>\n",
              "      <td>0.4601</td>\n",
              "      <td>0.11890</td>\n",
              "    </tr>\n",
              "    <tr>\n",
              "      <th>1</th>\n",
              "      <td>20.57</td>\n",
              "      <td>17.77</td>\n",
              "      <td>132.90</td>\n",
              "      <td>1326.0</td>\n",
              "      <td>0.08474</td>\n",
              "      <td>0.07864</td>\n",
              "      <td>0.0869</td>\n",
              "      <td>0.07017</td>\n",
              "      <td>0.1812</td>\n",
              "      <td>0.05667</td>\n",
              "      <td>0.5435</td>\n",
              "      <td>0.7339</td>\n",
              "      <td>3.398</td>\n",
              "      <td>74.08</td>\n",
              "      <td>0.005225</td>\n",
              "      <td>0.01308</td>\n",
              "      <td>0.01860</td>\n",
              "      <td>0.01340</td>\n",
              "      <td>0.01389</td>\n",
              "      <td>0.003532</td>\n",
              "      <td>24.99</td>\n",
              "      <td>23.41</td>\n",
              "      <td>158.80</td>\n",
              "      <td>1956.0</td>\n",
              "      <td>0.1238</td>\n",
              "      <td>0.1866</td>\n",
              "      <td>0.2416</td>\n",
              "      <td>0.1860</td>\n",
              "      <td>0.2750</td>\n",
              "      <td>0.08902</td>\n",
              "    </tr>\n",
              "    <tr>\n",
              "      <th>2</th>\n",
              "      <td>19.69</td>\n",
              "      <td>21.25</td>\n",
              "      <td>130.00</td>\n",
              "      <td>1203.0</td>\n",
              "      <td>0.10960</td>\n",
              "      <td>0.15990</td>\n",
              "      <td>0.1974</td>\n",
              "      <td>0.12790</td>\n",
              "      <td>0.2069</td>\n",
              "      <td>0.05999</td>\n",
              "      <td>0.7456</td>\n",
              "      <td>0.7869</td>\n",
              "      <td>4.585</td>\n",
              "      <td>94.03</td>\n",
              "      <td>0.006150</td>\n",
              "      <td>0.04006</td>\n",
              "      <td>0.03832</td>\n",
              "      <td>0.02058</td>\n",
              "      <td>0.02250</td>\n",
              "      <td>0.004571</td>\n",
              "      <td>23.57</td>\n",
              "      <td>25.53</td>\n",
              "      <td>152.50</td>\n",
              "      <td>1709.0</td>\n",
              "      <td>0.1444</td>\n",
              "      <td>0.4245</td>\n",
              "      <td>0.4504</td>\n",
              "      <td>0.2430</td>\n",
              "      <td>0.3613</td>\n",
              "      <td>0.08758</td>\n",
              "    </tr>\n",
              "    <tr>\n",
              "      <th>3</th>\n",
              "      <td>11.42</td>\n",
              "      <td>20.38</td>\n",
              "      <td>77.58</td>\n",
              "      <td>386.1</td>\n",
              "      <td>0.14250</td>\n",
              "      <td>0.28390</td>\n",
              "      <td>0.2414</td>\n",
              "      <td>0.10520</td>\n",
              "      <td>0.2597</td>\n",
              "      <td>0.09744</td>\n",
              "      <td>0.4956</td>\n",
              "      <td>1.1560</td>\n",
              "      <td>3.445</td>\n",
              "      <td>27.23</td>\n",
              "      <td>0.009110</td>\n",
              "      <td>0.07458</td>\n",
              "      <td>0.05661</td>\n",
              "      <td>0.01867</td>\n",
              "      <td>0.05963</td>\n",
              "      <td>0.009208</td>\n",
              "      <td>14.91</td>\n",
              "      <td>26.50</td>\n",
              "      <td>98.87</td>\n",
              "      <td>567.7</td>\n",
              "      <td>0.2098</td>\n",
              "      <td>0.8663</td>\n",
              "      <td>0.6869</td>\n",
              "      <td>0.2575</td>\n",
              "      <td>0.6638</td>\n",
              "      <td>0.17300</td>\n",
              "    </tr>\n",
              "    <tr>\n",
              "      <th>4</th>\n",
              "      <td>20.29</td>\n",
              "      <td>14.34</td>\n",
              "      <td>135.10</td>\n",
              "      <td>1297.0</td>\n",
              "      <td>0.10030</td>\n",
              "      <td>0.13280</td>\n",
              "      <td>0.1980</td>\n",
              "      <td>0.10430</td>\n",
              "      <td>0.1809</td>\n",
              "      <td>0.05883</td>\n",
              "      <td>0.7572</td>\n",
              "      <td>0.7813</td>\n",
              "      <td>5.438</td>\n",
              "      <td>94.44</td>\n",
              "      <td>0.011490</td>\n",
              "      <td>0.02461</td>\n",
              "      <td>0.05688</td>\n",
              "      <td>0.01885</td>\n",
              "      <td>0.01756</td>\n",
              "      <td>0.005115</td>\n",
              "      <td>22.54</td>\n",
              "      <td>16.67</td>\n",
              "      <td>152.20</td>\n",
              "      <td>1575.0</td>\n",
              "      <td>0.1374</td>\n",
              "      <td>0.2050</td>\n",
              "      <td>0.4000</td>\n",
              "      <td>0.1625</td>\n",
              "      <td>0.2364</td>\n",
              "      <td>0.07678</td>\n",
              "    </tr>\n",
              "  </tbody>\n",
              "</table>\n",
              "</div>"
            ],
            "text/plain": [
              "   mean radius  mean texture  ...  worst symmetry  worst fractal dimension\n",
              "0        17.99         10.38  ...          0.4601                  0.11890\n",
              "1        20.57         17.77  ...          0.2750                  0.08902\n",
              "2        19.69         21.25  ...          0.3613                  0.08758\n",
              "3        11.42         20.38  ...          0.6638                  0.17300\n",
              "4        20.29         14.34  ...          0.2364                  0.07678\n",
              "\n",
              "[5 rows x 30 columns]"
            ]
          },
          "metadata": {
            "tags": []
          },
          "execution_count": 53
        }
      ]
    },
    {
      "cell_type": "code",
      "metadata": {
        "id": "dpXOMSgiICUW"
      },
      "source": [
        "X_train, X_test, Y_train, Y_test = train_test_split(X,Y, test_size=0.1)"
      ],
      "execution_count": null,
      "outputs": []
    },
    {
      "cell_type": "code",
      "metadata": {
        "colab": {
          "base_uri": "https://localhost:8080/"
        },
        "id": "WrukPSYmIyf_",
        "outputId": "ceb6f159-592b-4f7a-e8c4-35fe2ea83519"
      },
      "source": [
        "print(X.shape, X_test.shape, X_train.shape, Y.shape, Y_test.shape, Y_train.shape)"
      ],
      "execution_count": null,
      "outputs": [
        {
          "output_type": "stream",
          "text": [
            "(569, 30) (57, 30) (512, 30) (569,) (57,) (512,)\n"
          ],
          "name": "stdout"
        }
      ]
    },
    {
      "cell_type": "code",
      "metadata": {
        "colab": {
          "base_uri": "https://localhost:8080/"
        },
        "id": "B0aiWgjKI8VU",
        "outputId": "1b8b99b1-eecc-45df-80d0-7f55f71ce613"
      },
      "source": [
        "print(Y.mean(), Y_train.mean(), Y_test.mean())"
      ],
      "execution_count": null,
      "outputs": [
        {
          "output_type": "stream",
          "text": [
            "0.6274165202108963 0.611328125 0.7719298245614035\n"
          ],
          "name": "stdout"
        }
      ]
    },
    {
      "cell_type": "code",
      "metadata": {
        "id": "VSgQuepkJruv"
      },
      "source": [
        "X_train, X_test, Y_train, Y_test = train_test_split(X,Y, test_size=0.1, stratify=Y)"
      ],
      "execution_count": null,
      "outputs": []
    },
    {
      "cell_type": "code",
      "metadata": {
        "colab": {
          "base_uri": "https://localhost:8080/"
        },
        "id": "Y3U_rI7jJyco",
        "outputId": "277bf664-98b5-4214-c6eb-f1e5846d1c99"
      },
      "source": [
        "print(X.mean(), X_train.mean(), X_test.mean())"
      ],
      "execution_count": null,
      "outputs": [
        {
          "output_type": "stream",
          "text": [
            "mean radius                 14.127292\n",
            "mean texture                19.289649\n",
            "mean perimeter              91.969033\n",
            "mean area                  654.889104\n",
            "mean smoothness              0.096360\n",
            "mean compactness             0.104341\n",
            "mean concavity               0.088799\n",
            "mean concave points          0.048919\n",
            "mean symmetry                0.181162\n",
            "mean fractal dimension       0.062798\n",
            "radius error                 0.405172\n",
            "texture error                1.216853\n",
            "perimeter error              2.866059\n",
            "area error                  40.337079\n",
            "smoothness error             0.007041\n",
            "compactness error            0.025478\n",
            "concavity error              0.031894\n",
            "concave points error         0.011796\n",
            "symmetry error               0.020542\n",
            "fractal dimension error      0.003795\n",
            "worst radius                16.269190\n",
            "worst texture               25.677223\n",
            "worst perimeter            107.261213\n",
            "worst area                 880.583128\n",
            "worst smoothness             0.132369\n",
            "worst compactness            0.254265\n",
            "worst concavity              0.272188\n",
            "worst concave points         0.114606\n",
            "worst symmetry               0.290076\n",
            "worst fractal dimension      0.083946\n",
            "dtype: float64 mean radius                 14.123723\n",
            "mean texture                19.265977\n",
            "mean perimeter              91.969355\n",
            "mean area                  655.989648\n",
            "mean smoothness              0.096581\n",
            "mean compactness             0.104444\n",
            "mean concavity               0.089219\n",
            "mean concave points          0.049102\n",
            "mean symmetry                0.181185\n",
            "mean fractal dimension       0.062887\n",
            "radius error                 0.408376\n",
            "texture error                1.214421\n",
            "perimeter error              2.888519\n",
            "area error                  40.848443\n",
            "smoothness error             0.007074\n",
            "compactness error            0.025589\n",
            "concavity error              0.032107\n",
            "concave points error         0.011812\n",
            "symmetry error               0.020707\n",
            "fractal dimension error      0.003830\n",
            "worst radius                16.267307\n",
            "worst texture               25.610098\n",
            "worst perimeter            107.291055\n",
            "worst area                 882.602930\n",
            "worst smoothness             0.132301\n",
            "worst compactness            0.252900\n",
            "worst concavity              0.271013\n",
            "worst concave points         0.114226\n",
            "worst symmetry               0.290218\n",
            "worst fractal dimension      0.083913\n",
            "dtype: float64 mean radius                 14.159351\n",
            "mean texture                19.502281\n",
            "mean perimeter              91.966140\n",
            "mean area                  645.003509\n",
            "mean smoothness              0.094379\n",
            "mean compactness             0.103415\n",
            "mean concavity               0.085029\n",
            "mean concave points          0.047281\n",
            "mean symmetry                0.180953\n",
            "mean fractal dimension       0.061995\n",
            "radius error                 0.376395\n",
            "texture error                1.238707\n",
            "perimeter error              2.664316\n",
            "area error                  35.743772\n",
            "smoothness error             0.006742\n",
            "compactness error            0.024479\n",
            "concavity error              0.029982\n",
            "concave points error         0.011658\n",
            "symmetry error               0.019067\n",
            "fractal dimension error      0.003476\n",
            "worst radius                16.286105\n",
            "worst texture               26.280175\n",
            "worst perimeter            106.993158\n",
            "worst area                 862.440351\n",
            "worst smoothness             0.132975\n",
            "worst compactness            0.266522\n",
            "worst concavity              0.282748\n",
            "worst concave points         0.118025\n",
            "worst symmetry               0.288796\n",
            "worst fractal dimension      0.084241\n",
            "dtype: float64\n"
          ],
          "name": "stdout"
        }
      ]
    },
    {
      "cell_type": "code",
      "metadata": {
        "id": "bNlKuo67KWph"
      },
      "source": [
        "X_train, X_test, Y_train, Y_test = train_test_split(X,Y, test_size=0.1, random_state=1)"
      ],
      "execution_count": null,
      "outputs": []
    },
    {
      "cell_type": "code",
      "metadata": {
        "colab": {
          "base_uri": "https://localhost:8080/"
        },
        "id": "v14HLQ3JKn4D",
        "outputId": "4dfc4cbe-daff-4674-979a-3f7ed698251d"
      },
      "source": [
        "X.mean()"
      ],
      "execution_count": null,
      "outputs": [
        {
          "output_type": "execute_result",
          "data": {
            "text/plain": [
              "mean radius                 14.127292\n",
              "mean texture                19.289649\n",
              "mean perimeter              91.969033\n",
              "mean area                  654.889104\n",
              "mean smoothness              0.096360\n",
              "mean compactness             0.104341\n",
              "mean concavity               0.088799\n",
              "mean concave points          0.048919\n",
              "mean symmetry                0.181162\n",
              "mean fractal dimension       0.062798\n",
              "radius error                 0.405172\n",
              "texture error                1.216853\n",
              "perimeter error              2.866059\n",
              "area error                  40.337079\n",
              "smoothness error             0.007041\n",
              "compactness error            0.025478\n",
              "concavity error              0.031894\n",
              "concave points error         0.011796\n",
              "symmetry error               0.020542\n",
              "fractal dimension error      0.003795\n",
              "worst radius                16.269190\n",
              "worst texture               25.677223\n",
              "worst perimeter            107.261213\n",
              "worst area                 880.583128\n",
              "worst smoothness             0.132369\n",
              "worst compactness            0.254265\n",
              "worst concavity              0.272188\n",
              "worst concave points         0.114606\n",
              "worst symmetry               0.290076\n",
              "worst fractal dimension      0.083946\n",
              "dtype: float64"
            ]
          },
          "metadata": {
            "tags": []
          },
          "execution_count": 60
        }
      ]
    },
    {
      "cell_type": "markdown",
      "metadata": {
        "id": "iYKG8m4OMt2Z"
      },
      "source": [
        "## Binarization of Input"
      ]
    },
    {
      "cell_type": "code",
      "metadata": {
        "id": "WoegqouwNXbU"
      },
      "source": [
        "import matplotlib.pyplot as plt"
      ],
      "execution_count": null,
      "outputs": []
    },
    {
      "cell_type": "code",
      "metadata": {
        "colab": {
          "base_uri": "https://localhost:8080/",
          "height": 374
        },
        "id": "8HStefXHNkNT",
        "outputId": "c9b14a59-adbd-4aa0-f44c-6db3a0c50f8a"
      },
      "source": [
        "plt.plot(X_train.T, '*')\n",
        "plt.xticks(rotation='vertical')\n",
        "plt.show()"
      ],
      "execution_count": null,
      "outputs": [
        {
          "output_type": "display_data",
          "data": {
            "image/png": "[encoded data removed]",
            "text/plain": [
              "<Figure size 432x288 with 1 Axes>"
            ]
          },
          "metadata": {
            "tags": [],
            "needs_background": "light"
          }
        }
      ]
    },
    {
      "cell_type": "code",
      "metadata": {
        "id": "A4nntSyENtAk"
      },
      "source": [
        "X_binarized_3_train = X_train['mean area'].map(lambda x:0 if x<1000 else 1)"
      ],
      "execution_count": null,
      "outputs": []
    },
    {
      "cell_type": "code",
      "metadata": {
        "colab": {
          "base_uri": "https://localhost:8080/",
          "height": 282
        },
        "id": "k2RLWFcxOYvC",
        "outputId": "ba8beacf-73aa-40d7-82ab-a47712e4f94f"
      },
      "source": [
        "plt.plot(X_binarized_3_train.T,'*')"
      ],
      "execution_count": null,
      "outputs": [
        {
          "output_type": "execute_result",
          "data": {
            "text/plain": [
              "[<matplotlib.lines.Line2D at 0x7f0f331c1a58>]"
            ]
          },
          "metadata": {
            "tags": []
          },
          "execution_count": 76
        },
        {
          "output_type": "display_data",
          "data": {
            "image/png": "[encoded data removed]",
            "text/plain": [
              "<Figure size 432x288 with 1 Axes>"
            ]
          },
          "metadata": {
            "tags": [],
            "needs_background": "light"
          }
        }
      ]
    },
    {
      "cell_type": "code",
      "metadata": {
        "id": "m6F0ZmYrPHeX"
      },
      "source": [
        "X_binarized_train = X_train.apply(pd.cut, bins=2, labels=[1,0])"
      ],
      "execution_count": null,
      "outputs": []
    },
    {
      "cell_type": "code",
      "metadata": {
        "colab": {
          "base_uri": "https://localhost:8080/",
          "height": 374
        },
        "id": "pgZYQ_uYPXF-",
        "outputId": "573b0cee-e8a7-42b7-a9a3-f8d9f5eb4025"
      },
      "source": [
        "plt.plot(X_binarized_train.T, '*')\n",
        "plt.xticks(rotation='vertical')\n",
        "plt.show()"
      ],
      "execution_count": null,
      "outputs": [
        {
          "output_type": "display_data",
          "data": {
            "image/png": "[encoded data removed]",
            "text/plain": [
              "<Figure size 432x288 with 1 Axes>"
            ]
          },
          "metadata": {
            "tags": [],
            "needs_background": "light"
          }
        }
      ]
    },
    {
      "cell_type": "code",
      "metadata": {
        "id": "JeewC4LePjpQ"
      },
      "source": [
        "X_binarized_test = X_test.apply(pd.cut, bins=2, labels=[1,0])"
      ],
      "execution_count": null,
      "outputs": []
    },
    {
      "cell_type": "code",
      "metadata": {
        "colab": {
          "base_uri": "https://localhost:8080/",
          "height": 374
        },
        "id": "k6pOHGXdPy6G",
        "outputId": "117c701e-e6bd-4d8c-fbac-83d241035be7"
      },
      "source": [
        "plt.plot(X_binarized_test.T, '*')\n",
        "plt.xticks(rotation='vertical')\n",
        "plt.show()"
      ],
      "execution_count": null,
      "outputs": [
        {
          "output_type": "display_data",
          "data": {
            "image/png": "[encoded data removed]",
            "text/plain": [
              "<Figure size 432x288 with 1 Axes>"
            ]
          },
          "metadata": {
            "tags": [],
            "needs_background": "light"
          }
        }
      ]
    },
    {
      "cell_type": "code",
      "metadata": {
        "colab": {
          "base_uri": "https://localhost:8080/"
        },
        "id": "7GmYTTESP7a3",
        "outputId": "564af0ab-c111-47ff-b476-2adba1836c63"
      },
      "source": [
        "type(X_binarized_test)"
      ],
      "execution_count": null,
      "outputs": [
        {
          "output_type": "execute_result",
          "data": {
            "text/plain": [
              "pandas.core.frame.DataFrame"
            ]
          },
          "metadata": {
            "tags": []
          },
          "execution_count": 115
        }
      ]
    },
    {
      "cell_type": "code",
      "metadata": {
        "id": "hmFh8Dv9QGpp"
      },
      "source": [
        "X_binarized_test = X_binarized_test.values"
      ],
      "execution_count": null,
      "outputs": []
    },
    {
      "cell_type": "code",
      "metadata": {
        "id": "gCJIQffXQNrF"
      },
      "source": [
        "X_binarized_train=X_binarized_train.values"
      ],
      "execution_count": null,
      "outputs": []
    },
    {
      "cell_type": "code",
      "metadata": {
        "colab": {
          "base_uri": "https://localhost:8080/"
        },
        "id": "XfyhD7ytQWIM",
        "outputId": "442030a3-03d6-4adc-9b54-9864dcfb71e1"
      },
      "source": [
        "type(X_binarized_test)"
      ],
      "execution_count": null,
      "outputs": [
        {
          "output_type": "execute_result",
          "data": {
            "text/plain": [
              "numpy.ndarray"
            ]
          },
          "metadata": {
            "tags": []
          },
          "execution_count": 124
        }
      ]
    },
    {
      "cell_type": "code",
      "metadata": {
        "colab": {
          "base_uri": "https://localhost:8080/"
        },
        "id": "l8-miCVqQZZf",
        "outputId": "20a01d27-ff87-4063-dcea-e1394d856e62"
      },
      "source": [
        "type(X_binarized_train)"
      ],
      "execution_count": null,
      "outputs": [
        {
          "output_type": "execute_result",
          "data": {
            "text/plain": [
              "numpy.ndarray"
            ]
          },
          "metadata": {
            "tags": []
          },
          "execution_count": 122
        }
      ]
    },
    {
      "cell_type": "code",
      "metadata": {
        "id": "WarBW5mlQdZV"
      },
      "source": [
        ""
      ],
      "execution_count": null,
      "outputs": []
    },
    {
      "cell_type": "markdown",
      "metadata": {
        "id": "jNpWZYQ-5oO4"
      },
      "source": [
        "# MP Neuron"
      ]
    },
    {
      "cell_type": "markdown",
      "metadata": {
        "id": "f_bqkBmcQrAv"
      },
      "source": [
        "## MP Neuron Model"
      ]
    },
    {
      "cell_type": "code",
      "metadata": {
        "id": "_Z3Kq0ExSK92"
      },
      "source": [
        "from random import randint"
      ],
      "execution_count": null,
      "outputs": []
    },
    {
      "cell_type": "code",
      "metadata": {
        "colab": {
          "base_uri": "https://localhost:8080/"
        },
        "id": "oMxSLSvOQtPt",
        "outputId": "da8d8639-1452-4677-a5b1-c8cd062acac9"
      },
      "source": [
        "b=3\n",
        "\n",
        "i=randint(0, X_binarized_train.shape[0])\n",
        "\n",
        "print('for row', i)\n",
        "\n",
        "if (np.sum(X_binarized_train[i,:]) >= b):\n",
        "  print('MP Neuron is malignant')\n",
        "else:\n",
        "  print('MP Neuron is benign')\n",
        "\n",
        "if (Y_train[i] == 1):\n",
        "  print('Truth is malignant')\n",
        "else:\n",
        "  print('Truth is benign')"
      ],
      "execution_count": null,
      "outputs": [
        {
          "output_type": "stream",
          "text": [
            "for row 52\n",
            "MP Neuron is malignant\n",
            "Truth is malignant\n"
          ],
          "name": "stdout"
        }
      ]
    },
    {
      "cell_type": "code",
      "metadata": {
        "colab": {
          "base_uri": "https://localhost:8080/"
        },
        "id": "zZQiBZtrRev8",
        "outputId": "8ed28171-db61-40dd-9ee6-818fd4f3562e"
      },
      "source": [
        "b = 3\n",
        "\n",
        "Y_pred_train = []\n",
        "accurate_rows = 0\n",
        "\n",
        "for x, y in zip(X_binarized_train, Y_train):\n",
        "  Y_pred = (np.sum(x) >= b)\n",
        "  Y_pred_train.append(Y_pred)\n",
        "  accurate_rows += (y==Y_pred)\n",
        "\n",
        "print(accurate_rows, accurate_rows/X_binarized_train.shape[0])"
      ],
      "execution_count": null,
      "outputs": [
        {
          "output_type": "stream",
          "text": [
            "323 0.630859375\n"
          ],
          "name": "stdout"
        }
      ]
    },
    {
      "cell_type": "code",
      "metadata": {
        "id": "gimrzbRSTjT6"
      },
      "source": [
        "help(pd.cut)"
      ],
      "execution_count": null,
      "outputs": []
    },
    {
      "cell_type": "code",
      "metadata": {
        "id": "mI6LY8dsm-Ye"
      },
      "source": [
        "from sklearn.metrics import accuracy_score"
      ],
      "execution_count": null,
      "outputs": []
    },
    {
      "cell_type": "code",
      "metadata": {
        "colab": {
          "base_uri": "https://localhost:8080/"
        },
        "id": "8pGGjNWjpbKC",
        "outputId": "c7157b97-693d-417d-b457-207e05ac660f"
      },
      "source": [
        "max1=0\n",
        "max_b=0\n",
        "\n",
        "for b in range(X_binarized_train.shape[1]):\n",
        "  Y_pred_train = []\n",
        "  accurate_rows = 0\n",
        "  for x, y in zip(X_binarized_train, Y_train):\n",
        "    Y_pred = (np.sum(x)>=b)\n",
        "    Y_pred_train.append(Y_pred)\n",
        "    accurate_rows += (y==Y_pred)\n",
        "  print(b, accurate_rows/X_binarized_train.shape[0])\n",
        "  if(accurate_rows/X_binarized_train.shape[0]>max):\n",
        "    max=accurate_rows/X_binarized_train.shape[0]\n",
        "    max_b=b\n",
        "\n",
        "print(max_b, max1)"
      ],
      "execution_count": null,
      "outputs": [
        {
          "output_type": "stream",
          "text": [
            "0 0.630859375\n",
            "1 0.630859375\n",
            "2 0.630859375\n",
            "3 0.630859375\n",
            "4 0.630859375\n",
            "5 0.630859375\n",
            "6 0.630859375\n",
            "7 0.630859375\n",
            "8 0.630859375\n",
            "9 0.630859375\n",
            "10 0.630859375\n",
            "11 0.630859375\n",
            "12 0.630859375\n",
            "13 0.6328125\n",
            "14 0.63671875\n",
            "15 0.640625\n",
            "16 0.646484375\n",
            "17 0.65625\n",
            "18 0.662109375\n",
            "19 0.66796875\n",
            "20 0.67578125\n",
            "21 0.697265625\n",
            "22 0.71484375\n",
            "23 0.73828125\n",
            "24 0.775390625\n",
            "25 0.80859375\n",
            "26 0.837890625\n",
            "27 0.86328125\n",
            "28 0.859375\n",
            "29 0.828125\n",
            "0 0\n"
          ],
          "name": "stdout"
        }
      ]
    },
    {
      "cell_type": "code",
      "metadata": {
        "id": "XaBE4sMtqsln"
      },
      "source": [
        "print(max_b)"
      ],
      "execution_count": null,
      "outputs": []
    },
    {
      "cell_type": "code",
      "metadata": {
        "colab": {
          "base_uri": "https://localhost:8080/"
        },
        "id": "pAAVWpcTs0vE",
        "outputId": "ebf4f9e2-bffb-4d0f-89a1-97408147ad83"
      },
      "source": [
        "y_pred_test=[]\n",
        "\n",
        "for x in X_binarized_test:\n",
        "  y_pred = (np.sum(x)>=max_b)\n",
        "  y_pred_test.append(y_pred)\n",
        "  \n",
        "accuracy = accuracy_score(y_pred_test, Y_test)\n",
        "print(max_b, accuracy)\n"
      ],
      "execution_count": null,
      "outputs": [
        {
          "output_type": "stream",
          "text": [
            "27 0.7543859649122807\n"
          ],
          "name": "stdout"
        }
      ]
    },
    {
      "cell_type": "code",
      "metadata": {
        "id": "HUIOEhDXtsiA"
      },
      "source": [
        ""
      ],
      "execution_count": null,
      "outputs": []
    },
    {
      "cell_type": "markdown",
      "metadata": {
        "id": "arH-G1dquBZ7"
      },
      "source": [
        "## MP Neuron Class"
      ]
    },
    {
      "cell_type": "code",
      "metadata": {
        "id": "LKovPgewuDzI"
      },
      "source": [
        "class MPNeuron:\n",
        "\n",
        "  def __init__(self):\n",
        "    self.b = None\n",
        "  \n",
        "  def model(self, x):\n",
        "    return(sum(x) >= self.b)\n",
        "  \n",
        "  def predict(self, X):\n",
        "    Y = []\n",
        "    for x in X:\n",
        "      result = self.model(x)\n",
        "      Y.append(result)\n",
        "    return np.array(Y)\n",
        "\n",
        "  def fit(self, X, Y):\n",
        "    accuracy = {}\n",
        "\n",
        "    for b in range(X.shape[1] + 1):\n",
        "      self.b = b\n",
        "      Y_pred = self.predict(X)\n",
        "      accuracy[b] = accuracy_score(Y_pred, Y)\n",
        "    \n",
        "    best_b = max(accuracy, key = accuracy.get)\n",
        "    self.b = best_b\n",
        "\n",
        "    print('Optimal value of b is', best_b)\n",
        "    print('Highest accuracy is', accuracy[best_b])"
      ],
      "execution_count": null,
      "outputs": []
    },
    {
      "cell_type": "code",
      "metadata": {
        "colab": {
          "base_uri": "https://localhost:8080/"
        },
        "id": "z5X18VpowGUc",
        "outputId": "56162660-e678-4921-c982-42b24bfcdc20"
      },
      "source": [
        "mp_neuron = MPNeuron()\n",
        "mp_neuron.fit(X_binarized_train, Y_train)"
      ],
      "execution_count": null,
      "outputs": [
        {
          "output_type": "stream",
          "text": [
            "Optimal value of b is 27\n",
            "Highest accuracy is 0.86328125\n"
          ],
          "name": "stdout"
        }
      ]
    },
    {
      "cell_type": "code",
      "metadata": {
        "colab": {
          "base_uri": "https://localhost:8080/"
        },
        "id": "AztcqwmfzWNC",
        "outputId": "fb0ca1eb-0494-4578-f6f0-4e7e9fdfe026"
      },
      "source": [
        "Y_test_pred = mp_neuron.predict(X_binarized_test)\n",
        "accuracy1 = accuracy_score(Y_test_pred, Y_test)\n",
        "print(accuracy)"
      ],
      "execution_count": null,
      "outputs": [
        {
          "output_type": "stream",
          "text": [
            "0.7543859649122807\n"
          ],
          "name": "stdout"
        }
      ]
    },
    {
      "cell_type": "code",
      "metadata": {
        "id": "vBaSg15Z0Ezd"
      },
      "source": [
        ""
      ],
      "execution_count": null,
      "outputs": []
    },
    {
      "cell_type": "markdown",
      "metadata": {
        "id": "kjAkuB1j5sqU"
      },
      "source": [
        "# Perceptron"
      ]
    },
    {
      "cell_type": "markdown",
      "metadata": {
        "id": "upfaZWMv1EiI"
      },
      "source": [
        "## Perceptron"
      ]
    },
    {
      "cell_type": "markdown",
      "metadata": {
        "id": "g-w2Zwj72wPJ"
      },
      "source": [
        "$y = 1, \\mbox{if}\\ \\sum_i w_i x_i>=b$\n",
        "\n",
        "$y = 0, \\mbox{otherwise}\\$"
      ]
    },
    {
      "cell_type": "code",
      "metadata": {
        "id": "IsPe1thW3VC8"
      },
      "source": [
        "class Perceptron:\n",
        "\n",
        "  def __init__(self):\n",
        "    self.w = None\n",
        "    self.b = None\n",
        "\n",
        "  def model(self, x):\n",
        "    return 1 if (np.dot(self.w, x) >= self.b) else 0\n",
        "\n",
        "  def predict(self, X):\n",
        "    Y = []\n",
        "    for x in X:\n",
        "      result = self.model(x)\n",
        "      Y.append(result)\n",
        "    return np.array(Y)\n",
        "\n",
        "  def fit(self, X, Y, epochs = 1, lr = 1):\n",
        "    \n",
        "    self.w = np.ones(X.shape[1])\n",
        "    self.b = 0\n",
        "\n",
        "    accuracy = {}\n",
        "    max_accuracy = 0\n",
        "    wt_matrix = []\n",
        "\n",
        "    for i in range(epochs):\n",
        "      for x, y in zip(X,Y):\n",
        "        y_pred = self.model(x)\n",
        "        if y==1 and y_pred==0:\n",
        "          self.w = self.w + lr * x\n",
        "          self.b = self.b + lr * 1\n",
        "        elif y==0 and y_pred==1:\n",
        "          self.w = self.w - lr * x\n",
        "          self.b = self.b - lr * 1\n",
        "      wt_matrix.append(self.w)\n",
        "      accuracy[i] = accuracy_score(self.predict(X), Y)\n",
        "      if(accuracy[i]> max_accuracy):\n",
        "        max_accuracy = accuracy[i]\n",
        "        chkptw = self.w\n",
        "        chkptb = self.b\n",
        "      \n",
        "\n",
        "    self.w = chkptw\n",
        "    self.b = chkptb\n",
        "    \n",
        "    print(max_accuracy)\n",
        "    plt.plot(np.array(list(accuracy.values())).astype(float))\n",
        "    plt.ylim([0,1])\n",
        "    plt.show()\n",
        "\n",
        "    return np.array(wt_matrix)"
      ],
      "execution_count": null,
      "outputs": []
    },
    {
      "cell_type": "code",
      "metadata": {
        "id": "kPgcfwKx6iAk"
      },
      "source": [
        "perceptron = Perceptron()"
      ],
      "execution_count": null,
      "outputs": []
    },
    {
      "cell_type": "code",
      "metadata": {
        "colab": {
          "base_uri": "https://localhost:8080/",
          "height": 286
        },
        "id": "U-NoItX17KA5",
        "outputId": "f65d601a-68eb-4a6f-87c0-e0fed7c0a91f"
      },
      "source": [
        "wt_matrix = perceptron.fit(X_train, Y_train, 100)"
      ],
      "execution_count": null,
      "outputs": [
        {
          "output_type": "stream",
          "text": [
            "0.919921875\n"
          ],
          "name": "stdout"
        },
        {
          "output_type": "display_data",
          "data": {
            "image/png": "[encoded data removed]",
            "text/plain": [
              "<Figure size 432x288 with 1 Axes>"
            ]
          },
          "metadata": {
            "tags": [],
            "needs_background": "light"
          }
        }
      ]
    },
    {
      "cell_type": "code",
      "metadata": {
        "colab": {
          "base_uri": "https://localhost:8080/"
        },
        "id": "l5gy_wtOBE4h",
        "outputId": "47bc0861-e6c6-494f-a8ff-a67b8d39b542"
      },
      "source": [
        "Y_pred_train = perceptron.predict(X_train)\n",
        "print(accuracy_score(Y_pred_train, Y_train))"
      ],
      "execution_count": null,
      "outputs": [
        {
          "output_type": "stream",
          "text": [
            "0.93359375\n"
          ],
          "name": "stdout"
        }
      ]
    },
    {
      "cell_type": "code",
      "metadata": {
        "colab": {
          "base_uri": "https://localhost:8080/"
        },
        "id": "1_YVxSCPNGvB",
        "outputId": "6aef8568-6d0a-4f2a-e468-d3dd17e48464"
      },
      "source": [
        "Y_pred_test = perceptron.predict(X_test)\n",
        "print(accuracy_score(Y_pred_test, Y_test))"
      ],
      "execution_count": null,
      "outputs": [
        {
          "output_type": "stream",
          "text": [
            "0.9649122807017544\n"
          ],
          "name": "stdout"
        }
      ]
    },
    {
      "cell_type": "code",
      "metadata": {
        "colab": {
          "base_uri": "https://localhost:8080/",
          "height": 265
        },
        "id": "q8v5tQFQQctr",
        "outputId": "5454c35a-847f-44ee-d568-db0d8b63957c"
      },
      "source": [
        "plt.plot(wt_matrix[-1,:])\n",
        "plt.show()"
      ],
      "execution_count": null,
      "outputs": [
        {
          "output_type": "display_data",
          "data": {
            "image/png": "[encoded data removed]",
            "text/plain": [
              "<Figure size 432x288 with 1 Axes>"
            ]
          },
          "metadata": {
            "tags": [],
            "needs_background": "light"
          }
        }
      ]
    },
    {
      "cell_type": "code",
      "metadata": {
        "id": "7jIzgT0yQiPd"
      },
      "source": [
        "%matplotlib inline"
      ],
      "execution_count": null,
      "outputs": []
    },
    {
      "cell_type": "code",
      "metadata": {
        "id": "LCMz-f5SQ3tc"
      },
      "source": [
        "from matplotlib import animation, rc\n",
        "from IPython.display import HTML"
      ],
      "execution_count": null,
      "outputs": []
    },
    {
      "cell_type": "code",
      "metadata": {
        "colab": {
          "base_uri": "https://localhost:8080/",
          "height": 269
        },
        "id": "4YRvLeTLRJ7d",
        "outputId": "425aed44-3605-4da0-8b0d-47565e784fd6"
      },
      "source": [
        "fig, ax = plt.subplots()\n",
        "\n",
        "ax.set_xlim((0,wt_matrix.shape[1]))\n",
        "ax.set_ylim((-15000,25000))\n",
        "\n",
        "line, = ax.plot([], [], lw=2)\n",
        "\n"
      ],
      "execution_count": null,
      "outputs": [
        {
          "output_type": "display_data",
          "data": {
            "image/png": "[encoded data removed]",
            "text/plain": [
              "<Figure size 432x288 with 1 Axes>"
            ]
          },
          "metadata": {
            "tags": [],
            "needs_background": "light"
          }
        }
      ]
    },
    {
      "cell_type": "code",
      "metadata": {
        "id": "yAtLwREURqpd"
      },
      "source": [
        "def animate(i):\n",
        "  x = list(range(wt_matrix.shape[1]))\n",
        "  y = wt_matrix[i,:]\n",
        "  line.set_data(x, y)\n",
        "  return (line, )"
      ],
      "execution_count": null,
      "outputs": []
    },
    {
      "cell_type": "code",
      "metadata": {
        "id": "fbTU1guYSAp7"
      },
      "source": [
        "anim = animation.FuncAnimation(fig, animate, frames = 100, interval = 200, blit = True)"
      ],
      "execution_count": null,
      "outputs": []
    },
    {
      "cell_type": "code",
      "metadata": {
        "colab": {
          "base_uri": "https://localhost:8080/",
          "height": 309
        },
        "id": "3uenmWzjSTja",
        "outputId": "e005f278-bd5c-4dbf-96ad-ede90d67ab23"
      },
      "source": [
        "HTML(anim.to_html5_video())"
      ],
      "execution_count": null,
      "outputs": [
        {
          "output_type": "execute_result",
          "data": {
            "text/html": [
              "<video width=\"432\" height=\"288\" controls autoplay loop>\n",
              "  <source type=\"video/mp4\" src=\"data:video/mp4;base64,AAAAHGZ0eXBNNFYgAAACAGlzb21pc28yYXZjMQAAAAhmcmVlAACDPm1kYXQAAAKtBgX//6ncRem9\n",
              "5tlIt5Ys2CDZI+7veDI2NCAtIGNvcmUgMTUyIHIyODU0IGU5YTU5MDMgLSBILjI2NC9NUEVHLTQg\n",
              "QVZDIGNvZGVjIC0gQ29weWxlZnQgMjAwMy0yMDE3IC0gaHR0cDovL3d3dy52aWRlb2xhbi5vcmcv\n",
              "eDI2NC5odG1sIC0gb3B0aW9uczogY2FiYWM9MSByZWY9MyBkZWJsb2NrPTE6MDowIGFuYWx5c2U9\n",
              "MHgzOjB4MTEzIG1lPWhleCBzdWJtZT03IHBzeT0xIHBzeV9yZD0xLjAwOjAuMDAgbWl4ZWRfcmVm\n",
              "PTEgbWVfcmFuZ2U9MTYgY2hyb21hX21lPTEgdHJlbGxpcz0xIDh4OGRjdD0xIGNxbT0wIGRlYWR6\n",
              "b25lPTIxLDExIGZhc3RfcHNraXA9MSBjaHJvbWFfcXBfb2Zmc2V0PS0yIHRocmVhZHM9MyBsb29r\n",
              "YWhlYWRfdGhyZWFkcz0xIHNsaWNlZF90aHJlYWRzPTAgbnI9MCBkZWNpbWF0ZT0xIGludGVybGFj\n",
              "ZWQ9MCBibHVyYXlfY29tcGF0PTAgY29uc3RyYWluZWRfaW50cmE9MCBiZnJhbWVzPTMgYl9weXJh\n",
              "bWlkPTIgYl9hZGFwdD0xIGJfYmlhcz0wIGRpcmVjdD0xIHdlaWdodGI9MSBvcGVuX2dvcD0wIHdl\n",
              "aWdodHA9MiBrZXlpbnQ9MjUwIGtleWludF9taW49NSBzY2VuZWN1dD00MCBpbnRyYV9yZWZyZXNo\n",
              "PTAgcmNfbG9va2FoZWFkPTQwIHJjPWNyZiBtYnRyZWU9MSBjcmY9MjMuMCBxY29tcD0wLjYwIHFw\n",
              "bWluPTAgcXBtYXg9NjkgcXBzdGVwPTQgaXBfcmF0aW89MS40MCBhcT0xOjEuMDAAgAAAEjZliIQA\n",
              "Ev/+963fgU3AQO1rulc4tMurlDQ9UfaUpni2SAAAAwADlGX8OsidmA88y6GZ/02b2g1gjvLH4xTy\n",
              "2fmUGzfV9ZvyIPYmqrCcmekF02fBENtN882c8j8QE2tyBs1WnoR/slNLhn5TRelWS/9cLLoFcr7H\n",
              "HJ7V73RnK6L+vkur0JyIhZgaXyn/gq2d+r2IkXF/g+83w+AMa+bWulIQAAAYByXzwH/pSc3EK3DJ\n",
              "HrSjkvXOhRXq9XPKf8BRMbnZ+5aMyhKsdTA8008IUQsnFZBA5VnZ+azPkbt3VqPcE88+IAeDC0Ql\n",
              "1zYi+Y4PQdsPYL3USLhQBDI2eLfTL7SjsHVO0jcEguKgQFQ3Lfbo+rSx7e88L6cQHv/0GhxAmn0G\n",
              "ZKPyJfVg+xKtqSLidd/vU6faKI4d56jR0yMDhixrUZJfJwjSBn/AYhk+sbowmpDkaVbH8QKkrtp9\n",
              "lt4imkjEQ9HX8R5TEBBwirbj8CSsWugGUbys0uTNNBh+d81pQq+pWjUGvHAJZEfzK2J/G8B6HE3I\n",
              "cyZngvU6mStBsImOeIcksqQuv5ao07qY4Llmxk1pgYFAAFUBNihPSOaxTmQccgGtOe74j57bmQc+\n",
              "HZR2lmrNLvYz337Ns/RBoR4NaOuLxMudvX4H07YBF9lDd+TBQ3cdc5TYoxhoFGsOOlOMJ2prXqog\n",
              "wSmOIYcQY+6k/xzX/BTo/T/Ovufd2329GTSfYXzMf427JvVx2tXHbX3h8C0oPFsa8Z+zl+KaLECv\n",
              "zC87H1LIHBkX9WtKT9DPUMAb3Qf177/YAAbqi3X9OdQnaWA5AfKhhSBpB6vkU6XqrlapL55qVqDj\n",
              "jT5VU6y2t8mtItW2CCbBaiw2vcywYa59cd/aABZAsnD8pEmHcs/YVDWAh2I1AACBtZe2oJD80b16\n",
              "TBpWSCjcFuU3eANnkh+cAz+CvyaPc9yjKWOEGYu+tiLCqnDZEXMoKDjlBZ93KxSxKugKSsWj5sbO\n",
              "oesbjDs2XZVTRfvm1sd8/QBnEeA3MkBx01XeWB/7nwMbdOAbIptFb6Xn0Jz/2fOlAQuXgQ2QA9DB\n",
              "HfipWSH77RYMWkhkFMqaRGOrIllkS+j3Na4VeNmp7uBLQ+eVqPUt39L4aQYfQwiGdus56wl9dRfk\n",
              "39h8H+AKtpxXJQTo9gJRiQ7huISb/OA88l/agi3mJuNRYIOA5FzFT249criAdK6Lt4bDE7z49/e1\n",
              "PQPQYRmp3NOq1SVu2xGBiI+fv5QWkyrUM1YV1eaG8KHFc0BJa1ukrrZgXX4mfEFk8uJvBtvJi9ug\n",
              "4XzqbFl7Zq9pYYK6yAzGfDsCjrvJN+GnvHyAh4z+QzhdFtt7fVD1zvhTEsT3zoUV56QJ/55GZG6N\n",
              "htZlLGbg+behOxiuMVtSfF2nNXzRZjgtw8gh8LmOmI7Z4mFQgQZJ124Gqqk3rsJgQW3+nhLqRE3w\n",
              "4l/KHI7VoAIhOJvTKoLhZHwwtogQQUdevF4J8wsd6SmckOyoxtUc5l9cdJ8aAPjawYWANMcJvvdo\n",
              "2wkxCdFLZRwH5vlsaC5j8ScKmaqi5F+gDi4H8ZrNo8SZfWxbDj32axvYS1SwWjJ4i7tAxoW/UmUG\n",
              "EP4OwfYgAAAGtOKswhT5bDm2szbLIKbSCQkaVcHaj3sZCIzWOewGXAtzUggifdj/HDphk3npHxTm\n",
              "/UZXR4RrUzpDtV0FVgmXjdlkJEfLmRc6EauwibkDAAAO3C9OXJLdAiPc6rhSZOJ2J1sVDO0pBO1N\n",
              "XhQzy+CJ03X0Pp198Wjv7ime/bZ5hYfyGrk6TVf5n1/2wKs7eEtEOzsnNRH9zikEvQ+E4u0SWy/H\n",
              "2qs0Q+lon2Bjh5zaK//eEyUcsxUbeD0gGjCzUHxUIaLUO7YNMCquRhO6AOVUxiwsactoeBYt4M1p\n",
              "jivdp2M3zZbW+ohcKyrtghdOQITUCo7VkHRWh5f5q5LZcHa85xj7bwQ8ntOn3oYDZLRNuk1w91XT\n",
              "mWwOqtibEhbarnfLpi9hlt2vUSDsDSTXTfSNMxVk4j+tovPcZYHw3gU7uPGeDCPFEEM6SO8HSrGP\n",
              "qk3rL3BeFnFjtbL2c/O/jXnINz8Io8LkNS4nMBgqt0s2bl9goqFdCqcVxAqGeenW8U7mgub/s/gM\n",
              "mh1EYP+bbqR4jaEvohIC0SSDIhO7LGyeXFpf+1iRX1rZvdYFY89fB+Na6l9baGZf8Tx/kokdPcWa\n",
              "lbB7j/Y0pTbGU19iDRNU51vw/JujD2qAf/jrtC4qDb90Qc2+YksZda0qsrjEvV5bfjGkOGO/+TDP\n",
              "rz20+Zjt4mfV7EZ2T5X05WtcYON0gCJcmiyS8jXiPpZoubB1gpIOBtTr3/rSdMVlno5WgkZJIR1N\n",
              "jDKRJQWAdW7CnU/WEYDbR0Nv3FqLVIDrw2a739tg/z8g+MGsxs+ipdIdCBh/FQ1WzwlpKrFaIP7V\n",
              "hJWcW+Y9N7X9+v7jDd+HyKHK9ga/rB7SzzgC6FB+UWr5yWzaZ/XAQgwjaoECyeoW+0M/4i2NS3WH\n",
              "mv1II34Wloi+Bafk4jV8rUJAeHu8rab5D4UN5+9rQKcQAiFVWUNRTUYCx3Ckr86IxX589Fyzu/44\n",
              "hUeJcG3gEsaY0sIeDNoQ/o4oto96b21trp5FaksnDoxMaLlQbzDbHAC84SxVMCPnQYy/ZfRLmEW3\n",
              "9OWt4IQ35QAwxevEQlxDiBAKMASHilsPrMWv0MsmQhqYNGL3ddbGoKcrtvQNOHYnGvb6WcOQh/Dh\n",
              "qVlCuIDxVjRJDmjnY2YuQ4L2QWoxf/+SXLFLNkIrWXTcPqgUyj89yWhVoXCJNrjbg6gH20Dph6yz\n",
              "VS7C2upXjMUaFFsGeOL03b0eRAcFwDZOQW9zXit11Ktmh/uHYSe3+Gw+5r3HjdGUoAuk0Q/lxqT7\n",
              "2EYqGhEoRQtD3yVIqo9js1TdE6meeFvmCBEVco1dfq/CyaqfVE7eO5wINjBETU1dzXd1EouyvRcp\n",
              "J/U0/134Glu1ZY7f986sfMrAyYOMWyMV+Jw+su3CwuuLpP80ZynGkWcCSP18LAQKrlkcNwMt6G1i\n",
              "l5dQFRE29QAG2DKUE7Qs10KJDpxWYDWydaJ3QMea4NQCIxp35DPE4xTeXqt0sQvlJl/1nhpjnmpS\n",
              "scwWoMFSYQO4snIGvGA6WQ7UjcsusPxNEhjhTX4U50it85CQagVsTN9vEySbmu8w1J/6ABoJZpaf\n",
              "ilSORqZ5tBpU8P49Ip06wBU8ACHJxsbw2/jbccyw3ZtK3BRYshNqc6oelEvVpyfSWTpPOL4dqG9E\n",
              "ft8qyzFQImBQVPC9WwNTvpuvAM47SJ/kgMhPWNGJbedHCNwwog1OWkua3jy2oq3slCIVi1ugGyPf\n",
              "1+ffeDwHHRWh1ij03K09yGopKYfWzPn1jSQHkTMxuCzm3dYGqqxOLwavUWqO00/ow3too+SEGT8+\n",
              "rmmlo3ekFjXIFOk2Y7n+PfmcNPYoS5/8AFweWPqbPEfBqL3AXwNUkOClKwo+4Hc2XOvfQ3Nkbgml\n",
              "Nd+H31kn6L+tbvBpUJLA2mLOX/4imrTMFo8V1PQ+8nK9UBRp4krEDQJ9M3vkXnj6kdLMDcvcaDeG\n",
              "gp5y4eBK5TF3WsRsEaPkjb8/9wEUAojYfHe1jDWU6Q/PH35IZweQTjATEjGklSln5b54MmcTG/ET\n",
              "ehwq71baDdbOaguCCL4ivlMSsa/mEu99f71iLU9Y0WdaTWBzWoKIlL9pT1xqbspA8AklOeg9wVUR\n",
              "lFroBwEYm+lfv806yjNbA8x71e7Ixr/S3s1hB+jJ7M4Foc++Z0CO4/uwuujBacWwf+Y+4b9Bu8pV\n",
              "S5icdnEqZSk4djVnPschtp/xd9jxw6Yh9aLk0xFAF89+Z+CAICsjfoCkExzBKuuVF64WFWvzin5+\n",
              "IRUAXL8C9T6leTbIezmHRkwcNC6AjMpH+OXPDs6y+DTKiWhcNb5WkWNu+f3XpC/hFAormjmTKJb2\n",
              "PKbAMvE3wsIJ6iIiqFwnsZshtWI3d5n9PUFpsM+wLurn1bea2iuJvL/8yzBVvKqjKLJVSvR3W2es\n",
              "/kPsokVgkbBxDo4n38FUVIwy49YCY6BvAjTfCzfYOALQMVNjyc3kn6fZeElS2vZRCIeipJ0t++6/\n",
              "LHdSfPvoqK+ep39GTCBsglL25oplghGGacz5oZuSjYKoz/91TauT5OejuxyR+oKGhYRAUVyOvb6F\n",
              "NZ3QNoZrgAEmi6rCCZO97iaPgzVfCmmrNbQG09GUf9WMhJDoIl5ZWxZMDo/pXiZ5FeNdl10ww4YN\n",
              "hd/4X1kF3CT082RW9J2pcc6/uXCdT2PYXDm/aNqtldnu3zzlBs4bYmFpjs/av1o6Wo3BEdBYkcK9\n",
              "UkavFYwTqij/MxGbRqHf5/ZN9uZWxWfu23AAAtGbROy5x/Df9YffCzxHoTauS0i2mvLC0wyA0Kxv\n",
              "7A5LNBoQVmw7jPFMLxZ6cJg7NJl2f1WlFPYsT5oZKhY+h7s3gCOXjEwjKF2nyKsp7OQmoWSJyfsz\n",
              "vBFQVD8Evx+W/gGQzcGUmzxqm9ya8asj6ciIJhM4kMQpM8d4Kf1Zql2GUrRrY85CMOoarLeI1VaO\n",
              "Tv8qXV7VOLBTIT3xEF4GCLRLew0ZkwjkX6PawwZNvtVxO2XF4LfzeIpIMuqMAzKSGSjqRLqYekpI\n",
              "MMOlyZcxL9ADEVoQ8K+JGJRN7hGLKrdv5CFZKGLhDDZy6n2EkPVgAkDSLf64xq4FbdYfP/gA4yoM\n",
              "9FJHHySaEV5F3jTUEFIzr5EHFwpJA0BDOMz9gdVWOeTtLIQ3AxlmzExxYVvWzbrTJkX4hjvY6pO0\n",
              "nimrWirGf6D4Y+t4nksedfBo2m+Dyk1779K4y+fDIEvQj2JEbFxDszWXMBvEnpHvVh13YPUHneXG\n",
              "NZ16c7TXJaJb+law3tGT4hdx4B7QDLNelIWtdhFSegY+vNvD61R0GiPtkApzsfYI1x7MKoNnn6SB\n",
              "KO8n77/en3yr2Yf+QqsR09nXnkRTdffKqnI+PgD3Mbpi8YSiNgTIMNcRvOAga9pFgrzthvnNqqHp\n",
              "33T7AuT9kgVZ92zFf4f6R27I0Bp7aqzrn9eWlT4xyDHo2n+wOStoq8WvLlkukjfGOQY9G1CsjeWj\n",
              "gANErMCUkb9JPa/GOVi1xgvHMQEJAPu/Pds2rjGCqJCUXR9E1ZWm7acYG0ZwK8nMipQMLB6N60Bc\n",
              "jjjyqUmqXek6ux+whuIWCJ/7Poxhf1qzYLxfC3VGAl1xUIKCOa0DDenHP4gy3OLmhEPXgAY5/nGn\n",
              "0TfUYs1w9RdZIjqw21hcza3UIMKvlHPE5Okl1Gr/iF4NxCUP4p5Nik/8fNePZbli2BAFRoTbMMgt\n",
              "ZfcU0C2VRubXZ3/v33onprVuNTy6RjDuK2mvXVLBdaFch5qVSIImv75QBNZsbyye2Acfav7WNzFT\n",
              "QddT/q96PHIiTX1DAwGsr5qwfOGda1aPivx0WV1TbGGnI6ji8Z4yTfRFgHDPDlBhJ+MMLuAgPQTC\n",
              "r5i+V+JU2c3fOh40E+erEDXUOKStvO08q+EWaSJKjAUZ+3lB0b3bUzLl4/IwX9zhKBJRh/AM6lou\n",
              "lJXCI39Whnia9flMPKm2NsW2mKvfJolhN54JVD5QCh5/UKLOeIaCSMhomfsnVhvc+T+04sGfr7R2\n",
              "nzU4YO88nWfwfK8O6ycOUXKIS8XrgBeJ22apfEdmVRBx+8K0QIoYig+GNlnz9qqsHAlcU09nbJ4c\n",
              "yYv01UxGT9yjkK4k68OlAjL1yGRqy8qjtHhqODG7iwswl3q+YOiEqQu2bXhYGCyh+5B5/Goe/Ix2\n",
              "3ePXt8YzkmERDAZjXHd/nwaFDpdP49uD/nPF+gclCNjds6d2x0177ZFhWHgLqyq3bTwOD/8/ycCD\n",
              "2yQrPtBKQ6yxlPr0aUTNSnurIhg95B1C8jq73+Dt7zzNl9hVqg+ZQCP5C2A+y7Jl0Fdx1q36/gkj\n",
              "/yDerZgmxitCxHC7Dqy1MZuSWeCy8GANHR6yyJQVzM82bSHIbH8g9ktpXHmB/35SxSChe6a7cTL8\n",
              "YdppQps/bDWLI+9FL78472zBdU9EvZypU7aQPB8RDQOU10ro1Gq8lBNAE0Lb6rQbQd+1XsLliuMJ\n",
              "IRO0XinvGtwq0ZuzQJ8UMNcTDTD/V5Bo7oxAQ0GF2fSdl8ePumnWCLikjD/SrPVp79ET5CxHopfP\n",
              "dZ6wOSUaI6e1bqTM9iefNfFAK6Q/A8bqBR88cms94XCAABI/yW9wAP8AAAVYQZohbEEv/rUqgCKN\n",
              "GGUAokOSDzwYOLHKi5No3qp7A8gW877+DIwDZO30ue/67gqaV/+PodDulMDh4wzaLaZKnOkYr0HS\n",
              "14mO4MrbxCef3WsVj1xH2uoyzKdHmj1j/CCpLVEHXoiktJi+RWmiCnaKrQgzTq5slmroaL5a8Gcu\n",
              "rTAVFRHTLNlbovyILiQPRVEmLxUIJCOpipXK9Br063cabrgRYNbhr/tsN7aC18MHglLnu5JfRGEG\n",
              "qDUW79Ov+HGOMIyl2+UfB1l4L1iuC48juJjAdiG4Xu5OEK4uK5gEqnFLJLhcmuTFzH9Nxv1/urlo\n",
              "qDw+voNZuVEklW/fjUBNvaUU/Qu0Ogqpw5opHxdq1yhsUSjuxubUBV1+zvX0m/7y09TFwB0q4LyR\n",
              "NGdn8u2M10u2uKG4n6w1dAkIsJPmlzb3LSH0OjHpvOFkoDOLrQSwWdiAMrIic7CvvTE1ioTblFjb\n",
              "GhB99w6PBoqiNlY9sutO3+hMLoXjPS80rIvTqOcme1G2o9UqWAz6k+PlgaPb0N8yrHALhz53mSfi\n",
              "K1HQgsPfzwyt4MnsRv9KSpH8xkW/X/ELScK9jxDyZCxskSC7474uxYtj/FcVovwe47HhduF+SlVl\n",
              "QVGq2E1QUgWlcBgZolffXhAXrVLz+UUcAele2spB3ua86Ufq2I4yPMFpkZaU455nFOHd0+SYNgJA\n",
              "hhixI11yP/k2Qm+885uibsnCf4cg/ig+8VnTdVKp0VDScvfRf4vEPv2jdt2J8LG7TDXCFzfCTGsS\n",
              "RN3HHG7QLGCc4bRbuV3zgvBUGnYLbfXYXYsYjDZMhhDi37ZASbkmBBO8eL8fAwsTYt/jehtGkeRW\n",
              "VMOxELhrNlPV6X9I1XciDt3HZgBd3s5pj6KdReeaaS3HrnqI+azmNiJ5PJT1Epy4nItGfL5/p/Lw\n",
              "4cw0qcbWOamR91HJPfcyF2JeheyKqTQTZlOi4mLGNziPjF2ajykwK4l3RPWDIWyTTtIxUXko/qFJ\n",
              "y11ZWqibjzzD5jHcPi8R0N8PyIDBacQiPLVR8nELVg/pVEZA8I/QNBhikvwr8Uwsl5Cb7eg3RaJ5\n",
              "DF+TMpqWdVY/TScUi7H5s5jkBFHwffTOeDApN5OXpYufyOfdlj+6hgqOwaTlnunCbIwNrrk7MeUl\n",
              "GId3BPKKzwLLrOxgzOAKwgRW/SdzkfEiox33MeTMX9JWIbdqTUGGSg51QJmnJbUK0DSRgFZ47RI4\n",
              "mEXKG9y4YaBIPekYIjAaeVAG3W142sc+JHWs7S/PXGSyFDMrigyp4eA6Y9zahR9iWnb0YakDPcfX\n",
              "V24guyYCRhIeI6Sso0aMS/qLwU1qlb3nuAF6g8LtAhwQ6aEi2lSApLeOquGLBs04/6KspC7MuFi2\n",
              "Kj6j8CeIIsintCq8CrgXx6gfyLTLhQEH3W72q52xQ8xTDSVOQ4eY2UFWfwmv8fBlNcfG0IY3xw0w\n",
              "0Qm45QKN2i48xlFrhQMyTYaJI4hXMlaIGadgN7vtSAtvRGmc3gnr3vXgsuHhmqtvN/Sjm796pc6L\n",
              "n1JnNdGsiMa68HEMuDik0tVafAmP7bP5b7lp8KL0i0ELTwlSNbxKJOXGQhJWjsilyqzgBQSHgkiH\n",
              "Y8ClmvBftCGrg4gnod2QVvlgqIFU68c4ZL3ecwY9tB5UqzfYOaf7tjpQLfWW1QCi+oEE+F8pGjcU\n",
              "+x+eIBvMTV8zyyqCjcWKuJt9zijB/Pmf1J7nMd+6m3Z8NUHP59fBHLxFKBzQG6BbXPmxDgVqC27C\n",
              "nBbzjDVPsmMbshw0M3IgC5g5TRdwYxxVRaO8LltKplMpt6vEynNCOOgWqjEgAAAD7UGaQjwhkymE\n",
              "Ev/+tSqAAG85jB/4AL845GtrA2M0G8JC0WOCXzBb93xstVhYNhIBB/WRlFTlhBcvSWOTsDGeVAWQ\n",
              "1MJD4BZgOTpqZqwTZ/Xzc+8UQzCO3YhmS3IgGytopBJ52TLCyjG6feDhypMTyIChTIj0YMcs8G0i\n",
              "5DWeMvqg1GJRHjvPwqQufdo+U7/d2HB7GZpHex56ODyPx9xs8hPQzWUM8+jaK8se4EhyQwoqleWH\n",
              "Q7fteANXm97Y5V/Ne0gVcwOKMtJKTs7jYk8e7WEr2VbE76FRhQED9XWpfEOthtCnj1AmvVZzlvJX\n",
              "3yPHO/KhkDFPykodesoHDVMef34jhSvZi7rzOU4SFyoBn/Erx+L5DGDuRY3qbSr3bZUHbjdwqTEF\n",
              "+9D9EbofxMG/g3A0BjBjh9DymB+dH/2Cw9vRPxhpb3MIPrYbFYYLGec2sy9Af7Gso4Pu+df7ChJT\n",
              "GrQMAi7Fe9MtQf0kx6YtO6RokyVf9l1JpX4RvW1T3B/pA5+FGhBMSVy5Kcs+TxN5V+7j3vn80GLA\n",
              "GkM4DqshsYMgLG9+048bT0aBkz+Q0oJkhfmE9knzAPqe6byIYFexDhDHRhVUbaM7Q8ieZlWK03+R\n",
              "9fx+N1M0p/x79oVPBEGUFq/b0lVz/vC38MPl8+O+NuLhOKyLvGSCi9vvGfOzqRd4yI6liehys4gj\n",
              "B1qBoB4L67nq+1+CpG98oY6vfndJ1UQgPByye+whRmAnGVDzm5hGKGwtd8lPjQMSiVnUcO7HOcBZ\n",
              "6XL2rhFGVbf7LWiiysPFzVcIwzIP7VKOx+D18qmKY0iKwu5y6rWU/FUwwekgCIjBsTcwY3JOvtOp\n",
              "XMJO4xNQaxS7l07YEsSlHtX/NVhj+TzBGKrt0w1b9ey6wyWCuvX8m48cohNUMbM90S799oo1RSyQ\n",
              "3oAqB8RxTaa5clMS4Uk4YtAhVaz9sn4w3pqpabz5Va6hKBdVDBHanHp5sezxqt0iXCHC+ucU62cb\n",
              "oTBZd78UHer0S+FPvVXtC1SCLumjehAJuIPK4ZA9F7LUHLJK2rIyuJG6Z+QfotKeNGwTgSZmibAQ\n",
              "LMsC2k6/WnSeEV9lgAai1AE6/WDbQLJk+NIK1UNpkl0JvteeH7IY71rEd52kR6hU64CF/IwaDk66\n",
              "3dsDJGNtqrXP+OejFDHgNs1A9MwATWIW9vz1gqIreGlidy6kIWMMvxDS/oxCMzuIC71qovbU4xRJ\n",
              "yEn6fTOnlpYhX8sLmbECjvPNTsLMcu289Ksfwt6y0Zg82KDVJgCmC0Zul2fPM2Y+ruB6Ia+3R0rh\n",
              "4Ti/EZ+gRQ+l7ZpPeyyjv9iySkDTLWZuWBpJpwAAA7BBmmNJ4Q8mUwIJf/61KoAAnCNhgGa4iy9Q\n",
              "jy/X446ojFlvz9BVyMutb9Zqxe1snAxm4qF6Eym7U2XhSCGO+mNGPj1yPZGeqaN9uwBkTIMqMJ1v\n",
              "Zt3frhKE1H4HOJP9IVXFiw4do5vkZfihuezowPsmYXVqvhhCZVzjoqzvkINhYYtmAM+6dfXlCnHL\n",
              "Sb4xLWVPLtfrn2KaOLiMRn9o+JKZBkw3JNzf4PZPkLrDlC8HPMqJjmkWKNhZVTLugeWtPsJ5Ie2A\n",
              "tCpZlxiIRXmujJ2uz7sfnVf7vPrdYQAw2GQ2D0H0ZVRyVThEeEtZn8nSeDwZWByt4bI+xxDiwi3T\n",
              "rCj6K/J8Y7kp7ZtJdSOv1QHhr9tK/6y0yxaGIoM1lZqOKrSQqkieGX6fYqBHCK75erxUi2sLo6hu\n",
              "9551pR4IVoVayCzmN6S3jOebEGIhClfHvvhlauXxqqiSxSNW3NRpntqLBGBIX6zvspxLO4NsmdHx\n",
              "rxxcrouuuBPc52FY2NdA783z33NmRD3m07WVXr6zH86hqtZTQLRXKd3ZjDnhuBgQeHDpFnCqR1eZ\n",
              "Ouitz1vE7JwHGokE3D0uz/luFJNVOWk69RpcQlu0G4nW466Rj8uuXBmrp2PewViBjjEdiRRh7MP3\n",
              "kymVLRJb7QBJnpB5cnj7bPVlyFc70Lt4B2FFokjjwSKRNKn4pkekhU21q7cSmk6dc6QFhEmomzLj\n",
              "7MNvXtEIftzeiet70nNeZwKS4L4ccUe4pzA90sM0MR/+hUIu8ExaEHumswXHNxgrCroLVgn8iSeR\n",
              "bMlQzsfZACWZUGJJGdq8oAXbBOlSe8WUwsSKAoOPMZEVVGvkysebaDaT9BrX+T8mNdXTt3c3q6Gd\n",
              "RtOyAOsV3OZXqO2T3LYJ9SMH/1qvL0g2c6yXgd/RFjzJwnbhTCAQHkor+3N+1M+MXl+ErYxcjIeM\n",
              "GoanVyUttQY1ajYm90bku6AcYVvuPNHz2IQOfcJKjxF2KBT6qOUy+OBFYLLVKmkastPJtBWoXEJK\n",
              "ifRKJpPXaux22utm/2gM8NF/hUUZ6z9Hguhtn81BOEwb1b3dR3/AaKXrjpBmEnE1KmvT23nydVCc\n",
              "J9rjkA8muqpe6lDgI2O5054Q2xXi+OdScZT4UDhzXfLHUsJb0TOpNE/9zB5/XxBSdUoLIzMUdAb7\n",
              "r45jbUsqzfVagXN88fSoWkmUgRZiYx1nLMtlBchfuV7BYTJHaFnoK9QGx5/zr7v1gpmv0HV4QmpI\n",
              "cN9EFxWRsgAABBtBmoVJ4Q8mUwURPBL//rUqgADecx5MIgCgOOR/CwUGn5MmffHquOLj3P0n7K4s\n",
              "KY2rNvSjDGgHnXcSUem6nw0x4xOmCH80X+UwSawwjvdDQXogXWuiTEy1sNlwuOUO99UW6raHKODP\n",
              "0AQI5eX3EHH4W2JNzcIWwz8kQ0LKyj0W1L76JuVLhH+UbweFh2e/hMUY/iJIuXC6PpdRVQVu3ui7\n",
              "H0k31XJYjGVD+306IHvtMkxdoq+9aU2jxDAt8j4ehITJ2fx5wGrHjQZ2T2jVGNDF3a5CTje5F0O9\n",
              "zpooMpiNdEVYt0UJugecMw2jwz40ZhNQDcpFQK5RIFYhsjOrAPraLcCBaHrGj0VH/PqeEQJJzkAi\n",
              "dOwbPUjTL31ObZsg5oXx+QX6PeP5RvRknL1SB+zNILwqA2DgX9dNMBD2A5YHNeYq2WWAaI313NML\n",
              "QUbzBsw59ZUjmRWlYp6ANE2nEhyXr3w1YzUP0fOfkwaQC4fsrPFq05Jfat/4s+N5USH8WGKsSAcu\n",
              "u0f8Zj2YFFqbCrsGoC69ASxshNsfilma1W6jMGA5cFUaLeyJI8AabxpBK/00MFu+tmQmZVSzKC/s\n",
              "Ph2g8oakvj8iGdMp9wKlgBjd9psYbLiNpW9q54TpBQPbwnYnb0Ef3NhqgRfC5sCebJzEh0sD+WJ9\n",
              "ph80rEcl/C3FlgtWxlu+gk42GnnxUHAwfb4SWAIJhQAta8wDovnF/yrlRGIJb4LirBptnz0/JUVT\n",
              "Ls5c3dpmBUgvASIch+xWSjGvH9/JweMElcWVthhelc1LA9Bcf2tINX5TuybvUy/EWXGnqu99Nvuc\n",
              "9rP11JaciQHmYe8+sJEMyFWCCKMW9ASFc14UdLORb+68FTP8zZ5YXqhawH8KBOm2G1Cld6DV0nH3\n",
              "jrxCm8sJNJ8M2rZlDtmnvQhi6puNobTzVlkeIPr0QOT1oYxZ3ctk8ZXiWKXORW1GBWeApzMwloLI\n",
              "1z0BR4CqC4pBQ7FS1ULlEjTNqzX3vDT7D++lrLR6+cbsCyO9dbu08CtMxsTMTjUqPUBIiZf7gFAH\n",
              "rdrXQdWvsfeFC7Q+951MbQYhsklYXHxnxpYAKlEibIjYBuGhhqOdyXFYgL60DeTuvklIe8J41A/J\n",
              "BXkQRR0OgyRQeao35p9c16HDBlmDWvpYERzgH/mSpKicbsI61wgypdQseCPZV7KuVxKnsH2B/i9g\n",
              "EFRW2OIRZrOG1hcUC5rqXkfgyYstv1+7o4+xjHHU/57y6R+VmHmT6XPSWWMHLLgI8YUwqRom9kht\n",
              "haQHnuRoeowy3LgAAjxpc8paVgfyvK24gxvH4BcZgQjKbcnPXIVYIJxt4uTVAIOazxdZEh1O91nl\n",
              "LELMZr/w+9XCfUF9NQIHKcQ9fVEmt0keXIqi6uGgauE3HlJBAAAAiwGepGpD/wAFMtZxkLyXhaXb\n",
              "wAsdLdjpsofMMEjIn6jYvnCmF4ZBzNYBcMi34QnoNkF81emtOzyJDguzs8boe4trpUvaYahJi+/t\n",
              "tkGfjYgEJU/FMxAqi83UlaZutS+BHc1LCFtsvTnFMk83tlIpNSNwlkmFKPCw1Acby90sa14bOSsQ\n",
              "/wM6Tes16M8AAAJbQZqmSeEPJlMCCX/+tSqAAN79OUbwAHJWjUAgBYg5MeRftpSvNTcrZJ8gEwLn\n",
              "jmurfwLxH8OAw1pQtPtqNrz3oJkX+BnqL6mLMZkDwA1bR5ouHvj/0e1+FxMGXTONWXTD5gdvJQkj\n",
              "B+SGpY62fwK9XtjxeuPL0LRJxf5KRqSWHElv98EZIoeZFHwW7WPKkDUT/kHy5RtbsO9WSuqnn5aI\n",
              "ZExy9wu6CKbQRrnByEafClADQJtIgMGcogBMGlzfm+H9X/cG7rzRQ+UR7WTThg06Z76P8joWUAz0\n",
              "00/XXH8hTRC+ZnxRjgKRyTvsLcI/UBQF+V05zmhXjkVKVlXSTz7tPxnt+VJH1HakasncY2QY+jnU\n",
              "84l1zLUJmdLHv3gvecx+IcgWyBd6EH9CaOwvvWDF1YkbLMMLfJmq5G++werkq7fgq3opus1qgDsv\n",
              "v7y1PR9WYZgy62J6H6tzbdDAt6ycQGvbuRHT/osXzVBYp7ff2qn/r2thRpa/EipRy9QCC6etm9PG\n",
              "lME3JpI6jaXB3HROtMMC2bObXHWm99pENCnSyV7NE9LPg0xx1QFlHzDpI1RAKQdKjF7mHy/+Fa6v\n",
              "eJzR7I8bsNrDOCQPBnNJiZrtP6tsXdQ5zmGTuO5j9CX+8kFpdIwGbCxh1jfs5fds9Y3KJD11pAb7\n",
              "uLHabpP1UyJqenAPkbWC0Fh7SU+oZICRQpl9lkotzBkDU4TWJQFLl/MqKWl6WGSzPyo2Fjsb/+Dr\n",
              "dumMjh/TZowKkcD+XGW18TkOcrRRJqc8n/A9kHDfbyZZDys5zDuxd+BlhRwRAAADWkGayEnhDyZT\n",
              "BRE8Ev/+tSqAAb2ygBmuCRNZqpakH8lD+8QoEpA2zbuSNo5Vn/KbQcbTXaKp4sYtBfdw5tl0O8nM\n",
              "pQyHC+9Uze9Ax/oTmoy2/PfdbVS5BnT+xrfBjnBCN0wxmmXClEZ4NehiTb5rjj8dnhV3S5joUaRj\n",
              "hcJsrQtG1yRZkMhgdaDnTfrI7D1kODqGi/0/Uu3EMtJM/Co9JEoyiewwbwKvSLwlaYgFbiQlJDDf\n",
              "Y3EPWNnL5vPHUrljjoNX4hMRyGFP+687k1ssYiIW0BCscPnsasOYGZYdAJaJgTsTWzCnxVdtJyyR\n",
              "eGIz/37re3MwsRipK0isIzJr3xXq0+IokpoxpJP1duAj+o/2FpEJ0STG5UCySeDTVLPPsTQMmFmF\n",
              "zUMwyafI8Rsm1fHR3q14DgZqwqH0ty20g/LD+sZmxKvUFm2r0jfoVm9yf1T8nuBQLKT818j2NBKu\n",
              "JJrXGW/8cKNy2IhyFFzbM9/SNKAQRjlTvkSGZydZFg3bDZDc8Iz5Qa7uzX4a1aaed3YB/+81HJUM\n",
              "cjvAkLaJ5rMqqUEkBAvh4EWpjWidFj8MvCgBEe8Kg/1sCb80N/hTF9TbPDYUD+SMIMtkaEJEkyYl\n",
              "nv8t82YGa9tQlp0AIbZu0TSUojt/wJV+mzu4SPKeRsZ++YNyVnhFHbVHQik1T8MecvNEWNAsk0eW\n",
              "P89zKvDXK6Kjpw//vvIwq1to/pPrwFTOzPLobAAx8NI5e1c2c5RF6o22HvgNRfb+HCsZNdKKso6F\n",
              "7Kaz+v3hQcL6hvLNIrUpvN2ji9dc7heVJtYjgCcNu6rfFEHIxc4agDQHDIqK2LO8OCj9yPdU3xHn\n",
              "G3a43AvLCSXzoFlnxM+ZWU7FvObljbuGLQ57qKZPAvmlol2hiAAYUgvFdHECxfOguCEgHVZWlZvl\n",
              "6TQTZqsmrNDHMBI01MEltuI2DRNklF8rnGDhkShzfTN9zF95ilPp4Y73UvtDdDMQcde+TDFOBlQ+\n",
              "+QjAeNJdwcRUmgLqOMWRysLOeGuXLv+Ro2gQ4a5LFPzRSQUfSMqeFASHmbvdYpYKif9Xb8dubUl/\n",
              "Ncu5dGE1UO46w2br+DG6z8q9MOkULbgSUZcDiD9nUcExnnPi/c5315UBtY4yvhcfrnuJTQAAAHYB\n",
              "nudqQ/8ABTLWhEV3qHDhN6gSNDtcTDsi8oKDDGpmL7tXOfWSHE3JBGyJgTjfuYXZMm+2Wmxs1NCN\n",
              "aI5VoU9O3A1fXKb02iLwlbkwFmFKXff6Yh+VlWD+aIKWHPpf/1JovbkX2tgofk0nWEhX63l5cLZO\n",
              "BcsoAAACYkGa6UnhDyZTAgn//rUqgAG85jCZoBCU60QSSFswo0HUSzsXHonRGyG495Kg+dJS+yIA\n",
              "AKtanMJ7ux3009eGRbCGvMdnshFjKtNKmXQvvT1o3DYS5W6UNf/EEOqmYxKt+jYuhYdWYtNY4AjJ\n",
              "axSVV6rENebOvVsq3ssradOwF+LfXvnyzsHyW1se6ngIN0tfeYeb9evFO0oufJu/UgNjzUExjQ8A\n",
              "uuoZ0be/XA9hqnCYDJ0vXpFExnfbPfQ8oyRSnj6ML6fcr7pAGQEubT+aH/YtslAN4pR2c665NP24\n",
              "O6yzdOKZmXjFqpEzpJ4PPm+2TMtLqSORbuFQSsPDDRc1aUd36jjtrtjFnx32+4O8TzulXYod3MSR\n",
              "lmd7oS29lS1ebPL8NE1KnIYAyAG+ofikiMWkP0ssitQlNWpJ0x4jfnvW2OqPWxr7FdBBmVAEosUm\n",
              "SUgCQcUv/3PwgfS1MYF1QcVVRoK760YEht7JwKOuZbSia28nXVLlXl2wJ6FAswvdpX5V8jn9A+Xl\n",
              "0k5rl+rEQr952TwG6un806zmdj3qT8ptQ2I58KyTRPEwUHQYbVhLmQXxHN6z33QUGt+l1Nhzw2pm\n",
              "dxCTO6kHmQooNpy9HjQHt39Hhc0XiyHG7lYiv40TaEtP4xzZBRIQQVSV4iIrxba/CJXQ8wjCp4i6\n",
              "npIhUG2hN4YSChuPYCBfymfbZbduV3bwOWr5vc7sfyWSq8zN/Ps81i3+4fE0zCS9MxcPoDU2+14x\n",
              "EtP87+vsV4ZP84d1nhTjtTjYZkLoNtLVRiSr9V7Ajg0ezL6uaHvWBr5q6ERyn4AAAAL6QZsKSeEP\n",
              "JlMCCn/+1oywAHJruGA4AJ0pLpLtCQcjg7HnVpL4ydrE4AlOdaXf43f2fL2lzjNG0owdmDhM7rxC\n",
              "D6o6enpFodOHMaD8+erSw27tTXL8ZThs5A2dHVL17jmvDsxLPjjAtjkADYh6rlq27IifioIR2sd6\n",
              "VDUMPpcw+PyR8JajLWsSQKa66DbaAF8ZVb1HVzOJcdV8h7ZfzFWcpaUb/S92+xx0uRmZ+Hswbe2+\n",
              "+pKQtM7o3lugFDswbo/VSAvtTcw+8q2De+dwoBPRy6j250R2FmWe3pTMmnQfHVUGetLV+UMHWOFg\n",
              "T+8PQllU8PiaP1YnF40Xe0d8xP/5k1poDwjzcbBkm4yUTM0gcwbOrAysi2gDBD7X2sgpICw7oy/f\n",
              "eBt2EF/C+y3AyrnE4M4yrIK5bg44g6M6R/NTu9jDMiXCTw1fWF0YA6wXYinEE7nKL299jO0sT7PD\n",
              "QYtfrXcpd8vPFhIfSesV+Pvg3gqhkSwRSf5RRdfRViDIXMTG0uXEejcOXCy/5MdDgkRLFku2ITB9\n",
              "fycXZMmHIa8qNCszZn4BPzz2c//o7W8FqdSH88+C+tbk11FrXUwuq+ZEoErsRJg9QpU9ZFnmm/ey\n",
              "Mz087EN4fvgvbHFefxdr2HydVzk/4719xiPFwEFZyEPm04V7QB7BTORigtbyAYSOUNCWhO5R3zYG\n",
              "RKqxXN534PkcIRQA+21vtJq/osYE8Ps45S6E1RPsrgOxJHoZUlKcSFaX0UdKLh3guN8oMlL/+Un3\n",
              "n3uU59hHaZ+QJQ+RthqIWo9m7ldFJa0RdsfzRDC/lV24IZXyWxg/9taoQ7XR9oQK/DtlH30ehiJq\n",
              "KOPgPyK7VkAa21jMnOWUDIOffDXRcPJ/yJA3dbMfHpIVwyF050+/xhrBJzWbSTI8BZ01rylFZSl7\n",
              "goPnFc7htdv0c1dqPm0IiZ6bFq2MJCAFzU47jAU8C0cEvnst5R/p3GgeaO65ZJ0YPe6kLYUvU/Hw\n",
              "ONeQ3L4BC64ZqJ9dlHKZAAAEH0GbLknhDyZTAgp//taMsAChcg/8KOvWwZE4sTWaveyDt2WhTIH2\n",
              "jcB3+/97ZFDKkhGm66UmujPAp24/rfMSQCIvXQcLR4aVoD8iVWSMLptdUzeyIuKGaXpFiIwGca7A\n",
              "fWXqez2qCwqTOw5DiUvfczgHd7oWYcRRSlIq99L/i2v/pPuLkXKxpRGLOzr7djGnJVh8tD1AxxbO\n",
              "pIL/49cqA7iqyRM9T3fre1Z1QnArLYh7RhcT32ISIf5Oroaiugv4GVoauwuk2/hN6TirBzZMFbqP\n",
              "QCKobE1UyhxvBbN7Kk9a/9TMH7Z4yjcngVJ+EE+Pp1X4rxN23VdET2rkkc400qmmt7F5wByKjqEf\n",
              "Y4/MEA59H//1QYvItPZKIgFElYpvlYRgishEEFB7o4WqVeJ/70Qn0kjOZ3esHarFvQ/wn8ePSXCb\n",
              "kjecyY5/55ncMGkielK2CNa52tsCrVvfuleEIgIKY0/iavrvu3vunoIPDjlAhNoxI3Avlu73bmwq\n",
              "aqt9vXY3Jq5uSovHa1VpkURYYFLQbfxmULLxfmpASxwoYi83SHc61bkO9KS12v/+q1WCBSTKP+Oj\n",
              "wFFJT2IOfmWEn1jG21WfMqWTTBHHm4+kd3svrqXz6vkYYADbWUaCQ3OifOyo9NlYq9ixyqR63rfd\n",
              "Z3JIXzVBhnFLGgVyxcR0MTPV/+cXbOi8n2J5iLXkmxWOtsEQ0h3F62v96fOy5oJEkwhtN8904eaE\n",
              "TS5fJdhdXEdxdG9GqOWeuZOl/TCoTh9waCVKYod/1kHnpurMyq/Otw/MV3eNBDLDToVxm9XJ0wN9\n",
              "pHnwONR3ZkBAU6em4ngRGS1FiZJKU9msVzIyGzevzwTxLzHe7wfmnAhvOJ5JU9OXtteSUp8clWpO\n",
              "Tn15bYa+I8OOxt6pP0RhBbZxpdnonCxzv1y9+YlZ/bLJ3aH1vuJhHTBM8WjArtydJrHXbRS88Ek8\n",
              "oLmmbXunZvsw0pDyLYbGpo+ENv7DdGkv/ZrXws8BxIEvyfZu+/pMFtka6j5ABvoGryd8u1LoTG3G\n",
              "w4Yr9A8RSaEeaMuZEuR8NoY6xn8cBE2FA8GNYnceTDotJYpH1Gy1iT7NBoN7j+G6RQyoW6Pdkztp\n",
              "tcAsTqSOKE4rW8e0FKT/W2AlrhBFcSSsn3X8Bd+4Axr9grwtn9j9iBTk/KFhTuhpxvkTnj0eOyIy\n",
              "hLMC34y5nLTs0BykjjNcq8s8w1Q4aGlQG3HBrQFKLC22EaNwpF+arkOqrn62grgft4jXot5+bGcD\n",
              "e7egI1W1g6iobuYOGlFHW0zxhcftCGAWuZJZSvkscfqCKAIU8TYdm18I9s5MRbDxudBo1NB6V92q\n",
              "OkChiT06jKS0EBRLB6uqGQeku98XQ7D5ZTDzBk/7QhclaTLqEeJt422DDLhuvzpwAAAAg0GfTEUR\n",
              "PBD/AAMPf4ZBHhgWD1FBrtDHUQmEh5wNL8y+FaeZ5U/TCDjjH/lps60oA3w87TvOivlP7IqTW+it\n",
              "olJijo31oK7KKI8WfRVKLiiR2MwoW0s/A2wadtk8beyy3l+hVSwwicGdF+cwIICKrruAAbAUw9VU\n",
              "/1gMxWndNOP335xwAAAAZAGfa3RD/wAFQFxz913TIa0B9txro919dz+zhN8eZNFxUE7XwlAeyJ3U\n",
              "Y2sxLogJACbCtG/j9lGJyqFQzqALvoJWNt/R43fpu+hcP9KXG07FIaOPAqXKS5MRGVPr8FLq0sMI\n",
              "GEUAAABAAZ9takP/AAa/x6w9cgLr6I02fGE9/1jzvhl046opZXW/LCS5WVjXa198BWdIXx0V54hs\n",
              "QoNpce5r7CAC07zPwQAAA5lBm3JJqEFomUwIKf/+1oywAOTXfQI4QBynbqLoC4Q2funeNq6otam0\n",
              "mL5sYuAbBFPzfNQgGLytCR64mlGvobpdaxNhj8AwxMACfCK/slfYfe+pClfQtDsEs26Ulsc7xWWf\n",
              "G847U2GkcXkOzbpPYY0OowhxZDNVjz5oCw4P+nI8T0fWd6vgj18WPDcnTI2SDO3nJ0q9GdKPJhHy\n",
              "TRHYT2FxvC1eD8csM2ndpfO3XT7d6k0HUZBc0KMK2qL1BDpzwhjxQbSvFAkfnJOIk7T+7luKBXpa\n",
              "FtAEyGFVS6CE/Dl6jeyAnmCEyZ08YKes9XJ1542re4ffMNuZlgPNhw6jpRTVw2+kqzwYYyQznXQ5\n",
              "1DX72RPj+VOp0YBnHwDzxZDINrRaCPXxn15bKPQE9cLT1Llj3IngkrI1IEFjnk1eFKHeEnqbXiKU\n",
              "4Ks1x10uzP7Un3TlxJtHHZSf7hM8BWWN5wY3mb7Op0U0GNedCH6dVAsIPEc58hr5cKvnJWvzHrat\n",
              "YOVJuqUgggEZMXiUnDS8MXPdFwf+3D+29U8HIxR2yqv8FGQqtibM4R63kDN8QsaoKsR2T7vuh7wD\n",
              "z1wj3XvhyFUydEvr0TVBzzIpu+wEGiOa6403K0i9n9/QP9yfghy+8ZsQuDAL5WvuSUEFKUPIicFK\n",
              "eC/NSG29ciQX/CZGGT8j3AEiyYhmucYvf5b5kA5sZ5td8oTAsCzgIZmll2EIjq5n3i8AgSottl7s\n",
              "fM0AREkVqW+FcVJ1Ft/b16WNPpwUXmB8FzRtv2aI78v4qpr1YTcid7aGuQQpAQRXR5JrGy5aqXea\n",
              "AC+TUo1ATN9GxzkCuCcuYmM9Bvk1reGFNEhehFhCRRqgFfMYHlCVpr4CTW6JBlJ9B3dAWAEajjfz\n",
              "Lkc4xPEjdNYVsI8IBYYg7YRAktiNHjKpoiwAqCRqeoiSy82ParXXySGschDcwvzmYlVg+JR1lxjs\n",
              "uS0QCI3anseb/ew8hAD2JWRpH20ZMl0X7zymZNdBSQ26i+3s8v54fWd1G1Hks7FKEQiKew+eCbh8\n",
              "yn356IpbAv3H3M5SH2Y94z52Xe5E1iHvHFmLgn9JxCCoihB5BaBy1LberHwZEW/cuBHWHicZCTu6\n",
              "HpT6mSFza083BFnzYzMjg3/eFC5bZEbuzn41oSle4BYBzWLq06EqQEr7wLH+S1FjvX/+sDhYIeHt\n",
              "m54ieUa5I8rrJAEaWAK3CWfcSbsmCTS2paUAAAC7QZ+QRREsEP8ABFU98AgAFhCU6kXXWkXxknwF\n",
              "FGXOsUe+77BB68Nl52LiptNjGNOqcMMtWl6JT4GuacO4/ybSYi5JlPa4aWUutAhFV9Eo3uH8B5ZG\n",
              "dFgfAUbKohTsN+i3ThLlGMJnHLu0Su0w0y+uwl5GUAAA0xXwiwSfOaOl/R4W5pjGCA76maG4oDhZ\n",
              "ZnJuPSmfyntcFAnGEmQePJ6fxHBpnuKHfZ0yDAZ90FK82yxtX/XRH0cBO8LpjAAAAFsBn690Q/8A\n",
              "CasUc+b2YWeDWR4EzTPPIw/MrQoSkqfUNTUy1futnk4nObC2Z/POrqd8qhFQf1N6Uovx9dq/R+eF\n",
              "YwjYxaebzK47yRlFUkriW644x7A+2QKgAYIgAAAASQGfsWpD/wAJq73LDU1xTWzJDonyujx6dc1Q\n",
              "6JeJD5QaX2tCitbze/vr/NHHj4+HpBYi3UhxEOOfrO2vgdKgxMbFL3I5+2dvN3EAAANrQZu2SahB\n",
              "bJlMCCn//taMsADk2tHMMPiAEb+B6+4VxTgqvuTxZjfAj5FhQshsEuVoCVtNbuG8McMwA9EWJ6l6\n",
              "pM7BSeZpHqCRW0t3X7TG71eOLnYbhxEpM5OmGShJe7/C2OWsXjODgDHM0CpzfTUqYNX57pRQoyYT\n",
              "BrYLxGxWBBGe4+LFijmxqKhntUmWwbrha4R223ihIjQn1mB0tJJeH6I4GDsZwe9l2LZO9IZ5qVIr\n",
              "HE1sqeqfqrOWc+p4wkgSFxV/jfaPjpT6x020xxddKQzWkNEX22kheM8cgDdCyYdfy5xATa6r6CQD\n",
              "XfeHAXTjy9oZa4oJkcK2vIQulhpu7qBpiOS9mGOs2Uywpb0mwVxysnFpdNILyxc5Nf06ThNLEo6c\n",
              "oYhucZaVR+VG8+syvTWBlEV+im70ZqJASrRnVDh0BzfrX3XssV33j0sCB2pQYeCQUGPBYd/0SNAr\n",
              "KotENDeiJ4aOfNMicgNTS8SomqIF2qBBVX0/LyuCX0nILJzDAX/fwfTFVHKO2kkaQ4Lh+CvZ0Grm\n",
              "9WBB0L8EcmwhNtJBJ2hrj5f8UzgaFHNFY7VpvpHZxtGesnIWvBF8z/hJZdNYLCzgp37UblgePqDz\n",
              "x2EpNWpQ9x6NTC+tnHgGJQBx6Kl6ht4BcEhrHhieD9k70vezqbAnX0iH3FTraCtmU+YqYw31Bonr\n",
              "bIgbx2NLRI5owyPMAwdgvdRXtMTCnT1J94k9ndalf4cRPP/EvP4k9ke+rjiqHDCeetgQdbEO4VCT\n",
              "k67u5pznWpanqjRkR2r1phJG5Ym/QLP0yNsQq8yif7TO8mPu9zsnn80iMY1xPfcC2DrtQJO1mlu+\n",
              "/O2uAlg1LebnTMelBb3qc5dl7/fyWfpcJZDRHK5p/D0TRX72EkLJHnAEkbXy+CVFu586X8mXOXZ5\n",
              "RbvKYkqzRnG5FRVXNMEQ7zayuGJMOuA4vM2Pu5Isr1OcbnC2fKficuyoRDM25kewWAo3Dk+tqKfc\n",
              "ysQGKi0DNTKzauRB1d37yxlyazHCDciMM+qd83tQaK4oCVeocHoHYlAPZNTjB/T3MZop0+puKje5\n",
              "rEVX8f5QrYtZ9XOGNl5U39UOh1loNO6mSqG0O6HTsLPrejQP/gMzvGtLh/MuYhbSkNp2xzWLfCjE\n",
              "oCURqtppgGyCf/5bBcAAAACFQZ/URRUsEP8ABFHNHf3RIHCSO8Gl6DLBXLleMgEMq1C1bvTz8+hu\n",
              "s6xqZP9on5HFoeFr34bukVEm1eSUX1PxgCpBDCTA5JDFIla33/BgALq0EGUAAA8112lZEG/1C86i\n",
              "252Wy4BZf92x7pH5htqBnwfXhkdZ/UtbUcTU/u4y43F8dPVg0AAAAFEBn/N0Q/8ACagxoP8TgIFm\n",
              "1fgYacORBRb9TbPSLrQ8SG40AVLLs0oBjs0UbEPDVhLN6QHMBFmLDDkn8CM1WXN2QKvEl8aqPmTK\n",
              "U6pr1dPX6oEAAABQAZ/1akP/AAmsQt3eHNKy29N4kRD9/okK+MSBxLLdMMeYO7gxi8L+muOLdalE\n",
              "A7gHZ3PnjbmH0f+PEYnoWQXq+dmJPgEkxf2KRRHihtjtZIAAAAPPQZv6SahBbJlMCCn//taMsAHI\n",
              "1z7NcADa0SH7CBBZuDpH4eCaICOCu2XEiZd4msNc+unkE8RO89O/lib4atj5+wSDe7kmWBuNNa0o\n",
              "H3RS0iD2RBQnIbHc1ijoWWzCYR2QwVEe26jADSQCZSUncsbfvmtM0DcRuPUgx8v4/glvcdacUokv\n",
              "E2MQ/iWMIsvfLudstKrEFbHtb9ANqABLBt40l0uAnghB5qb7VY8Q9754DbF0cmoc8dj4Am+zmKl7\n",
              "JrTwVhufTPBwvMUGnuULEUiOQ2PgrXtzjqMHBWxY+8upG7zlfBkE00oRYLGt9QoE2ibkJRGSLkrm\n",
              "ODPxmaVhvaQQ+vTehISBxijhkGEb4rTfynpFiYO1ZrLM5TXnelGPcR7vrRX4H89Swwhv++fnoW+8\n",
              "0hpHCJR/RqWZvte+qp+oiaNpR0HkEJVvE8VIA09OVNYn20NjZ0B6qUlEOMLd1ALvc9KCJN50JYcG\n",
              "8f17nT+6tpjdabbV7g6XixTG7FWnUyOBg4NwgIxNDqvBPTrfGAhd0DTy33qlTjUOUdhRXPGq8PkX\n",
              "Oxgrz1A9x6ZnOK04dTf0nc29LqS1RsWwo188NviwXnVupTYHMTDkDKMPd7egilLIoS0DwKbs36aK\n",
              "4tttppeWijWxNkY6wX8hBlZnZ8zCG9/X3W5kKPIFgr2OWS5nkeqY/ybOb9iGvpq8KD0z+VlD4YjK\n",
              "zSew5dORSaGKUl84IUjc7yztBDpLYpWPAr3c5SaxB7LRcJFVxS1T5r5k93qtPGaYI05Sfr7Qab9V\n",
              "QSF6pGtD0puBG3q4miDa9z8eWI6yxCESJVlk9jVAZ20zpgeGwYYAy4qTAiw11dB/Ac3XEmENHjv8\n",
              "Pp/IkbHCmMHdzlrXYExyAOL95T5N3wuAMrWbNlbBV4uWBVqvjBPP7qqEufxqgIdT6jpL+adSXG5H\n",
              "LhJesEg+ESYOx1dQoiQAencWROm0qD9yBVS2oInkYepjfBSegMLbj89QwoC8j1P9OLCxIufzobCl\n",
              "+4IBCpW+cmkIvteTvzdqOmeb/1RyxrpEPH7JlSrlWboNEmogi4yhG5HGKtbXSN0K+Tzl8ubFiw7h\n",
              "ZMw1CN7qZBXMhNodUxAWhMVo3jr+ap892l52ySwev4M/0tUCLRSp2L4JB9+/kwwSh6Ez25hpZ4fp\n",
              "GOWfFXvL4/y0m5bxeF4zHKKsZ5AomEQGi8ZB2QblSWv/6Bg6z9WUfJjKb3kMIirFzNGaeIFcMQ/N\n",
              "0VxaxssPcP0/mdFINqBmJhx7zWcYr1wqCOF/dAaZjC2gWE7kZz+2Xmyd1euJAAAAe0GeGEUVLBD/\n",
              "AAiq22cTcE2wMa1bVMWSEplT+l+9RMK36RzFxuAhihF/FCJMg+1gL0sUweoFYGv36+i50cAJNxz6\n",
              "Jj8rHF0Vas2wEX+APC1jQ49ACbwcLNrF6VRXopF+e71cSq7HmRFPO62+mHdlWwnucLC+HJHxD8Bf\n",
              "7QAAAEoBnjd0Q/8ADX/+h0u0qkseCFdX2N6F0EQuysd6imZagL3eXKP4EcCl8rOqt0IwO2VmMKbr\n",
              "bWfKyK4qPTrcuk9849h0d7UsQdpeHAAAAEkBnjlqQ/8AE1iEpc3lMVblAxDEWPdlGZSzu/HjoURa\n",
              "jeauk2ZSkPNUvuNmy/swhIHJLNp9csoEYcikFidd7J6gi0M1x5DfMKmBAAADK0GaPkmoQWyZTAgp\n",
              "//7WjLAByWVVhosAMuJLDOtnVKSKOo+3L0unk97xJiHsIcYyI4m3jfmkDD4vY4pNHq+Ez081ScOi\n",
              "FOLIzvHoAbl0D++EfYy/3M0Iyjsm5DlSDDyQozwqcNkjHR6uLKusoJBZ14RHQ0RZvbCST1QCSAyC\n",
              "8EYXvaHl9SHDgr19YhKEwoHuWN+zPdHRJWQgn9qCnXc8/AyhQ6yelH9meD/EwBupYxfFmurabH6c\n",
              "xrcX9QNSeE5gj4oEKsBsYrxuNf4p7nLNN2N52fcG+ki+OA1yVM/ZFtjNp+YvDgh3fIp9XyCBjUGN\n",
              "PO8cX4vBMvaubX6VTyp2awSiNsueB38SvYcrd7662lT3lj0LXx0upjzPXfOStLGWL0rs8S8Dcgj6\n",
              "QDcn0n0C+FlS/V4kn4YMK8uDc3LMbQWZ3N/8YbcD4ry07JNun0C5e9nJ8Wccl6bjUV0MSdTJHSbM\n",
              "cUnVc2fZjHr7PqD4SMxM3u/uptAYR+IFTejLM0FxxBjbJB56GQKFV4pyt+Bimlud3IBwfJrv7yWW\n",
              "2G7RZpNf2t22J2pw7n1CVDn5WP1Ph0KxFBgttQJx+aSagjqsAjHjU48R7z8ZKAc2bR27vwCsuM6K\n",
              "c5OXyeR2sUTBKV2K1GEFquWguFZkcSfK94dtwEmiDFfW1MA445j6vAG0eZx3QC9gR+ZMG6d4QMDd\n",
              "inmixgzHUnzhdxoTQT+5Ndvc8M9z8AmsD5GGhLqfFXqDOJKfzjaY/P33Udg8KI9XgatZs/+N+qf3\n",
              "cPKeg0Dks/dcTORb1SjsxcYfthT4IKDwBYCRrtFXOSVsO0GTFW0c7VvYW9UWdCg+WfzHwzEH4TeC\n",
              "E/lsb5tHH+8CBQkYt3kmmM1Gw9RUxvF2PVaqnJYi5N+3nJfxDawmuZ4TLXCSzH6CesS/717TKQ1B\n",
              "lS9RGlHSFr0MPCqVu7Tv67furtpIubxgAQk0ZUF6I1IPMRTnFvtm0mJXFIoH0GiJxG3XQy1U1AgI\n",
              "WZilUhw3GLq6w8doAK4SCOT1/tEvYeBDI73F3UKw76HjpqCuHhR1IvoZgEgFLw50o0H8m/vDnoYg\n",
              "VRAAAABZQZ5cRRUsEP8ACKsCVdmEuZ2wJIhHlrGXctIZjCrXoHSZIBcGbiv9H+zG7aCA89KCYP3G\n",
              "G4nDlRTBRsUW8T++CgRLXTkzd/oYrI1M1gI5GJGDy3LsknZ+60MAAABBAZ57dEP/ABNZcR+IMdmA\n",
              "hW5czmJwnsrQPli7CL3oG4Cet4WE4s7XPq4QbFM5Vv4WAjOMxmAe78ijTdIFwArov4EAAAAvAZ59\n",
              "akP/ABNXfyP4IySSoZj2S5hgBScJUgxrHfXpeXqbR40/iZYLChbIFdu6giYAAALfQZpiSahBbJlM\n",
              "CCn//taMsAHI1ztBiACsJCpTFwzGn8Nc6P+t5LYWWRoFLYDj/Fh8QgTZlprgDUixd62w/2dGkxEf\n",
              "Krzhebr87XIz/Q9UQpFeqI2RG+vLclxioDjtXcZ6Lb6xnoqtLb+0wqOtG6xvdOPE7rJ6xRizdwWV\n",
              "9L3lI2aCf/gB+TkpOdwGeM3zq94Xpnn+iYWas2VwsXHENm9n3RIp7pAhaTjbBh7IN5+nfhsKSkLz\n",
              "LcDdkdZNl1/852eDS1b6+0t5RaBAVY+S/4/VBcTmmeDr+fL/+DmXzYFr6n47RttdEyop5cWe1unN\n",
              "a1hIu307hJGIjFk0Iq3LXZAJ3jB5j8ELvo8R58XFPm/+t0HfyZ47zS0h/5g2rVRYyCEXOU3AjCVs\n",
              "0j2M/FCvYe/p2KJg2gfMzTYf79rSkNw8wiJA6l/JGHTtttJW3pyadDOo5Rwv2bOqZg6YwFX3romv\n",
              "BhyPccPdu/vktP0Nh1Dsb/G3fin5qsW4JuRfXDM/jH26bkXFAkOz543MNdlheqDdKhdu8Oh3cbwo\n",
              "f+Sb7nnw0xoF9awt7s9Y6CLOmwfiuJbc7MougWXw96ARss/ZG9fP9HBHlPV5wT9zQWw57ulR74jB\n",
              "62LAOwZThWakActIaOrRT7l77tJ8wCglz44ftdrKLDCeOG/dzaPrNmMu7of0+l4GYFBmOd/nyA8n\n",
              "oI9tBvOJcIaW6KNWXnP3bHNILZp1OA2j4es5d0fiFOQscGjwnKevkGbxYLNNwSkXWBDfBP99u3GL\n",
              "ILFwyExzuc0XqcgiZFKL9Ad3GyEoO4u+OzS+66U51D/uZX4JOvix+tL50SLyjREgKH4dnZSjacPr\n",
              "88vOTyL8OV/nnj5aHUIbjoY1J2LFTcekyfi7RCyzSugZw70fzJLOuf8NmhGDjEPgU1o96a5qRWvk\n",
              "ZkOGD8nQG556CtYRoHh/USgjRQhTEHu62dTej54Rk2HKpdAWBXRGNAuAAAAAa0GegEUVLBD/AAin\n",
              "Oka6cw1CyDd5wb7SuzqAkQBwVk1gf2o+MkaImFh1cuaYkzluT5/3ETATAemTD+KgASzRmTmdJ9HA\n",
              "yG3wVOf+C2jopHhEpKUnUrV6sJkD48bgNPY8wZgWNCuKDdi76PeBAAAANgGev3RD/wATWWzmYXNz\n",
              "cDy2s6IEXkZjDxjSYp14uHseHqw7FW5H3jd6VNIqW6dda1F7fhWPwAAAADQBnqFqQ/8AE1iGcSG9\n",
              "VEtta5xumKipY3VKDDhvicUxNWqhAhe5TgRsSvkHURhAc4Tlb83tAAACxUGapkmoQWyZTAgp//7W\n",
              "jLADjxz+vLCWUOF2b7vkbqsZAay+n0evZ85iyx7L6bgI+JBS7+jc0ZH+rm5OhcwxzQ9jhjMYmK4U\n",
              "mASJPha/KiI9HyChlglF/WSegfSovEwPExm0XqZ5nfMjOKDadX9pHPQIIH3jHnzAVq/VM+SYIaQh\n",
              "inbPWDYgMXceyhfIDBRLOYIaWvJLnlfEwBGpE0ZQIwbNGQCDu9rHtuZEOeYR1Im9ZtI34hHjdQdZ\n",
              "NFhqKMmcZznmqIy8BwDffkmPGB8J1RZpkO3IOQ5LexSlzxdWXcU3DRvnMCwqvnxmfTS2/PDBUbqI\n",
              "qCMj+pYvAwNHCtWzUfubF+hX5lxI1F+k+dJaTtOQr9U3r5rsjT/IRCI6Zl7g9vmpQqJQRMiIg8J9\n",
              "2zE0k1+eToDxNKm6cXJ4bqzAyRH35FPPLmWE97ykQnGalSTN/s5yGQmTk/FNMdpeg8GuTCoRDG7+\n",
              "IcLbvIndAo/DW+FE/tp2iUJ8ZwozOtNEzAbzb6ZLKYFHEZET4QEt1kFCvQMeHw37p9ZdmT3sJ5w+\n",
              "u9S+l9RPUhLoGR4VadwaVtltkOO/OxAvPrjxgtF+XMqoqpIsB1igZkvoPv0ajkkzSqI9m/P/OIm5\n",
              "WrZk84UH7kohS8OL2ZkX7jKJaZnd13VbsapwgY+OGOmoLvlR4m1JDuvhHgsCwipYKNzt83L85mdC\n",
              "U6poG3Qshm6UxFx5gbcTCW1Zj+3rigK7bPlEUXOxQFMIBcJdG7bbWBZE1RBdacggiqbBbKIIrpw7\n",
              "pk3kX3VrlzaZ2N1uGYHbAkGvTL3YYmF3N5UTQZMgRUnSueVYfFeHhIBWjMhd9BExBHq8DT0Z6jfr\n",
              "ileWSnEVaBLbR2yIafd5OYUrJVlj9l/slv+55ZJI/nrRkRHpCTeClO7SB+a+TBC8ISFvFstHsqOg\n",
              "SMo07Nl6LOZ1imYAAABhQZ7ERRUsEP8AEVW2hZUElFLAj+abCArCLQRmFhA8HKySxI45oqKFUahz\n",
              "g7EsieAuYA3BPw+qgTkJcaBtTP0rPb33WrGUbsX6IFBmMD2UlpCVxPUM7VcO+HkvbDg169gE1QAA\n",
              "AEYBnuN0Q/8AE1YtyQD1kUbb9W7/1MYzh73R0z4VlgTqKXdSnrQ407b8cHoUdsaQv938Zm2rzPUt\n",
              "Lzjzfj3Y28RnKrELQCzBAAAAOwGe5WpD/wAmsGzqtij7l3+mpEGSOskQp2F+H45juOQWP06X9Dhw\n",
              "vzvLsfBNHlbIR5eRlmYWnvRJPbHhAAACq0Ga6kmoQWyZTAgp//7WjLADk13TFuoBCfAeNcLKxZWD\n",
              "4Uix9dHLXJTT0ZrEJ14gweMPMJ36k9BanlTLkqUy1ZGxePcHq+CcbDes4o18Gdog6muVZL7OrXYi\n",
              "GD65nYTWHxtw/3Cb42qq/PdDwrsJb7kFiXd2MwdEB7rMjBFbf4FkvtuZoBvJh1E3LTo/1zznp7sN\n",
              "zXhj8ZAjusw/RqZhexJIyQKHFidBPZ7VzPwyKt8fEyAGp8aQG5RKaBKOuuRroL5IQrRjLSITnUl6\n",
              "Z8xdZh2NwXmD/dT51jWfKgp8xyzyRMWYsPtjWI83z8E70zH39bmhkOpNr01vpgzRXnmMp6pknKty\n",
              "A94/54APlOYNX4MQSTKHtsHM9n0kDIap+JYirrideuX4wHV2E/kG6AudlRmjca9q9ocLluNhShZl\n",
              "p7MGzsVJR7bsOuxFbicntwdCd4NIlLVing1vT42B0sgS2sG5aRp+gJj3DfYBwGckxW4qnl3UQQWV\n",
              "30paI2SPlG6pXdf4TqLA62fokygiUXjyeL4QraK9qFp7tBiUp9gDMrCsMPygdtvWWAe8q/R4MjqI\n",
              "A90q+74/WmUjvnbpv8PPZQRA5JPzXrKO5ZJcY9Gb9kxj9IPkq4VtgP+r5dSQOi88DaFTSjDEdQ18\n",
              "g5RgYPtViQLg9QlLTRxKHZU2JFaX+g0sQMSWm6KYwy23b1Wj/UGTIEPrjGw2FZdqAun6X4OvUsm1\n",
              "TPUBeY35k8Ri6uUHd9OOBTcvojvEcAvDzg4kA/pt0RpdTEmiPSbuvVLhIK2uyLUEkh/CIY4sp2r0\n",
              "tsoDtFyQeHYfS1aV1kifWGakZfZuwvf40njuUqYDDZONvvBbpA9w+IhU7zuq41o0mUMxgWl+suwp\n",
              "DGmmH2mQjSmGE9vQqquAX4K3iSREfG+hAAAAWUGfCEUVLBD/ABFU/xbVZybTXUBlD/bTjc/f8FuD\n",
              "V/z2g0naEocNJxCMR5+1SUIIQDwRt+P1tdfj2CCHNj8aRiVzFP8mld/PcuTpmtzgupjbSYnJzM+6\n",
              "MlvAAAAAOQGfJ3RD/wAmrFfKRXckAT+GyYFH1XSMzn3zV20uRv0kJBJ+4N8/BSmanA5UA2T0zroM\n",
              "PnhRcBIsIAAAADMBnylqQ/8AJq8C9DfXJlZisKULlhWobz/Ny/sIMbrmri+XxriW2O3nhexL0qgz\n",
              "Ho3AdkEAAAMHQZsuSahBbJlMCCn//taMsAOTXc3AYAOOuIsLSdcoNH8aIH4baujfn8VN15CoXWh2\n",
              "w8pzI7dGe90I7sj6tOycykxHLEZrp96C0EvNQEueU52zyGcvxyJBnlixbeIHOuTm6cvDJG7/wZ4p\n",
              "x9FiIB2cbxDT1aSqPEipgYf1EBgtI8gGAmNFHvcC7mI/y+YNq3uH3zC/fnpHw3acDy2jAgD8vsA5\n",
              "iSU7lXONoR7M4swoT7MLxfdDipVOKQtHqUtzl6RIzzL8/mz+DWMtXbEy5KaXV+ussZTZ8+YbLqBF\n",
              "Csadndy2fZ1uUaJ3qLdGobw+YSTt/D13oy0+KZBlVRMMZkT/mXhllPVI1v96ZCSrldS7IbUcg9Dw\n",
              "Ip6iykktO5q9+GXhlysp8elLozZaQIs8m7pBY7xLJI3LD1fd4PeVwiCoXfZi63x+b7vP3GzZ4Xi8\n",
              "E7CstfqPhySosAmE8dOFphZTlNfUGins1SCNCVUEvwpFSRQZ07u1nCp3RFnP9RPBXNS6Q9XfpSGV\n",
              "O+J6e+ppG0nPf2iS4EnFOZldfeYQFSYOcOyFm6kOE81Scl7GRntZxFWhPUraZcd0J43MayW2UDOL\n",
              "XB1b95IQiTL166pSPfD3Vbxt7qq3VlyK4phbSY9a9IYSEQItFPFQY9zF41JG4Sks8F4iE8Vo9QyS\n",
              "NHNDsISjhFsUAltprT5sSRJ7meVUflGMDv/Jg5XvNmbitG1tWDSS0Z8lpHXq7OQtuEqLX9H+hIcf\n",
              "y3w3B3foSLUTsDq1N/DgW5CTQ0IhoN1QRu0n3k5gUsrAYpm8j+QI7VVWW5fdYN27Yk+H36uPo81b\n",
              "R+xb5CkCVSSKAmZ393F41YL/sDI5h/vInWhGtA7aexscvUAaQKjrq7P9sw4wRP74WOwuhj92UaUf\n",
              "wWJnXRi+Hx3zUnxBAaBK1SotAt9+l6BMt6zPttFkF8ry9fSkpYxyoxIqupjZYq4rca0Vwvg1l+b+\n",
              "KN7YQk04xekGMwjfRPCGzXLrT0xUauR5tnzXwcn9luIJixHSQrJYHEFUwAAAAFJBn0xFFSwQ/wAR\n",
              "TGepXjp2MwEXNu6/IN0Wqr2ivxhLAOvecNIAS7soZT01UEY6Wle2SAC5R/3aMmHPyIUMk7iL8LZq\n",
              "moNJfiCDswfzdbKJFvcgAAAAMgGfa3RD/wAmsuIjESqttxDc12lOgHts7h2R/OEFIKrk64SPQpnP\n",
              "KLuQ6PS31SWH8SLNAAAAOQGfbWpD/wAmrwrob65MywDRHeoSRhjM+htIja+Sng9D3BsPRsY6OAKf\n",
              "X/VmQS3GUB27CtvjZ+ykkQAAAp1Bm3JJqEFsmUwIKf/+1oywA5JJcdRp2oACMXVYxZ8D17xiNPFy\n",
              "GAxN/jRlwyN1zeI+qRrdjCeXgL6pjNh5+JLwbt9FUE7LJcbC7nv49Churff9Y4pxhqfzcqNwyPXs\n",
              "Yr5EqV5vOz7QkFOMyXYIQn2UMnwPjfEiGgkjvnKlPdbQLBYcRuyoyh6lwnSgYPsUc9DvSKDO0+bs\n",
              "nPAw68PHDU4mGNNy3Z4nh7wf//V2UyhmmXo/Cgibrcy24psDKHd3bY/NYLon6U/g3vFhOsoYbGUu\n",
              "qr5VMxPcQnsKRltxtKa8WGOAVk4JKbv9KHnPV84bmnLiTodC1wvYaX9Is2b65Ec8m5ZXiPEkYZgo\n",
              "lAhXRM4S4ks1GP4Vo5/EMbpnh12DO9uGNu4CGH7nYp1MBGs33FN5/LwTGGEGIoZfszuIydGJ/o55\n",
              "W/Nk8sLuU4PLjvJC6eGtqWxxbZoB3UbRgX+vmT0qXitrQWpE53Zj5Dy9WQi/B3yinvgaDkZNF8eH\n",
              "+ZqEKIfVz0clCNGoDmo2ZhKpJJn21p/iUEj5wNMSB8wyStXgJrYCFCQBiqMuW2FPm/SZAEq5zcQT\n",
              "kNK2xD1Spt1/sjAug9zfzlERqKB1SRel9eYQ8XbuZ7VmCYz7wMHdpKcNkQ7Op9v+qMVsx6IH7QxL\n",
              "5RGb24kYls4L6DufY3I/7XdtjuKNvpigQZTDBtUjd5iNFPTL2wbcMbRtcFXp5WgW/2SgtL33K5de\n",
              "hde8GkS8KC1+zHtBvOKmZB4ytVCuOBKtQzcj6kZb758ozzT+dBJ/bWeMmppcl2R91b/bmFEQmqvX\n",
              "yoEWX+650Um4wX3qEncMAmWD5i1KvVCXDuJialdZWVxQzfsbyW9DdmiOXoy9gqgd4ha76nWg5j5r\n",
              "aU1xTiEAAABcQZ+QRRUsEP8AEU6lj4pG2Kl0nF6Gmu7bvUag47W6PR1ynOojfjHLA95lDbIrV2Wn\n",
              "UJf8S4ALaquQCOqCJza+WMwV07NtFlcDPHFIN/CoiIVklg/xbSb3V7I25xwAAAA7AZ+vdEP/ACag\n",
              "8Ycfyp05xBZzG725nrQPT027yxd9jjpSTL5WB0dPtWKBfGS74rsUa90T5tgyTCnouhgAAACIAZ+x\n",
              "akP/ACaxDrCxSyXviuX0u3wUJsZbGT2VKNM9VznkaNEXh7xDPManHix/sr16vrjoCMpiJnecAI7Z\n",
              "fCczafrPM5DA12fAH5lVls0SZMOGfdjai/4G1lgMGH5n6mGrG88xb0rD4K3Feco9ZF2PxMpVzkc0\n",
              "0xng5D/yYtFP0UrERdGCp33JoQAAAq9Bm7ZJqEFsmUwIKf/+1oywA5NqqBPpgAZsabcUlouDTS/0\n",
              "RPUC6WLNVpFpqYShIzyhaSnZe8aQ97eXJWogK6CdnZzX/Jw2OBGfCQ8VmBNVejUkkXXK3NjT8lyM\n",
              "lFoq/UTMd43UdL79BzbrX7XFR3AZAVbiup8nNXJJyB28yIEKDQUpODiARbhO/zgGvxh6bcoSNwA7\n",
              "dGo2xvT75+2tPCpwG8FuZqtHy4ayJDWDFzMelO+A8BcvxsGDZPeRHC/pZPC1VHXhzGwKQ4l2swXd\n",
              "5VJ34zb583YVpEA6+m6HaBn3e2XouPqOHLZ0sfkUwj+z2QiMbt2Nzcu4zYQ8bLDBP0rgNO1q82U/\n",
              "vBwqkRNuZq+xcrxiEey4AqYVoTrbjKs4MUizeeXR8m22Fcpv+4SZGEqiodf+NeGgV0ha5YB23y9j\n",
              "W8TMDvgpQVQMznfckps19OG+Ir3kRjbTFurc2RP1bZmKqz8MvlahvLO36Kko8jMgYs1+ix/B8Kbv\n",
              "Iua6xu2WA6NPp726GfHlUzy+QJTQ4+VELDAtaO8JtLc7Df1uq0h6JrzF7CdOHc8WK4V1+5lOgATu\n",
              "+327jbdt1aRjfoIIlq8W9fkHbSzxofygp9VmIxAxkJb959AoRfHgpy+V02sMZDWLr4JlvD4hf7em\n",
              "Ix9zL8H39/AvKKJ3GAWQROTd6GOfVCo6lbgFcIrwI4yrnz+4H1D8iAwo+EoUHqaMu8IBi6Ea0mLa\n",
              "LWtcGd49o83y1vY+M1H1IEhnYJ6vcjUPLgR7Fc7Pw3sQEHTemo45KKpOP3jCEiDVzsTXb+SSLcaK\n",
              "5/PmPRES5UPtmPgaAyftBXBMGy0kKougU0IZ4WabDBsfMoUoqs+j8kD5GUTGy9EwSJd2q8N3ohoW\n",
              "y+POJLgOt951YOmTAvlwOkuwTTmx4CLPAmcAAABVQZ/URRUsEP8AEVUAd35FjL3dZsgIOJiFveRm\n",
              "o7M/gQ1S0smddW5/yNTucDUAFx2ivqhifrZbMdjXR7S4b4lt90Tam/4gJYe4QzA2ZewKZqtP6p/E\n",
              "3AAAAD8Bn/N0Q/8AJrLiIxEnJAd2V5TAo54lO+BJyi775GstvLZ98Z9dPpUcEHr/rmyPR5KpydCw\n",
              "MfEW1UeUUAZsoRkAAAAwAZ/1akP/ACavCuhvrU0ed9OBhhoLKN6ctb4kHJSQ0SQo3rAHP9hgCN7P\n",
              "Qz8VX9tOAAAC0UGb+kmoQWyZTAgp//7WjLAIvdb/8coTgAjFy+cLBMe74/wThM69CAQDXmeIoKOo\n",
              "H/WEIYavTZ5U4+6aUNP4melLA3Um1dNWW75FAlLPTtSV/C6/koOtUyvpZfu9MeSOaUu6HkliOI40\n",
              "takXZG5FHnxNmW07nbizgvgJ4pWDQh5+WbYxtG28QqtJI/wX/S+vo+1H7jzncN4JVAjPLxJOPnS8\n",
              "BAUNPsw8Az5a8N/dTsCYB3fIkp4jPWrT6gcV4rN4MWB/btsC0cBzo+6DoHfhE8ND21juo9Aepu7b\n",
              "rZDMX3Zw/lwPwcTOZNoRMeEPKzG6Uo5JOX7OXeNf8/UyhV4KNs3e6YPVbF4AWdDMVBWDfBTIIyaT\n",
              "HIOu+yUMaWHZ8I5RvL+uDj92M1JvB8fk2J5zEXl4ztYZfK506LQdPqvLGKPD0m+KnDhRiGHiOJ+W\n",
              "lsD0qRypW5+U1sHwJTueE5HfIjpb5I94ObeUxEFZY7qRhFslXW7/pCUzjuZ0sPZNusut9Z4DnC/7\n",
              "M2sVFgjwRCArfFSaxMLaCPH82h2Cu8JexJ2Y64ddzKXbdvpN//qIZbkpO/beu4ffSBZQgQ0mVL+L\n",
              "HHVJp8whH2PKvxQMeUgyO2Egr+Xf1RvIbvOPYH3jffww11PLQhfcYoEoOZIbdgf7HanjqD14NAyl\n",
              "YXmuFuUyPx9XwLaFLhb7cBjvpPF1FveP9fQMmB7YHDKsctAtTqEnoHtI2ScNeXcLuP3uqW/LDgOU\n",
              "IUYV73Eh7suZcqHKD2nHVNlFsabYpOjJ0UkXF4oaKREcWBN4v39gR8sRG0v2piujfRCFRXRIfTnw\n",
              "wzmc5WfrX27yvdY8v5b2R36PtQB4wrNZjOoTJyja4mJSgHTgk/i7H8Fh7nN/qpZWpaP37A1ts0XW\n",
              "60N+H8VEkl06XjWs1nWWlrwithCZmn8LZmTk7BF/tcuHbBFEHXWwvB4mdRUbX+EAAABgQZ4YRRUs\n",
              "EP8AIottG6fR+nDuc31tiI5fGHF8RnIXf2uBxdctMvJ4573sAGhCwq6HQ6hGW0PtlcCbJP7GcFxw\n",
              "BFu5QggLTSUwWpntbQlqo25sc9PhSafZYvIAJa5P00lZAAAAKwGeN3RD/wAmsuIjEQbuIZhAouRF\n",
              "+XwF2gEjNPkakPbODkP/3Zr+16WyoYAAAAAqAZ45akP/AEy5K3REKAV1uC3TlYiBwJChfrM2qh93\n",
              "QVtK2x7dPBiHnPmBAAAClkGaPkmoQWyZTAgp//7WjLAIvJu5EaEFE5aAEYjJq1G+cLnDCucya+Xu\n",
              "fjlbQ29TIxtHKRr2DGbjVs/fFLn1sRjL3Lrr/II5r83P0XABACv+GYbiMhGKNKsNuYEVEI+nl2Zl\n",
              "Zf4Wk8nA01ycrrfqrourKzT8x21YdVDFmKt67x7zdV9MmBKgv645RtkYz77Y7sgou3cboXo5mQd8\n",
              "Ietl+wkf5jsjq8/tFfKWyMKt6XZ/BNqpi3Ez4pXa7wOdfwzAEesK5K8e/o0Q6j88/y9rU/INsEhm\n",
              "tI3LhOR3UeyhbRxxeJFIIfc3uaG6Fgb36QwkhsCx534JY0Kiy/8OUDKzMJ+8tXrxcZ+XANHyftnq\n",
              "1ydBanP/ceyitdP+dFm97viR2oD5nvQXTs900yBRS2GxCZjmrMzGkldEBT8ybiI5zDITphwgC8Gu\n",
              "jSQkPUUmWllIEZDwiWw/La5Xq9jHdSBltgKIM05+/3qX8cwjvalfuox/0DyCLlD0YAHtUIZ7m57U\n",
              "jxAuOrZ+PtTUJAMGXfUDcwhT0bKudVlSUY8MGDdnKhftOR6dupX74xe728QD/tXYN3KpZqWFCD9W\n",
              "f166odNpOwpfj/JJkyqibxeCh5DnffTnMwINMtMpDRXbys7ih0nd1fJrnOzx9SI5HiuK7hYRDsy+\n",
              "Wh5BdJUAu4iGg+3Od0MarY8brnkZmPMaomFRnvRxGLwEKvatG4ClTtYf1tWuGd+aOyouh0fQY+yl\n",
              "PwkD4PtsBteRT6wC4Hj0QH+xTpJE3kVS/sHpNPtSjo5Ev44ye8CFdHGtwDmpKpHp0QZBt3V0QC6P\n",
              "ejMEccdKv1Wnk5SiyOw04KnxpFmyd4VqqbLVEouc9pKncQd+spoZ7CcnQ3WqSdoEhozoAAAAY0Ge\n",
              "XEUVLBD/ACJ40A7XH9xPMaglDKucC2hhSM9WsRgtZNDlgixs8OTmki3xhVJjyMtgJEAFtX4uEpTQ\n",
              "bps5NlaEgipFZ2bEEf7CUDXKDISrvYRpiA7n5exFBLEdOS2u+m4zIQAAADYBnnt0Q/8ATNDWpj/y\n",
              "CTDAMtZRrYCgEfQ536mHabFTsyam2xbhHKNRtXBFhXVfQA/WH7aqCYEAAAA3AZ59akP/AEzKn76i\n",
              "SYXxl8IcJiwWKxkTHLWXAMds/LQB1TvXr34uWV1MYiV6fyb7+J9UNNQxuAAAAsNBmmJJqEFsmUwI\n",
              "Kf/+1oywCLybue4ACDog/JGTU3xrI5/7ESH8z3PG34H9PeXhpbUIdxyY0NRLR5F1bR5YWp9N4HJY\n",
              "4SVHRlnBD+KTs0XvlsPE8XDUInmLDNduRnUV3In2OgCxUfpCRQ5KGViA/F67K6OiwaoRVYFdWUkg\n",
              "emgmpY9R03ifsFXUzV0eCRp8l8cwYYGY7+upfTOgYlM3SllZP9eruIkfaP6WU6Flx4qKLlqx1RTE\n",
              "REeR9iFyvhHzYZch6/2P6pw1wRSqd5woRlsugLCWhDWGvouI3XWzKO5DjUoJPoApukzc6uOx/ErN\n",
              "/YGcYk5T+7brKuH9mHiZTqX+t+wtrGOfYN50x2GfepDkFvF7oKagaQmkjyLJpS3WSYsZ/giJYGwK\n",
              "LoDq7PwjL8Y7HdAQUzB7NefMNdk2r+a7lBJJDQ8hfS1YXc3blqQtWDHgCP3G4uYH4RbhnLawqreC\n",
              "JKDF9KhaszoJZ+H+WtYBvAVYgg6gCJnLJ4gAZJKIWro5017pvDuphnAFDB1kzP2TiAi7QGFnUOLz\n",
              "qdpMZ3PW9TAGN+hiYnzL5K4FjsXbPn96Wmw0LVFRQQLAhJ83Vuft7uHKOe+bNTr/x2b74Q01fUW3\n",
              "Y+9K8P+q0fQ9wkVtuN0bQ8snYYy3rAuOqrVPdZWdkadkQmhkAG/PNoTXPhbQwv0cQ2D8Yhfq3jro\n",
              "XyCBd0LFWOyKuz4SxKqB3jibt2I/EfdkGTcpsMB2ejLN7ujYTgZcnFsys55zSHRGdj7R9bdQV8iV\n",
              "ZyNy3l5vJ+Dq7LiGTGP05yTQRDb3a4laaF9blxA28pPOiMAHuqg0/i59So03tJFN7m+vUABzkyFd\n",
              "iYgaa8+wOOeawRYecFnWXIo9rXV5WOaf1UtLkjM7OchL2TvoM9Cfmo4eMDPp9KlJsYIFV6ybe9Zy\n",
              "kZS1hEjzIL3a+yLkHAAAAFZBnoBFFSwQ/wAiGRzSKEcitLcMI0ZVLLdrfVhHkft/Ue7356gnWa1l\n",
              "Np8gmeY962TSJlWzjzPr/TCibMORfd6biqZLccWueEyFAhrOAA5/9fhT8i9+OQAAAC4Bnr90Q/8A\n",
              "JauVPNJK2TviQMeptFmj1gk1TRosXzu7pq7GEx6E0hCCB0sr1DK2AAAAKQGeoWpD/wBMztupzg9F\n",
              "hLjXD2/y0BM7IBaRvf/IL5bzB5YBNIqjVQXNAAACx0GapkmoQWyZTAgn//61KoAhEmvYqAAj0LM5\n",
              "tG9ElzLNtQ8O9jVXPeC/KMBw+IeqfO0U+cNgNYuUAgXY25y/YTqiCBygBv1o9SYGjcKLpYzYHxsp\n",
              "nzCrsO/pAXbVBhBv2bBFTvxK/di5EpW09cOVcb7pHo2cuAOceSvKb8GO5Ivo/zxPGuVkpzUCeJkh\n",
              "7s7QAJsVNnrMFIzjNBYYQ6gU6Kz8RS/l8j3OXic4ZU2QoPDbf01wOQrTKDIikMAv8WJ7yVCAYHcE\n",
              "z5DaG5T1mG1MRZkYO0ag7lqcqFB3N0Ip+2+9SIxv/tv1TMYL+OP+8+zvCZUUzXOch/ziL+CRH0tZ\n",
              "msT0LTY+kjZJCLbnIjMJigpcKeeo+N5VKhKGD1bWPcdTIQIWmeBbflkxYyravIi5BW7VsZH/WKFM\n",
              "TsZZDWZXcV8Dyb8eyXLc3rqCaqyXoTvPTswcuZsaTcG+fN6t0/a2MrrCb2FybgkP0ooUYErP5WqG\n",
              "9LTqUY9MZnHhI3SLJK/rHIwSZLPL9W7/xvML9hgddymYrt8tEiaKo1ap0CjHQV52ge7v2zkDXzrC\n",
              "EBeQdkm3rYzH7vS1m2nW578Ra7oBZwSs0sfQW/rlPSjsqn6qg+PH8y8qq0ccPae/8uH5zmwp3BCJ\n",
              "oQmbfYIFiai8a1mhloOEPylmSb4W22DfLWNHtVN4rvXShXwqWwF3xv4vNxGUwEuT1gXFy7j6/nP0\n",
              "Ve5xr+Nhm2UISq3JTQaxUrdIHcyejhmPAOlfv/i8O+bJ140pBZ+1Gwluv0pZbj1XUXY0maR8zFWP\n",
              "kli4K39iHO2X47OCc8IqQXrgVHq2f8JzTdsPnLNZBcLitj5Vrfn5dgGjtALSJI8I38SrmnGN4lo7\n",
              "SyUcrWS+V1lU9rO8Cl/Tk7IaYP7MFjg3RIf/lopieILuq6AX6tzJsxD2Nxel+glfArwbvabVlcyp\n",
              "gAAAAHNBnsRFFSwQ/wAiUDCK9kAAf0fZ98aL5rjKZBe1Fq6ffTmsuKlC98UWRcXpTJCy2NuHGJUo\n",
              "89fFExrV9U56hzoU/iKw0x39gcAuS4bZMoiaAN4kaA1LLGQuKLa3MulI3dSiL+wv9JsRrUahZS8X\n",
              "rJbxYZXPAAAAPAGe43RD/wAlUNvsKmeHgPVdp+xvQOK2tKipMoXjcXDtzW5MvG4NXUL4OAgSIxbH\n",
              "gklSkumkSdQCTMMGYQAAAFcBnuVqQ/8ATRyHABNQ5puGeqlbszdYGdgXrrCj9ef1qW7HgU2xTU9I\n",
              "Zjr/hwXmNZtJqEet5ZxMvG4K9yKw4C1aAdFM/SfcPJt/7sZeQDQ5A9A6hmuJl4EAAAImQZrpSahB\n",
              "bJlMCCn//taMsAi8nYS6wAtjiGZ1WF6Re7E3FHBI3kwpquqrNIfRuSvwTO2UaBCDOrGZ+0P1rAwb\n",
              "v9Ck1nqKCvUkmTITCIQjtjcplq1a5M4asoNIRIFGaREuhh8EBEXT+AHL/RVuYpZg4WqljK4T4M2N\n",
              "Zbv7UO1q/KhNBhkmXuhczM2C/SUXFSSxUWoZIuylkINza5FebKvM3HQuzyhQmKswJqHefKQwOsWa\n",
              "xDwJfO8OimvJeWkUP3veHmU/tf6uCAzichenPTLsiGdRr8153V9IBHEWHELzHy9qsx1TNgeugBtf\n",
              "ZqkC3FlavfkaCVUKROLb/SSaDDDZR/BKEfh/n1gyXCZVureiJm1YKfPzbKmhdeuPTQXIbB88mEYB\n",
              "n57AzEKhOP1XxZ2nWwaYKEYSQZeLrXmIs3yM0p8zCh01jdEKo0xqmPzP/Bbbpqs+9FRzKrWBMRZY\n",
              "NIjux+7O74+7DPeIaJODT3/jo3qJ0dqJfUJ2d0+mqGcqrgvRTcrDHAcZjmcusp2BS07/JKGkQTpY\n",
              "iEMLcwkq4xTaRNNl6xtyvh9PrvFzzlJzXnrT210hpBv2cPC4idrPVB79Khqv/wcBR0n8U5STuTGD\n",
              "bEG14YKNqnQpqEP3m8/Oald2jVU9TauBVtWKrKtzyK5oKrvMoQtiI+WCULfILTLpmu4Cp7bFooOz\n",
              "2nWP7yl32UlYLj1rO0aOe0PmwTz99Q0Xh0kUEPxh3QAAAFVBnwdFFSwQ/wAiqeAAC5udT+ZjAtWi\n",
              "VMyBOXnoxoH9Pt+QLVPXfOuzOW9t0UcTwW5ne/J7ID3BdgMcBEt3gvJuv80P0Jt5BgYqeY65AM42\n",
              "MfPyhO8oAAAASQGfKGpD/wBM22zoAJ29ENGAxLi1c+96Mkl0u1KPBW4Syr/deZcwIUyP19QD90J0\n",
              "OAkM/hv7pn0G3rvSsfjQcBwGcPe1tkkunbAAAAKeQZstSahBbJlMCCn//taMsAi7j3ItQAGoZtNl\n",
              "LknLS0CQ/l6wyuXxm81EmjF5Hf37pGUonjhqgjy3HavEAOs2RbbmwX6u2ISJvWpe7+/RJJrd7X2m\n",
              "Huo1TKZl5bdxgR7+NgjCbdIMopVP51bqqM8M9vDjF5WCAnYLW3eh8znlD9abFZ9ZsQhgpiQwREih\n",
              "Au3RW9hNL94pic2ano6DJp40Ik0VEf9bS1HL5qL2yavG20EwEkpSMySJl9fNv7WjfUbYObZELNZ9\n",
              "HPPI2bQhYsjY878t1k4BQPRKg3vlPJ6W7I5qctgYkLp5CxPwhWMHNNw9rXrsYLhVxADk8TYU/HZH\n",
              "dv2j6OjH8dBWoiN728A+/KTwCRQIPjPHc3fmuYmjWbD3fi2PKkfyZdHUdlWGsQYa0cffuoWZ0Bed\n",
              "w8dntgZ1gRZs1/XNWiA4T8Y0xtAdbp4ZP3ntYSgIj8ujw32tH4KN8iwZWfM32xWpL0rVzg+YiZor\n",
              "XJrkim1lBCAYhCyf1C36nsF9D9ssEK40OePi4X3Ddteq2vSv1eLf96dHtHG7gk5l7PIobZ+ZxAUo\n",
              "s392+8+u6agHF7qZHdpmsulT8WoCZRdRIbbYsqlKcDXKVTuVoIiaPvRuPXIhsS2lm7DH4ml5gE5X\n",
              "UaEDTDylJKn2WUaqVLwLE+sB3uQB7Sv33uapFT1eOPEXovTt6y+RLqMnwfAk1TOuT8edIKWfGhqc\n",
              "KhVLVF5lvFtDPCj6PkXjNw0drpXFIVXN17/hCLYiSGNbTGfzVY4WutErMikR+PechV8lHyzpOW2F\n",
              "bdOi8mRsx3aDPqV4PC1lI9usEieKrCczIA/MNYIiiG/4cbWiub5RMd1Zi/8Xal3BDXPbjJB4Uwvm\n",
              "+982/j3z4cbpPBeV1FBoEwAAAGxBn0tFFSwQ/wAYUKQsOOikvVTnt10+zYBJcDB8QEjyqALJnN1G\n",
              "UPsAuMM65KnLmYGs5vbZ5zOkAEonpqZHBJr55Xb+6JyRdANmiUg5gAr+slEG+fgkEWAKk6I5pPlC\n",
              "d9JHcqd4zfQYUC5hBDQAAAA+AZ9qdEP/ADW/+KwdW1mFqNZEuPQlDK2IC769EoECxlOpp3Nh0uQK\n",
              "b1L4bo+6+bK2snAREchhwPNOY14YlPAAAAA5AZ9sakP/ABpfHfnGc5zu6iGy6Yjlqd/VMioVNJu1\n",
              "m8jAT9tKzEIt3FDnb8YWd91bv+X0/mq6rULPAAACI0GbcUmoQWyZTAgn//61KoAhEmzY56ADjCd2\n",
              "1tEjJ5rF+37XqsMTs1qMzPTT2emqEYC+mITtw50v5g7k7+fMYn8yMiDkdS529oBEcMzou+Iv0Zr3\n",
              "/YHzBcwBCSygCcTjx+Gx5VoPY+wclmpEydK/uqm9/a3HKsCvO3zmXSYQlZ1s3jb5c973p0pZ+FbM\n",
              "RZVkt0yCTYGn8bSCLuN0lWKxXWER/u7UHfTGOrGTkmWISuEAj6w/S1wBUjJfG1sl45ZwiRVdOZUJ\n",
              "NB8lsK5jnyytV8JL0rR9BlLYL5A5MGR2OBjrfq2Krx1O//vCe2LUvbGTEZJ87WuNZZ6LIMLo2Nkl\n",
              "F8PQqn8JOAyi/SujDeYnqrk7cTcsVBxFnlShYrHONPrc/uJ/hv7ioLFAXKluBuytvAZggvUYg3RA\n",
              "m4KBBlPNjWiz1J+oL+ZJOGY3vUZDTQbpXeYXVcxvQg+43zynmc/FMr4U9YaE7sK9EGYBG4Xv3jGk\n",
              "gBquyJGcAOmrC7UZbsMtsYODnp5gux29yItjbEa/JUoybBxDF6tu2UXoqxVri1JhkMOb+37Z02g+\n",
              "Ix07NwUhrPgtSy2c4CtUqVsgzihORBao4d9AboksQ4ps94P8NeC2Z3lmnZsgaXoFEskbi9qAKFXg\n",
              "BrTatTdghiy2LG/GJwz0INgHAtgCb+TRxlkq3QdsxZkWkVQXWIJ4q2X8+NOYh+Hi4896NpdOVa1r\n",
              "iVGbF2yV8lcAAABMQZ+PRRUsEP8AGFWpWtWeCjKZdLzQmSrwIKYX7vuOa8bGLC0vH4AEtTyuzroz\n",
              "cNPr7COwX5c610vGvLtmz3kYpQ+QsLyQpSTKPDdklQAAADEBn650Q/8AGlulL1Pto+4HUuDoqzo5\n",
              "qUkuIIA/fCzZPO4VJSpaZyA9tsxCnQnYZYrMAAAAKQGfsGpD/wANL48Zkbk9nAEMMNUZkmoFzMGI\n",
              "dignlQ9fHwPH3uYufKO+AAACP0GbtUmoQWyZTAgn//61KoAgsCGs592SADdMAJKs40VsWCIcyClY\n",
              "BsctYfbC6wzxI7m32lCfHfur76WPZ9UI65pnr/42MWwOiNhPLEg3VSw2utcnmF2V89WfgFXWOmYg\n",
              "typYR0iPpgxX3JradK/dvKIn70vZRqt1AjzVlad3VoMQ+WohVdwHHNfxzfZfCuv/AhEVfz0dxORp\n",
              "QquTqbv03V0uxSpHJ+jq4Nw+Z3sazC7jf6DoIP2YgAzxCu9yYY+fNTdH8u0cC6NYYma69iNN87dr\n",
              "vYaemEM/pQMOWbHkUQY65bKGS/Aokt3KnpIGl5lRy7yiJX4qALUh0XAM7AWjnQnxdxmDfEJjp7Jw\n",
              "c6aStSQ1Xq8CTHVzUn2RcRU4ug5OMdSPhCF8lcKM18Wx1Ep77JG3qcq2aHCpcfZHJMxK5o84jgw8\n",
              "Zxzbk/M90UF81XuFachqxbMngp3kfd6Io7yX9WoG3dMYRrLxwN/JloAyKSmYDrmvBjZ9oayMixqy\n",
              "aEH41yPuUKw1YOd6iGbFlmGZtie8LoTAsc1H+O1O7uYY/dNBgFxD2o+ZGlWb8iPhlIpbu8h6hPlA\n",
              "E4mSugoYt4bATGzNjm+yzxKymqP4pRX+gQQFlKVHKrzyAeswW2/Joehdvn92Enk5WSqXryA2PdFi\n",
              "VpGkxwxif3MmLwLFeKCRjm+u2aPgt8Yndvp7VBTBgiAxn/+ZMm+BRTCsaLs3EXFNrSTuUMqR+4gL\n",
              "HrCNg7waAJdaIN7DUI0Go7odVPOd71F3AAAAUkGf00UVLBD/ABhW/77ds9kyx/M0Iqu9ez6t1CPm\n",
              "9lcYjD23gBHpIhQj0aMQ7yl6aLMKvlE+yLED1x4fSS1P5ZoQrQBApELwGZMMlWU3Oe12y9gAAABD\n",
              "AZ/ydEP/ACWy7ZPNI9Lz+hG0b0io0x/CiRK+lbvHOZQkNNFXf1YABNA4jJLek70zjCDSu7WORc7m\n",
              "OEK1r4TVp/bJgAAAAG0Bn/RqQ/8ATMqHhl21x0W5c8tBldfjDSq5ot2DbQj03pT2G6KywR4gsvq7\n",
              "UOUPHV9wAC0eQlbBOMb0nZDv+qcxeWzwxb8OTcRLgLba/Nayp2Ut+gFq858KOs7Z1FJ4EHN7ognV\n",
              "8SYV6KiC1/aTAAABqkGb+UmoQWyZTAgn//61KoAhEnUU/qAEhGnSlkM5MsjEn1uqrDXUMVIiCW7m\n",
              "z/G76Gab7ywjw3rEKsQn1l03pxA+7tW0LNsbp+ou+B95fz0YdevhKfYg8QH7aZx2i6BwiKf57MRC\n",
              "HI24GsqeY+4sSIu4Quz1kaDKzyB3zdC4c86LXYNVRqqc9NbXUXWrI/2cr3c31kQYwSj+icdjubvh\n",
              "DijlB8E6dW7vz7AHqWjDRHL9ds0aTJqT7qZyo02LzJkUPOLZUoXMGmYRYyuzmajPBw4vbr6A5vw7\n",
              "bfd7PPkYqd0HvrVXCd5DqP2hSr9z0doVFghFpby0c6Esx7vhuagDxg6L9HPLe5wmg/LuTWoEgxOF\n",
              "HAKgqcyvgDJ5+T977COfn224tvJ3h5WcybG3bgRPCPWiQU4RI+O0fZ0l/dmtvk1qjHvuADZ1K9qp\n",
              "41UVJKvNvzz0j9tm2BOh+KQAAUg6TK/Hw4J5MD5xFWgqAyqSrmzPw89nGrlHTHUSZp8b/9oL+Bnw\n",
              "XkcQJuMwnLUjfNq9LpPmyHLbEFi7mtlfhOuAKf6KWdD0UQxciEmx0wAAAIlBnhdFFSwQ/wAiiHyS\n",
              "0GmAFujN1A3EI/mFun9D38abbceFtcHUqemK1K9863uhub23SYUCTMgRXiY1HVC9nQwdAC2EM/mv\n",
              "942XCoYd+B/XXhaHwCsBO+7wraQUPM3Be66txsg4+Y0sPribZ4J+y0YLa6yQU8N/XTwikHprw+sy\n",
              "WMqphpuTX3se8QAAAEYBnjZ0Q/8AJbLtnaw4B7F8VxBq6RHSVieL8y+zsh88zD3Y/72LtZek69iE\n",
              "vspefiqlrQuDh8UXqEsvbUlurJwl8WKgCcdBAAAAUwGeOGpD/wA1vjz6PcPJ+D0EBNb3aq+l6hXz\n",
              "Wz7bYGoPawCMyMFu6hOM4bbLHszmvWPL3Pf/1CAIiLuUsdJQAdg05zKemS25JguBF1X4d+wW/5xo\n",
              "AAABe0GaPUmoQWyZTAgn//61KoAhEnaBcQAuk0y75FuN3lsct+SiAqo1ZWfYatmI51TfeCnxmHoT\n",
              "JLIRvBXz5q7cvf9L6iYuLS1ysEQyFv/OkkDyuriv2b/mUMxp65BIEL5jOz7oUvKr5pcwpbZwAjsb\n",
              "Rs5ULdX3qmWhL+AksXPbzIUwST3zi+8jkdwFD4XKMYek/4qU1M7CLcmgeigXYq/4gKka2Fzp/BIa\n",
              "voy3Dr8KB/c1+b2tVs0CUv2/ZKL3EF36Okk2qk+2aL8AOiC/XMSeo4fNDDsCAyjFZhMsp05j9EqI\n",
              "2V7C0pXM0LbhNKTYaAOhGIZdK0zw0tON3C5789z/jSWo1zs7NQC8/U15TuPbBSkyX6HYXlBLjpnf\n",
              "SggYBmhmDvm4vsBfa7F+YuOvFJMhCyna3+XZUDcJFCzLXOl2o6t4sOrzpM4emks+7dE4ik9OrZDA\n",
              "z5FBjmumIwTIOe254CysTnha/PgVqzG1AVQjPhb5B9sGKdzZw7o96QUAAABdQZ5bRRUsEP8AGFof\n",
              "aWnHdTilIqeXdFBPWukjnuXPhQ0cUqyngXzpJc2Ad3gZZzvRbDW0Tah1p+AJcyi6kP6b3akSnI0Z\n",
              "LCOTxW8Apr7UvfNBvAQmOKEflt/V10LKAAAAWgGeenRD/wBM1yvJ7tABOYuY/BLGLaK/qvf6zPOy\n",
              "xxSk19kR+OjYXuvfajw0lPoxe0gYDTxZHHU+ssjbRbI+iXW3ALNwmJxlotevmozSvaX65Zlmy0EK\n",
              "PFzyswAAAD4BnnxqQ/8AJa5aMUriK8f+FV/NtVDOIzkiwSHEOZrLeglgbPVHSaTseEC/5mAFqYPe\n",
              "ylVMO8pAajqMnLBEQQAAAPdBmmFJqEFsmUwII//+tSqAIQp2hHgALpDH5KZj+bc97E2qb7Uq2N50\n",
              "nhkHgZiYOWvvywLurGVIbbPV8RF7RWMHD0DqbOljcbskbVzf8ojop6N3cDZhKgVLgudeXicU/Bts\n",
              "gPutzBzzsLwVuT/+ebdLih3yN5kA/oLEEY6GKHC8h2KNPuZqckpINu/DrNmZLYWE5L5nj0viIuhH\n",
              "pBDXZumPgJ4ZOjJ9L0fwrAVkinK8M+9pHEqrcFVoqP44HFoC2cdBopMf2JIYmbmut2+gmEhM9R6a\n",
              "pSLwuBYLegLE6714zHmipHZV0b1e8oViqaMc7wCHMzVIeamAAAAARUGen0UVLBD/ABDU3OcalLGx\n",
              "RSdqs0GtKSO/J41+5v9cJ7YSFBIIaRWveMrTFRycEqD0DwgaQbljU97lhLAjtn57UvEXMAAAAEUB\n",
              "nr50Q/8ANbvX6XBIwkla4bXWkGZjkfDrE7Sempei/KWJB2THqgTw4Y7FHnp7d3t9m/ZwvoZOe4mZ\n",
              "IU+jCXWKHSgS4/MAAABqAZ6gakP/AEzaQ+k9mIN0H3lhsEvI0XQiLrNE+AMCq4qIYit6ExT3DroB\n",
              "XqBBbUvfiVcfl9UsWZQABJSYktNZuyWpGqLNSIJz3Bqm6gCTfXS53wBetHydbfQppxLtTPcOPGVF\n",
              "39rSkmFhwAAAAFBBmqNJqEFsmUwUTD///qmWAPruapUE0FRbeCyxnCSGt/mNoZHt4H2RZ+pwykZK\n",
              "hI0P4AE0Ekke9rvaKlqVpGoxalKCik58yQNiEBnATAsLUwAAAFABnsJqQ/8AGv4aKrPYtn41g7UH\n",
              "BGOUtIJ6unn8DWXvTTqbGoZzSfXPR83g3jgV4AAup9cIVY/1PTUQPmC5CBVrLyqISUwvwvSiSo6B\n",
              "8GlGNAAAB7Ztb292AAAAbG12aGQAAAAAAAAAAAAAAAAAAAPoAABOIAABAAABAAAAAAAAAAAAAAAA\n",
              "AQAAAAAAAAAAAAAAAAAAAAEAAAAAAAAAAAAAAAAAAEAAAAAAAAAAAAAAAAAAAAAAAAAAAAAAAAAA\n",
              "AAAAAAACAAAG4HRyYWsAAABcdGtoZAAAAAMAAAAAAAAAAAAAAAEAAAAAAABOIAAAAAAAAAAAAAAA\n",
              "AAAAAAAAAQAAAAAAAAAAAAAAAAAAAAEAAAAAAAAAAAAAAAAAAEAAAAABsAAAASAAAAAAACRlZHRz\n",
              "AAAAHGVsc3QAAAAAAAAAAQAATiAAABAAAAEAAAAABlhtZGlhAAAAIG1kaGQAAAAAAAAAAAAAAAAA\n",
              "ACgAAAMgAFXEAAAAAAAtaGRscgAAAAAAAAAAdmlkZQAAAAAAAAAAAAAAAFZpZGVvSGFuZGxlcgAA\n",
              "AAYDbWluZgAAABR2bWhkAAAAAQAAAAAAAAAAAAAAJGRpbmYAAAAcZHJlZgAAAAAAAAABAAAADHVy\n",
              "bCAAAAABAAAFw3N0YmwAAACzc3RzZAAAAAAAAAABAAAAo2F2YzEAAAAAAAAAAQAAAAAAAAAAAAAA\n",
              "AAAAAAABsAEgAEgAAABIAAAAAAAAAAEAAAAAAAAAAAAAAAAAAAAAAAAAAAAAAAAAAAAAAAAAAAAY\n",
              "//8AAAAxYXZjQwFkABX/4QAYZ2QAFazZQbCWhAAAAwAEAAADACg8WLZYAQAGaOvjyyLAAAAAHHV1\n",
              "aWRraEDyXyRPxbo5pRvPAyPzAAAAAAAAABhzdHRzAAAAAAAAAAEAAABkAAAIAAAAABRzdHNzAAAA\n",
              "AAAAAAEAAAABAAADCGN0dHMAAAAAAAAAXwAAAAQAABAAAAAAAQAAGAAAAAABAAAIAAAAAAEAABAA\n",
              "AAAAAQAAGAAAAAABAAAIAAAAAAIAABAAAAAAAQAAKAAAAAABAAAQAAAAAAEAAAAAAAAAAQAACAAA\n",
              "AAABAAAoAAAAAAEAABAAAAAAAQAAAAAAAAABAAAIAAAAAAEAACgAAAAAAQAAEAAAAAABAAAAAAAA\n",
              "AAEAAAgAAAAAAQAAKAAAAAABAAAQAAAAAAEAAAAAAAAAAQAACAAAAAABAAAoAAAAAAEAABAAAAAA\n",
              "AQAAAAAAAAABAAAIAAAAAAEAACgAAAAAAQAAEAAAAAABAAAAAAAAAAEAAAgAAAAAAQAAKAAAAAAB\n",
              "AAAQAAAAAAEAAAAAAAAAAQAACAAAAAABAAAoAAAAAAEAABAAAAAAAQAAAAAAAAABAAAIAAAAAAEA\n",
              "ACgAAAAAAQAAEAAAAAABAAAAAAAAAAEAAAgAAAAAAQAAKAAAAAABAAAQAAAAAAEAAAAAAAAAAQAA\n",
              "CAAAAAABAAAoAAAAAAEAABAAAAAAAQAAAAAAAAABAAAIAAAAAAEAACgAAAAAAQAAEAAAAAABAAAA\n",
              "AAAAAAEAAAgAAAAAAQAAKAAAAAABAAAQAAAAAAEAAAAAAAAAAQAACAAAAAABAAAoAAAAAAEAABAA\n",
              "AAAAAQAAAAAAAAABAAAIAAAAAAEAACgAAAAAAQAAEAAAAAABAAAAAAAAAAEAAAgAAAAAAQAAIAAA\n",
              "AAACAAAIAAAAAAEAACgAAAAAAQAAEAAAAAABAAAAAAAAAAEAAAgAAAAAAQAAKAAAAAABAAAQAAAA\n",
              "AAEAAAAAAAAAAQAACAAAAAABAAAoAAAAAAEAABAAAAAAAQAAAAAAAAABAAAIAAAAAAEAACgAAAAA\n",
              "AQAAEAAAAAABAAAAAAAAAAEAAAgAAAAAAQAAKAAAAAABAAAQAAAAAAEAAAAAAAAAAQAACAAAAAAB\n",
              "AAAoAAAAAAEAABAAAAAAAQAAAAAAAAABAAAIAAAAAAEAABgAAAAAAQAACAAAAAAcc3RzYwAAAAAA\n",
              "AAABAAAAAQAAAGQAAAABAAABpHN0c3oAAAAAAAAAAAAAAGQAABTrAAAFXAAAA/EAAAO0AAAEHwAA\n",
              "AI8AAAJfAAADXgAAAHoAAAJmAAAC/gAABCMAAACHAAAAaAAAAEQAAAOdAAAAvwAAAF8AAABNAAAD\n",
              "bwAAAIkAAABVAAAAVAAAA9MAAAB/AAAATgAAAE0AAAMvAAAAXQAAAEUAAAAzAAAC4wAAAG8AAAA6\n",
              "AAAAOAAAAskAAABlAAAASgAAAD8AAAKvAAAAXQAAAD0AAAA3AAADCwAAAFYAAAA2AAAAPQAAAqEA\n",
              "AABgAAAAPwAAAIwAAAKzAAAAWQAAAEMAAAA0AAAC1QAAAGQAAAAvAAAALgAAApoAAABnAAAAOgAA\n",
              "ADsAAALHAAAAWgAAADIAAAAtAAACywAAAHcAAABAAAAAWwAAAioAAABZAAAATQAAAqIAAABwAAAA\n",
              "QgAAAD0AAAInAAAAUAAAADUAAAAtAAACQwAAAFYAAABHAAAAcQAAAa4AAACNAAAASgAAAFcAAAF/\n",
              "AAAAYQAAAF4AAABCAAAA+wAAAEkAAABJAAAAbgAAAFQAAABUAAAAFHN0Y28AAAAAAAAAAQAAACwA\n",
              "AABidWR0YQAAAFptZXRhAAAAAAAAACFoZGxyAAAAAAAAAABtZGlyYXBwbAAAAAAAAAAAAAAAAC1p\n",
              "bHN0AAAAJal0b28AAAAdZGF0YQAAAAEAAAAATGF2ZjU3LjgzLjEwMA==\n",
              "\">\n",
              "  Your browser does not support the video tag.\n",
              "</video>"
            ],
            "text/plain": [
              "<IPython.core.display.HTML object>"
            ]
          },
          "metadata": {
            "tags": []
          },
          "execution_count": 361
        }
      ]
    },
    {
      "cell_type": "code",
      "metadata": {
        "id": "dMUdMtO-UJEX"
      },
      "source": [
        ""
      ],
      "execution_count": null,
      "outputs": []
    }
  ]
}